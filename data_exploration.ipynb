{
 "cells": [
  {
   "cell_type": "markdown",
   "source": [
    "# Data exploration of Yahoo Finance data\n",
    "RAD for feature engineering pipeline."
   ],
   "metadata": {
    "collapsed": false,
    "pycharm": {
     "name": "#%% md\n"
    }
   }
  },
  {
   "cell_type": "code",
   "execution_count": 12,
   "outputs": [],
   "source": [
    "import time\n",
    "\n",
    "import yfinance as yf\n",
    "import pandas as pd\n",
    "from random import randint"
   ],
   "metadata": {
    "collapsed": false,
    "pycharm": {
     "name": "#%%\n"
    }
   }
  },
  {
   "cell_type": "code",
   "execution_count": 13,
   "outputs": [],
   "source": [
    "# If yf.Ticker.info is not working running the command below solves it\n",
    "# pip install yfinance --upgrade --no-cache-dir\n",
    "# How to integrate this in the pipeline? Requirements?\n",
    "\n",
    "\n",
    "test_symbol = 'AAPL'\n",
    "stock = yf.Ticker(test_symbol)"
   ],
   "metadata": {
    "collapsed": false,
    "pycharm": {
     "name": "#%%\n"
    }
   }
  },
  {
   "cell_type": "code",
   "execution_count": 14,
   "outputs": [],
   "source": [
    "def getEarnings(stock):\n",
    "    earn = stock.get_earnings_dates()\n",
    "    if earn is not None:\n",
    "        earn['Earnings Date'] = earn.index.date\n",
    "        earn['Earnings Date'] = pd.to_datetime(earn['Earnings Date'])\n",
    "    return earn"
   ],
   "metadata": {
    "collapsed": false,
    "pycharm": {
     "name": "#%%\n"
    }
   }
  },
  {
   "cell_type": "code",
   "execution_count": 15,
   "outputs": [],
   "source": [
    "# Not needed with yfinance on Python 3.9\n",
    "\n",
    "def parseMonth(month):\n",
    "    \"\"\"\n",
    "    Function to parse the string of a month from the earnings date\n",
    "    :param month: string with the given month\n",
    "    :return: the number corresponding to the month in datetime format\n",
    "    \"\"\"\n",
    "    if month == 'Jan':\n",
    "        return 1\n",
    "    elif month == 'Feb':\n",
    "        return 2\n",
    "    elif month == 'Mar':\n",
    "        return 3\n",
    "    elif month == 'Apr':\n",
    "        return 4\n",
    "    elif month == 'May':\n",
    "        return 5\n",
    "    elif month == 'Jun':\n",
    "        return 6\n",
    "    elif month == 'Jul':\n",
    "        return 7\n",
    "    elif month == 'Aug':\n",
    "        return 8\n",
    "    elif month == 'Sep':\n",
    "        return 9\n",
    "    elif month == 'Oct':\n",
    "        return 10\n",
    "    elif month == 'Nov':\n",
    "        return 11\n",
    "    else:\n",
    "        return 12"
   ],
   "metadata": {
    "collapsed": false,
    "pycharm": {
     "name": "#%%\n"
    }
   }
  },
  {
   "cell_type": "code",
   "execution_count": 16,
   "outputs": [],
   "source": [
    "# Not needed with yfinance on Python 3.9\n",
    "\n",
    "def convertEarningsDate(df):\n",
    "    \"\"\"\n",
    "    Function to convert the earnings date format to datetime\n",
    "    :param df: dataframe containing the earnings history\n",
    "    :return: dataframe updated with the parsed datetime as date\n",
    "    \"\"\"\n",
    "    test = [None]*len(df)\n",
    "    for i in range(len(df)):\n",
    "        temp = df.loc[i, \"Earnings Date\"].split(', ')\n",
    "        temp = [x.strip() for x in temp]\n",
    "        temp = (temp[0] + ' ' + temp[1]).split(' ')\n",
    "        test[i] = [temp[2], parseMonth(temp[0]), temp[1]]\n",
    "    dt = pd.DataFrame(test, columns=['year', 'month', 'day'])\n",
    "    df['Earnings Date'] = pd.to_datetime(dt)\n",
    "    return df"
   ],
   "metadata": {
    "collapsed": false,
    "pycharm": {
     "name": "#%%\n"
    }
   }
  },
  {
   "cell_type": "code",
   "execution_count": 17,
   "outputs": [],
   "source": [
    "def getHistory(symbol, stock, period='1mo', interval='15m'):\n",
    "    \"\"\"\n",
    "    Function to retrieve the price history of the stock and parse its date\n",
    "    :param stock: yfinance ticker object\n",
    "    :param period: the period over which data should be collected\n",
    "    :param interval: the interval for data points\n",
    "    :return: history dataframe with additional columns\n",
    "    \"\"\"\n",
    "    hist = stock.history(period = period, interval = interval)\n",
    "    hist['company'] = symbol\n",
    "    hist['date'] = hist.index.date\n",
    "    hist['date'] = pd.to_datetime(hist['date'])\n",
    "    hist['Diff'] = hist['Close'] - hist['Open']\n",
    "    return hist"
   ],
   "metadata": {
    "collapsed": false,
    "pycharm": {
     "name": "#%%\n"
    }
   }
  },
  {
   "cell_type": "code",
   "execution_count": 18,
   "outputs": [],
   "source": [
    "def getRelEarnings(e_df, hist_df):\n",
    "    \"\"\"\n",
    "    Finds the earnings data which is relevant for the given history time frame\n",
    "    :param e_df: earnings dataframe\n",
    "    :param hist_df: history dataframe\n",
    "    :return: relevant dates dataframe\n",
    "    \"\"\"\n",
    "    e_df.reset_index(inplace=True, drop=True)\n",
    "    minmax = hist_df['date'].agg(['min', 'max'])\n",
    "    last_er_idx = e_df[e_df['Earnings Date'] <= minmax['min']].index[0]\n",
    "    first_er_idx = e_df[e_df['Earnings Date'] <= minmax['max']].index[0]\n",
    "    relevant_earnings = e_df[first_er_idx:last_er_idx+1].reset_index(drop=True)\n",
    "    return relevant_earnings\n",
    "\n",
    "def fillEarnings(current, hist_df, idx_in):\n",
    "    \"\"\"\n",
    "    Function to fill the earnings columns into the history\n",
    "    :param current: dataframe holding the earnings data for the selected indices\n",
    "    :param hist_df: history dataframe\n",
    "    :param idx_in: relevant indices on the history dataframe to fill the earnings data for\n",
    "    :return: history dataframe with the earnings added for the given indices\n",
    "    \"\"\"\n",
    "    hist_df.loc[idx_in, 'EPS Estimate'] = current['EPS Estimate']\n",
    "    hist_df.loc[idx_in, 'Reported EPS'] = current['Reported EPS']\n",
    "    hist_df.loc[idx_in, 'Offset'] = current['Surprise(%)']\n",
    "    hist_df.loc[idx_in, 'Earnings'] = current['Earnings Date']\n",
    "    return hist_df\n",
    "\n",
    "\n",
    "def getHistWithEarnings(relevant_earnings, hist_df):\n",
    "    \"\"\"\n",
    "    Function to add the corresponding earnings data to the days for which the data was known.\n",
    "    :param relevant_earnings: The earnings columns which are relevant for the given history time frame\n",
    "    :param hist_df: The history dataframe\n",
    "    :return: History with added columns for each of the relevant earnings\n",
    "    \"\"\"\n",
    "    for idx in reversed(relevant_earnings.index):\n",
    "        if idx>0:\n",
    "            current = relevant_earnings.iloc[idx]\n",
    "            next = relevant_earnings.iloc[idx-1]\n",
    "            idx_in = hist_df[(hist_df['date'] >= current['Earnings Date']) &\n",
    "                             (hist_df['date'] < next['Earnings Date'])].index\n",
    "            hist_df = fillEarnings(current, hist_df, idx_in)\n",
    "        else:\n",
    "            current = relevant_earnings.iloc[idx]\n",
    "            idx_in = hist_df[(hist_df['date'] >= current['Earnings Date'])].index\n",
    "            hist_df = fillEarnings(current, hist_df, idx_in)\n",
    "    return hist_df\n",
    "\n",
    "def dropIrrelevant(hist_df: pd.DataFrame):\n",
    "    labels = ['']\n",
    "    return hist_df.drop(labels, axis=1)\n",
    "\n"
   ],
   "metadata": {
    "collapsed": false,
    "pycharm": {
     "name": "#%%\n"
    }
   }
  },
  {
   "cell_type": "code",
   "execution_count": 19,
   "outputs": [],
   "source": [
    "def stockToCSV(symbol, period='1mo', interval='15m'):\n",
    "    \"\"\"\n",
    "    Functions to write stock information to CSV\n",
    "    :param symbol: ticker symbol of the company\n",
    "    :param period: over what time period the history data should be taken\n",
    "    :param interval: how often a sample is taken over the period\n",
    "    :return:\n",
    "    \"\"\"\n",
    "    stock = yf.Ticker(symbol)\n",
    "    earnings = getEarnings(stock)\n",
    "    # earnings = convertEarningsDate(earnings)\n",
    "    hist = getHistory(symbol, stock, period=period, interval=interval)\n",
    "    rel_earnings = getRelEarnings(earnings, hist)\n",
    "    hist = getHistWithEarnings(rel_earnings, hist)\n",
    "    hist.to_csv('./data/' + symbol)\n",
    "\n",
    "def stockToDf(symbol, earnings, period='1mo', interval='15m'):\n",
    "    \"\"\"\n",
    "    Functions to write stock information to CSV\n",
    "    :param symbol: ticker symbol of the company\n",
    "    :param earnings: dataframe containing the respective earnings\n",
    "    :param period: over what time period the history data should be taken\n",
    "    :param interval: how often a sample is taken over the period\n",
    "    :return:\n",
    "    \"\"\"\n",
    "    stock = yf.Ticker(symbol)\n",
    "    # earnings = getEarnings(stock)\n",
    "    # earnings = convertEarningsDate(earnings)\n",
    "    hist = getHistory(symbol, stock, period=period, interval=interval)\n",
    "    rel_earnings = getRelEarnings(earnings, hist)\n",
    "    hist = getHistWithEarnings(rel_earnings, hist)\n",
    "    return hist\n",
    "\n",
    "def getStocks():\n",
    "    \"\"\"\n",
    "    Get all stock symbols listed on Nasdaq\n",
    "    :return: list with symbols\n",
    "    \"\"\"\n",
    "    df = pd.read_table('http://www.nasdaqtrader.com/dynamic/symdir/nasdaqlisted.txt')\n",
    "    # local run\n",
    "    # df = pd.read_table('tickers.txt')\n",
    "    symbols = [None]*len(df)\n",
    "    for idx, line in df.iterrows():\n",
    "        symbols[idx] = line[0].split('|')[0]\n",
    "    return symbols\n",
    "\n",
    "def selectStocks(stocks, n):\n",
    "    \"\"\"\n",
    "    Select n random stocks from the list\n",
    "    :param stocks: list of company symbols\n",
    "    :param n: number of companies to select\n",
    "    :return: selected symbols\n",
    "    \"\"\"\n",
    "    idxs = []\n",
    "    selected = [None]*n\n",
    "    earnings = [None]*n\n",
    "    counter = 0\n",
    "    while len(idxs) < n:\n",
    "        temp_int = randint(0, len(stocks))\n",
    "        if temp_int not in idxs:\n",
    "            earn = getEarnings(yf.Ticker(stocks[temp_int]))\n",
    "            if earn is not None:\n",
    "                idxs.append(temp_int)\n",
    "                selected[counter] = stocks[temp_int]\n",
    "                earnings[counter] = earn\n",
    "                counter += 1\n",
    "    return selected, earnings\n",
    "\n",
    "def selectAll(stocks):\n",
    "    \"\"\"\n",
    "    Select all stocks which have enough data on yfinance listed on the Nasdaq list\n",
    "    :param stocks: list of company symbols fom Nasdaq\n",
    "    :return: current symbols\n",
    "    \"\"\"\n",
    "    selected = []\n",
    "    earnings = []\n",
    "    for stock in stocks:\n",
    "        try:\n",
    "            temp = getEarnings(yf.Ticker(stock))\n",
    "        except:\n",
    "            print('error loading the stock')\n",
    "        if temp is not None:\n",
    "            selected.append(stock)\n",
    "            earnings.append(temp)\n",
    "    return selected, earnings\n"
   ],
   "metadata": {
    "collapsed": false,
    "pycharm": {
     "name": "#%%\n"
    }
   }
  },
  {
   "cell_type": "code",
   "execution_count": 20,
   "outputs": [],
   "source": [
    "# PARAMETERS FOR RUN\n",
    "ALL_STOCKS = False\n",
    "N = 50\n",
    "ONE_CSV = True\n",
    "\n",
    "def runAll(n):\n",
    "    stocks = getStocks()\n",
    "    if ALL_STOCKS:\n",
    "        selected, earnings = selectAll(stocks)\n",
    "    else:\n",
    "        selected, earnings = selectStocks(stocks, n)\n",
    "    if ONE_CSV:\n",
    "        df = pd.DataFrame()\n",
    "        for idx, stock in enumerate(selected):\n",
    "            df = df.append(stockToDf(selected[idx], earnings[idx]))\n",
    "        df.to_csv('data/fullset.csv')\n",
    "    else:\n",
    "        for stock in selected:\n",
    "            stockToCSV(stock)\n",
    "\n",
    "# while not succeeded, try except"
   ],
   "metadata": {
    "collapsed": false,
    "pycharm": {
     "name": "#%%\n"
    }
   }
  },
  {
   "cell_type": "code",
   "execution_count": 21,
   "outputs": [
    {
     "name": "stdout",
     "output_type": "stream",
     "text": [
      "- PONOW: No earnings dates found, symbol may be delisted\n",
      "- WALDW: No earnings dates found, symbol may be delisted\n",
      "- ASCB: No earnings dates found, symbol may be delisted\n",
      "- SOCL: No earnings dates found, symbol may be delisted\n",
      "- ADXN: No earnings dates found, symbol may be delisted\n",
      "- PETWW: No earnings dates found, symbol may be delisted\n",
      "- PEGR: No earnings dates found, symbol may be delisted\n",
      "- BCAN: No earnings dates found, symbol may be delisted\n",
      "- IJT: No earnings dates found, symbol may be delisted\n",
      "- EDTK: No earnings dates found, symbol may be delisted\n",
      "- VONG: No earnings dates found, symbol may be delisted\n",
      "- RFAC: No earnings dates found, symbol may be delisted\n",
      "- ALTUU: No earnings dates found, symbol may be delisted\n",
      "- BRKHU: No earnings dates found, symbol may be delisted\n",
      "- PEGR: No earnings dates found, symbol may be delisted\n",
      "- FTXO: No earnings dates found, symbol may be delisted\n",
      "- HCVIU: No earnings dates found, symbol may be delisted\n",
      "- UTAAW: No earnings dates found, symbol may be delisted\n",
      "- BLDEW: No earnings dates found, symbol may be delisted\n",
      "- QOMO: No earnings dates found, symbol may be delisted\n",
      "- MFLX: No earnings dates found, symbol may be delisted\n",
      "- JUGG: No earnings dates found, symbol may be delisted\n",
      "- MVSTW: No earnings dates found, symbol may be delisted\n",
      "- ADOC: No earnings dates found, symbol may be delisted\n",
      "- EVGOW: No earnings dates found, symbol may be delisted\n",
      "- NPABU: No earnings dates found, symbol may be delisted\n",
      "- PSCU: No earnings dates found, symbol may be delisted\n",
      "- LITT: No earnings dates found, symbol may be delisted\n",
      "- ZAZZT: No earnings dates found, symbol may be delisted\n",
      "- SKYAW: No earnings dates found, symbol may be delisted\n",
      "- MAQCW: No earnings dates found, symbol may be delisted\n",
      "- UONE: No earnings dates found, symbol may be delisted\n",
      "- BRLIR: No earnings dates found, symbol may be delisted\n",
      "- FRZA: No earnings dates found, symbol may be delisted\n",
      "- XPDB: No earnings dates found, symbol may be delisted\n",
      "- FBL: No earnings dates found, symbol may be delisted\n",
      "- VIVK: No earnings dates found, symbol may be delisted\n",
      "- CEADW: No earnings dates found, symbol may be delisted\n",
      "- OABIW: No earnings dates found, symbol may be delisted\n",
      "- PTOCU: No earnings dates found, symbol may be delisted\n",
      "- ATLCL: No earnings dates found, symbol may be delisted\n",
      "- SKGRU: No earnings dates found, symbol may be delisted\n",
      "- CNXA: No earnings dates found, symbol may be delisted\n",
      "- LMDXW: No earnings dates found, symbol may be delisted\n",
      "- GEHCV: No earnings dates found, symbol may be delisted\n",
      "- SDACW: No earnings dates found, symbol may be delisted\n",
      "- GMBLZ: No earnings dates found, symbol may be delisted\n",
      "- GSDWW: No earnings dates found, symbol may be delisted\n"
     ]
    },
    {
     "name": "stderr",
     "output_type": "stream",
     "text": [
      "C:\\Users\\alexa\\AppData\\Local\\Temp\\ipykernel_21756\\1173002654.py:15: FutureWarning: The frame.append method is deprecated and will be removed from pandas in a future version. Use pandas.concat instead.\n",
      "  df = df.append(stockToDf(selected[idx], earnings[idx]))\n",
      "C:\\Users\\alexa\\AppData\\Local\\Temp\\ipykernel_21756\\1173002654.py:15: FutureWarning: The frame.append method is deprecated and will be removed from pandas in a future version. Use pandas.concat instead.\n",
      "  df = df.append(stockToDf(selected[idx], earnings[idx]))\n",
      "C:\\Users\\alexa\\AppData\\Local\\Temp\\ipykernel_21756\\1173002654.py:15: FutureWarning: The frame.append method is deprecated and will be removed from pandas in a future version. Use pandas.concat instead.\n",
      "  df = df.append(stockToDf(selected[idx], earnings[idx]))\n",
      "C:\\Users\\alexa\\AppData\\Local\\Temp\\ipykernel_21756\\1173002654.py:15: FutureWarning: The frame.append method is deprecated and will be removed from pandas in a future version. Use pandas.concat instead.\n",
      "  df = df.append(stockToDf(selected[idx], earnings[idx]))\n",
      "C:\\Users\\alexa\\AppData\\Local\\Temp\\ipykernel_21756\\1173002654.py:15: FutureWarning: The frame.append method is deprecated and will be removed from pandas in a future version. Use pandas.concat instead.\n",
      "  df = df.append(stockToDf(selected[idx], earnings[idx]))\n",
      "C:\\Users\\alexa\\AppData\\Local\\Temp\\ipykernel_21756\\1173002654.py:15: FutureWarning: The frame.append method is deprecated and will be removed from pandas in a future version. Use pandas.concat instead.\n",
      "  df = df.append(stockToDf(selected[idx], earnings[idx]))\n",
      "C:\\Users\\alexa\\AppData\\Local\\Temp\\ipykernel_21756\\1173002654.py:15: FutureWarning: The frame.append method is deprecated and will be removed from pandas in a future version. Use pandas.concat instead.\n",
      "  df = df.append(stockToDf(selected[idx], earnings[idx]))\n",
      "C:\\Users\\alexa\\AppData\\Local\\Temp\\ipykernel_21756\\1173002654.py:15: FutureWarning: The frame.append method is deprecated and will be removed from pandas in a future version. Use pandas.concat instead.\n",
      "  df = df.append(stockToDf(selected[idx], earnings[idx]))\n",
      "C:\\Users\\alexa\\AppData\\Local\\Temp\\ipykernel_21756\\1173002654.py:15: FutureWarning: The frame.append method is deprecated and will be removed from pandas in a future version. Use pandas.concat instead.\n",
      "  df = df.append(stockToDf(selected[idx], earnings[idx]))\n",
      "C:\\Users\\alexa\\AppData\\Local\\Temp\\ipykernel_21756\\1173002654.py:15: FutureWarning: The frame.append method is deprecated and will be removed from pandas in a future version. Use pandas.concat instead.\n",
      "  df = df.append(stockToDf(selected[idx], earnings[idx]))\n",
      "C:\\Users\\alexa\\AppData\\Local\\Temp\\ipykernel_21756\\1173002654.py:15: FutureWarning: The frame.append method is deprecated and will be removed from pandas in a future version. Use pandas.concat instead.\n",
      "  df = df.append(stockToDf(selected[idx], earnings[idx]))\n",
      "C:\\Users\\alexa\\AppData\\Local\\Temp\\ipykernel_21756\\1173002654.py:15: FutureWarning: The frame.append method is deprecated and will be removed from pandas in a future version. Use pandas.concat instead.\n",
      "  df = df.append(stockToDf(selected[idx], earnings[idx]))\n",
      "C:\\Users\\alexa\\AppData\\Local\\Temp\\ipykernel_21756\\1173002654.py:15: FutureWarning: The frame.append method is deprecated and will be removed from pandas in a future version. Use pandas.concat instead.\n",
      "  df = df.append(stockToDf(selected[idx], earnings[idx]))\n",
      "C:\\Users\\alexa\\AppData\\Local\\Temp\\ipykernel_21756\\1173002654.py:15: FutureWarning: The frame.append method is deprecated and will be removed from pandas in a future version. Use pandas.concat instead.\n",
      "  df = df.append(stockToDf(selected[idx], earnings[idx]))\n",
      "C:\\Users\\alexa\\AppData\\Local\\Temp\\ipykernel_21756\\1173002654.py:15: FutureWarning: The frame.append method is deprecated and will be removed from pandas in a future version. Use pandas.concat instead.\n",
      "  df = df.append(stockToDf(selected[idx], earnings[idx]))\n",
      "C:\\Users\\alexa\\AppData\\Local\\Temp\\ipykernel_21756\\1173002654.py:15: FutureWarning: The frame.append method is deprecated and will be removed from pandas in a future version. Use pandas.concat instead.\n",
      "  df = df.append(stockToDf(selected[idx], earnings[idx]))\n",
      "C:\\Users\\alexa\\AppData\\Local\\Temp\\ipykernel_21756\\1173002654.py:15: FutureWarning: The frame.append method is deprecated and will be removed from pandas in a future version. Use pandas.concat instead.\n",
      "  df = df.append(stockToDf(selected[idx], earnings[idx]))\n",
      "C:\\Users\\alexa\\AppData\\Local\\Temp\\ipykernel_21756\\1173002654.py:15: FutureWarning: The frame.append method is deprecated and will be removed from pandas in a future version. Use pandas.concat instead.\n",
      "  df = df.append(stockToDf(selected[idx], earnings[idx]))\n",
      "C:\\Users\\alexa\\AppData\\Local\\Temp\\ipykernel_21756\\1173002654.py:15: FutureWarning: The frame.append method is deprecated and will be removed from pandas in a future version. Use pandas.concat instead.\n",
      "  df = df.append(stockToDf(selected[idx], earnings[idx]))\n",
      "C:\\Users\\alexa\\AppData\\Local\\Temp\\ipykernel_21756\\1173002654.py:15: FutureWarning: The frame.append method is deprecated and will be removed from pandas in a future version. Use pandas.concat instead.\n",
      "  df = df.append(stockToDf(selected[idx], earnings[idx]))\n",
      "C:\\Users\\alexa\\AppData\\Local\\Temp\\ipykernel_21756\\1173002654.py:15: FutureWarning: The frame.append method is deprecated and will be removed from pandas in a future version. Use pandas.concat instead.\n",
      "  df = df.append(stockToDf(selected[idx], earnings[idx]))\n",
      "C:\\Users\\alexa\\AppData\\Local\\Temp\\ipykernel_21756\\1173002654.py:15: FutureWarning: The frame.append method is deprecated and will be removed from pandas in a future version. Use pandas.concat instead.\n",
      "  df = df.append(stockToDf(selected[idx], earnings[idx]))\n",
      "C:\\Users\\alexa\\AppData\\Local\\Temp\\ipykernel_21756\\1173002654.py:15: FutureWarning: The frame.append method is deprecated and will be removed from pandas in a future version. Use pandas.concat instead.\n",
      "  df = df.append(stockToDf(selected[idx], earnings[idx]))\n",
      "C:\\Users\\alexa\\AppData\\Local\\Temp\\ipykernel_21756\\1173002654.py:15: FutureWarning: The frame.append method is deprecated and will be removed from pandas in a future version. Use pandas.concat instead.\n",
      "  df = df.append(stockToDf(selected[idx], earnings[idx]))\n",
      "C:\\Users\\alexa\\AppData\\Local\\Temp\\ipykernel_21756\\1173002654.py:15: FutureWarning: The frame.append method is deprecated and will be removed from pandas in a future version. Use pandas.concat instead.\n",
      "  df = df.append(stockToDf(selected[idx], earnings[idx]))\n",
      "C:\\Users\\alexa\\AppData\\Local\\Temp\\ipykernel_21756\\1173002654.py:15: FutureWarning: The frame.append method is deprecated and will be removed from pandas in a future version. Use pandas.concat instead.\n",
      "  df = df.append(stockToDf(selected[idx], earnings[idx]))\n",
      "C:\\Users\\alexa\\AppData\\Local\\Temp\\ipykernel_21756\\1173002654.py:15: FutureWarning: The frame.append method is deprecated and will be removed from pandas in a future version. Use pandas.concat instead.\n",
      "  df = df.append(stockToDf(selected[idx], earnings[idx]))\n",
      "C:\\Users\\alexa\\AppData\\Local\\Temp\\ipykernel_21756\\1173002654.py:15: FutureWarning: The frame.append method is deprecated and will be removed from pandas in a future version. Use pandas.concat instead.\n",
      "  df = df.append(stockToDf(selected[idx], earnings[idx]))\n",
      "C:\\Users\\alexa\\AppData\\Local\\Temp\\ipykernel_21756\\1173002654.py:15: FutureWarning: The frame.append method is deprecated and will be removed from pandas in a future version. Use pandas.concat instead.\n",
      "  df = df.append(stockToDf(selected[idx], earnings[idx]))\n",
      "C:\\Users\\alexa\\AppData\\Local\\Temp\\ipykernel_21756\\1173002654.py:15: FutureWarning: The frame.append method is deprecated and will be removed from pandas in a future version. Use pandas.concat instead.\n",
      "  df = df.append(stockToDf(selected[idx], earnings[idx]))\n",
      "C:\\Users\\alexa\\AppData\\Local\\Temp\\ipykernel_21756\\1173002654.py:15: FutureWarning: The frame.append method is deprecated and will be removed from pandas in a future version. Use pandas.concat instead.\n",
      "  df = df.append(stockToDf(selected[idx], earnings[idx]))\n",
      "C:\\Users\\alexa\\AppData\\Local\\Temp\\ipykernel_21756\\1173002654.py:15: FutureWarning: The frame.append method is deprecated and will be removed from pandas in a future version. Use pandas.concat instead.\n",
      "  df = df.append(stockToDf(selected[idx], earnings[idx]))\n",
      "C:\\Users\\alexa\\AppData\\Local\\Temp\\ipykernel_21756\\1173002654.py:15: FutureWarning: The frame.append method is deprecated and will be removed from pandas in a future version. Use pandas.concat instead.\n",
      "  df = df.append(stockToDf(selected[idx], earnings[idx]))\n",
      "C:\\Users\\alexa\\AppData\\Local\\Temp\\ipykernel_21756\\1173002654.py:15: FutureWarning: The frame.append method is deprecated and will be removed from pandas in a future version. Use pandas.concat instead.\n",
      "  df = df.append(stockToDf(selected[idx], earnings[idx]))\n",
      "C:\\Users\\alexa\\AppData\\Local\\Temp\\ipykernel_21756\\1173002654.py:15: FutureWarning: The frame.append method is deprecated and will be removed from pandas in a future version. Use pandas.concat instead.\n",
      "  df = df.append(stockToDf(selected[idx], earnings[idx]))\n",
      "C:\\Users\\alexa\\AppData\\Local\\Temp\\ipykernel_21756\\1173002654.py:15: FutureWarning: The frame.append method is deprecated and will be removed from pandas in a future version. Use pandas.concat instead.\n",
      "  df = df.append(stockToDf(selected[idx], earnings[idx]))\n",
      "C:\\Users\\alexa\\AppData\\Local\\Temp\\ipykernel_21756\\1173002654.py:15: FutureWarning: The frame.append method is deprecated and will be removed from pandas in a future version. Use pandas.concat instead.\n",
      "  df = df.append(stockToDf(selected[idx], earnings[idx]))\n",
      "C:\\Users\\alexa\\AppData\\Local\\Temp\\ipykernel_21756\\1173002654.py:15: FutureWarning: The frame.append method is deprecated and will be removed from pandas in a future version. Use pandas.concat instead.\n",
      "  df = df.append(stockToDf(selected[idx], earnings[idx]))\n",
      "C:\\Users\\alexa\\AppData\\Local\\Temp\\ipykernel_21756\\1173002654.py:15: FutureWarning: The frame.append method is deprecated and will be removed from pandas in a future version. Use pandas.concat instead.\n",
      "  df = df.append(stockToDf(selected[idx], earnings[idx]))\n",
      "C:\\Users\\alexa\\AppData\\Local\\Temp\\ipykernel_21756\\1173002654.py:15: FutureWarning: The frame.append method is deprecated and will be removed from pandas in a future version. Use pandas.concat instead.\n",
      "  df = df.append(stockToDf(selected[idx], earnings[idx]))\n",
      "C:\\Users\\alexa\\AppData\\Local\\Temp\\ipykernel_21756\\1173002654.py:15: FutureWarning: The frame.append method is deprecated and will be removed from pandas in a future version. Use pandas.concat instead.\n",
      "  df = df.append(stockToDf(selected[idx], earnings[idx]))\n",
      "C:\\Users\\alexa\\AppData\\Local\\Temp\\ipykernel_21756\\1173002654.py:15: FutureWarning: The frame.append method is deprecated and will be removed from pandas in a future version. Use pandas.concat instead.\n",
      "  df = df.append(stockToDf(selected[idx], earnings[idx]))\n",
      "C:\\Users\\alexa\\AppData\\Local\\Temp\\ipykernel_21756\\1173002654.py:15: FutureWarning: The frame.append method is deprecated and will be removed from pandas in a future version. Use pandas.concat instead.\n",
      "  df = df.append(stockToDf(selected[idx], earnings[idx]))\n",
      "C:\\Users\\alexa\\AppData\\Local\\Temp\\ipykernel_21756\\1173002654.py:15: FutureWarning: The frame.append method is deprecated and will be removed from pandas in a future version. Use pandas.concat instead.\n",
      "  df = df.append(stockToDf(selected[idx], earnings[idx]))\n",
      "C:\\Users\\alexa\\AppData\\Local\\Temp\\ipykernel_21756\\1173002654.py:15: FutureWarning: The frame.append method is deprecated and will be removed from pandas in a future version. Use pandas.concat instead.\n",
      "  df = df.append(stockToDf(selected[idx], earnings[idx]))\n",
      "C:\\Users\\alexa\\AppData\\Local\\Temp\\ipykernel_21756\\1173002654.py:15: FutureWarning: The frame.append method is deprecated and will be removed from pandas in a future version. Use pandas.concat instead.\n",
      "  df = df.append(stockToDf(selected[idx], earnings[idx]))\n",
      "C:\\Users\\alexa\\AppData\\Local\\Temp\\ipykernel_21756\\1173002654.py:15: FutureWarning: The frame.append method is deprecated and will be removed from pandas in a future version. Use pandas.concat instead.\n",
      "  df = df.append(stockToDf(selected[idx], earnings[idx]))\n",
      "C:\\Users\\alexa\\AppData\\Local\\Temp\\ipykernel_21756\\1173002654.py:15: FutureWarning: The frame.append method is deprecated and will be removed from pandas in a future version. Use pandas.concat instead.\n",
      "  df = df.append(stockToDf(selected[idx], earnings[idx]))\n",
      "C:\\Users\\alexa\\AppData\\Local\\Temp\\ipykernel_21756\\1173002654.py:15: FutureWarning: The frame.append method is deprecated and will be removed from pandas in a future version. Use pandas.concat instead.\n",
      "  df = df.append(stockToDf(selected[idx], earnings[idx]))\n",
      "C:\\Users\\alexa\\AppData\\Local\\Temp\\ipykernel_21756\\1173002654.py:15: FutureWarning: The frame.append method is deprecated and will be removed from pandas in a future version. Use pandas.concat instead.\n",
      "  df = df.append(stockToDf(selected[idx], earnings[idx]))\n"
     ]
    }
   ],
   "source": [
    "runAll(N)"
   ],
   "metadata": {
    "collapsed": false,
    "pycharm": {
     "name": "#%%\n"
    }
   }
  },
  {
   "cell_type": "code",
   "execution_count": 22,
   "outputs": [
    {
     "name": "stdout",
     "output_type": "stream",
     "text": [
      "                           EPS Estimate  Reported EPS  Surprise(%)\n",
      "Earnings Date                                                     \n",
      "2022-12-06 23:00:00-05:00           NaN           NaN          NaN\n",
      "2022-08-24 01:00:00-04:00         -0.21          0.28       2.3333\n",
      "2022-06-01 02:00:00-04:00           NaN           NaN          NaN\n",
      "2022-03-29 01:00:00-04:00           NaN          0.48          NaN\n",
      "2021-12-08 23:00:00-05:00         -0.75         -0.64       0.1523\n",
      "2021-08-24 01:00:00-04:00         -0.78         -0.76       0.0256\n",
      "2021-06-01 01:00:00-04:00         -0.71         -0.92      -0.2958\n",
      "2021-04-15 03:00:00-04:00         -0.59         -1.96      -2.3333\n",
      "2020-11-30 01:00:00-05:00         -0.39         -0.20       0.4822\n",
      "2020-08-31 02:00:00-04:00         -1.10         -1.62      -0.4800\n",
      "2020-05-26 01:00:00-04:00         -1.93         -2.05      -0.0654\n",
      "2020-03-11 02:00:00-04:00          2.23          1.67      -0.2493\n",
      "                           EPS Estimate  Reported EPS  Surprise(%)\n",
      "Earnings Date                                                     \n",
      "2023-10-25 06:00:00-04:00           NaN           NaN          NaN\n",
      "2023-07-26 16:00:00-04:00           NaN           NaN          NaN\n",
      "2023-04-26 06:00:00-04:00           NaN           NaN          NaN\n",
      "2023-01-25 05:00:00-05:00          1.98           NaN          NaN\n",
      "2022-10-27 12:00:00-04:00          1.27          1.29       0.0157\n",
      "2022-07-28 12:00:00-04:00          1.16          1.20       0.0327\n",
      "2022-04-28 12:00:00-04:00          1.43          1.52       0.0644\n",
      "2022-01-27 11:00:00-05:00          1.89          2.10       0.1117\n",
      "2021-10-28 12:00:00-04:00          1.24          1.24       0.0032\n",
      "2021-07-27 12:00:00-04:00          1.01          1.30       0.2910\n",
      "2021-04-28 12:00:00-04:00          0.99          1.40       0.4184\n",
      "2021-01-27 11:00:00-05:00          1.41          1.68       0.1898\n",
      "3.6527867317199707\n"
     ]
    }
   ],
   "source": [
    "import time\n",
    "st = time.time()\n",
    "print(yf.Ticker('KRKR').get_earnings_dates())\n",
    "print(yf.Ticker('AAPL').get_earnings_dates())\n",
    "ed = time.time()\n",
    "print(ed - st)"
   ],
   "metadata": {
    "collapsed": false,
    "pycharm": {
     "name": "#%%\n"
    }
   }
  },
  {
   "cell_type": "code",
   "execution_count": 23,
   "outputs": [
    {
     "data": {
      "text/plain": "                                Open       High        Low      Close  Volume  \\\nDatetime                                                                        \n2022-11-30 09:30:00-05:00  28.299999  28.500000  27.900000  28.049999  305982   \n2022-11-30 09:45:00-05:00  28.215000  28.215000  28.215000  28.215000     759   \n2022-11-30 10:00:00-05:00  28.100000  28.129999  28.010000  28.010000    1343   \n2022-11-30 10:15:00-05:00  27.830000  27.980000  27.129999  27.459999    9895   \n2022-11-30 10:30:00-05:00  27.465000  27.760000  27.465000  27.700001    6754   \n...                              ...        ...        ...        ...     ...   \n2022-12-30 15:00:00-05:00  30.885000  31.000000  30.885000  30.980000    3431   \n2022-12-30 15:15:00-05:00  31.000000  31.010000  30.990000  31.000000    3079   \n2022-12-30 15:30:00-05:00  31.000000  31.004999  30.959999  30.969999    9266   \n2022-12-30 15:45:00-05:00  31.000000  31.040001  30.889999  30.969999   41125   \n2022-12-30 16:00:00-05:00  30.990000  30.990000  30.990000  30.990000       0   \n\n                           Dividends  Stock Splits company       date  \\\nDatetime                                                                \n2022-11-30 09:30:00-05:00        0.0           0.0    ANAB 2022-11-30   \n2022-11-30 09:45:00-05:00        0.0           0.0    ANAB 2022-11-30   \n2022-11-30 10:00:00-05:00        0.0           0.0    ANAB 2022-11-30   \n2022-11-30 10:15:00-05:00        0.0           0.0    ANAB 2022-11-30   \n2022-11-30 10:30:00-05:00        0.0           0.0    ANAB 2022-11-30   \n...                              ...           ...     ...        ...   \n2022-12-30 15:00:00-05:00        0.0           0.0    ANAB 2022-12-30   \n2022-12-30 15:15:00-05:00        0.0           0.0    ANAB 2022-12-30   \n2022-12-30 15:30:00-05:00        0.0           0.0    ANAB 2022-12-30   \n2022-12-30 15:45:00-05:00        0.0           0.0    ANAB 2022-12-30   \n2022-12-30 16:00:00-05:00        0.0           0.0    ANAB 2022-12-30   \n\n                               Diff  EPS Estimate  Reported EPS  Offset  \\\nDatetime                                                                  \n2022-11-30 09:30:00-05:00 -0.250000         -0.72         -1.18 -0.6321   \n2022-11-30 09:45:00-05:00  0.000000         -0.72         -1.18 -0.6321   \n2022-11-30 10:00:00-05:00 -0.090000         -0.72         -1.18 -0.6321   \n2022-11-30 10:15:00-05:00 -0.370001         -0.72         -1.18 -0.6321   \n2022-11-30 10:30:00-05:00  0.235001         -0.72         -1.18 -0.6321   \n...                             ...           ...           ...     ...   \n2022-12-30 15:00:00-05:00  0.094999         -0.72         -1.18 -0.6321   \n2022-12-30 15:15:00-05:00  0.000000         -0.72         -1.18 -0.6321   \n2022-12-30 15:30:00-05:00 -0.030001         -0.72         -1.18 -0.6321   \n2022-12-30 15:45:00-05:00 -0.030001         -0.72         -1.18 -0.6321   \n2022-12-30 16:00:00-05:00  0.000000         -0.72         -1.18 -0.6321   \n\n                            Earnings  \nDatetime                              \n2022-11-30 09:30:00-05:00 2022-11-08  \n2022-11-30 09:45:00-05:00 2022-11-08  \n2022-11-30 10:00:00-05:00 2022-11-08  \n2022-11-30 10:15:00-05:00 2022-11-08  \n2022-11-30 10:30:00-05:00 2022-11-08  \n...                              ...  \n2022-12-30 15:00:00-05:00 2022-11-08  \n2022-12-30 15:15:00-05:00 2022-11-08  \n2022-12-30 15:30:00-05:00 2022-11-08  \n2022-12-30 15:45:00-05:00 2022-11-08  \n2022-12-30 16:00:00-05:00 2022-11-08  \n\n[545 rows x 14 columns]",
      "text/html": "<div>\n<style scoped>\n    .dataframe tbody tr th:only-of-type {\n        vertical-align: middle;\n    }\n\n    .dataframe tbody tr th {\n        vertical-align: top;\n    }\n\n    .dataframe thead th {\n        text-align: right;\n    }\n</style>\n<table border=\"1\" class=\"dataframe\">\n  <thead>\n    <tr style=\"text-align: right;\">\n      <th></th>\n      <th>Open</th>\n      <th>High</th>\n      <th>Low</th>\n      <th>Close</th>\n      <th>Volume</th>\n      <th>Dividends</th>\n      <th>Stock Splits</th>\n      <th>company</th>\n      <th>date</th>\n      <th>Diff</th>\n      <th>EPS Estimate</th>\n      <th>Reported EPS</th>\n      <th>Offset</th>\n      <th>Earnings</th>\n    </tr>\n    <tr>\n      <th>Datetime</th>\n      <th></th>\n      <th></th>\n      <th></th>\n      <th></th>\n      <th></th>\n      <th></th>\n      <th></th>\n      <th></th>\n      <th></th>\n      <th></th>\n      <th></th>\n      <th></th>\n      <th></th>\n      <th></th>\n    </tr>\n  </thead>\n  <tbody>\n    <tr>\n      <th>2022-11-30 09:30:00-05:00</th>\n      <td>28.299999</td>\n      <td>28.500000</td>\n      <td>27.900000</td>\n      <td>28.049999</td>\n      <td>305982</td>\n      <td>0.0</td>\n      <td>0.0</td>\n      <td>ANAB</td>\n      <td>2022-11-30</td>\n      <td>-0.250000</td>\n      <td>-0.72</td>\n      <td>-1.18</td>\n      <td>-0.6321</td>\n      <td>2022-11-08</td>\n    </tr>\n    <tr>\n      <th>2022-11-30 09:45:00-05:00</th>\n      <td>28.215000</td>\n      <td>28.215000</td>\n      <td>28.215000</td>\n      <td>28.215000</td>\n      <td>759</td>\n      <td>0.0</td>\n      <td>0.0</td>\n      <td>ANAB</td>\n      <td>2022-11-30</td>\n      <td>0.000000</td>\n      <td>-0.72</td>\n      <td>-1.18</td>\n      <td>-0.6321</td>\n      <td>2022-11-08</td>\n    </tr>\n    <tr>\n      <th>2022-11-30 10:00:00-05:00</th>\n      <td>28.100000</td>\n      <td>28.129999</td>\n      <td>28.010000</td>\n      <td>28.010000</td>\n      <td>1343</td>\n      <td>0.0</td>\n      <td>0.0</td>\n      <td>ANAB</td>\n      <td>2022-11-30</td>\n      <td>-0.090000</td>\n      <td>-0.72</td>\n      <td>-1.18</td>\n      <td>-0.6321</td>\n      <td>2022-11-08</td>\n    </tr>\n    <tr>\n      <th>2022-11-30 10:15:00-05:00</th>\n      <td>27.830000</td>\n      <td>27.980000</td>\n      <td>27.129999</td>\n      <td>27.459999</td>\n      <td>9895</td>\n      <td>0.0</td>\n      <td>0.0</td>\n      <td>ANAB</td>\n      <td>2022-11-30</td>\n      <td>-0.370001</td>\n      <td>-0.72</td>\n      <td>-1.18</td>\n      <td>-0.6321</td>\n      <td>2022-11-08</td>\n    </tr>\n    <tr>\n      <th>2022-11-30 10:30:00-05:00</th>\n      <td>27.465000</td>\n      <td>27.760000</td>\n      <td>27.465000</td>\n      <td>27.700001</td>\n      <td>6754</td>\n      <td>0.0</td>\n      <td>0.0</td>\n      <td>ANAB</td>\n      <td>2022-11-30</td>\n      <td>0.235001</td>\n      <td>-0.72</td>\n      <td>-1.18</td>\n      <td>-0.6321</td>\n      <td>2022-11-08</td>\n    </tr>\n    <tr>\n      <th>...</th>\n      <td>...</td>\n      <td>...</td>\n      <td>...</td>\n      <td>...</td>\n      <td>...</td>\n      <td>...</td>\n      <td>...</td>\n      <td>...</td>\n      <td>...</td>\n      <td>...</td>\n      <td>...</td>\n      <td>...</td>\n      <td>...</td>\n      <td>...</td>\n    </tr>\n    <tr>\n      <th>2022-12-30 15:00:00-05:00</th>\n      <td>30.885000</td>\n      <td>31.000000</td>\n      <td>30.885000</td>\n      <td>30.980000</td>\n      <td>3431</td>\n      <td>0.0</td>\n      <td>0.0</td>\n      <td>ANAB</td>\n      <td>2022-12-30</td>\n      <td>0.094999</td>\n      <td>-0.72</td>\n      <td>-1.18</td>\n      <td>-0.6321</td>\n      <td>2022-11-08</td>\n    </tr>\n    <tr>\n      <th>2022-12-30 15:15:00-05:00</th>\n      <td>31.000000</td>\n      <td>31.010000</td>\n      <td>30.990000</td>\n      <td>31.000000</td>\n      <td>3079</td>\n      <td>0.0</td>\n      <td>0.0</td>\n      <td>ANAB</td>\n      <td>2022-12-30</td>\n      <td>0.000000</td>\n      <td>-0.72</td>\n      <td>-1.18</td>\n      <td>-0.6321</td>\n      <td>2022-11-08</td>\n    </tr>\n    <tr>\n      <th>2022-12-30 15:30:00-05:00</th>\n      <td>31.000000</td>\n      <td>31.004999</td>\n      <td>30.959999</td>\n      <td>30.969999</td>\n      <td>9266</td>\n      <td>0.0</td>\n      <td>0.0</td>\n      <td>ANAB</td>\n      <td>2022-12-30</td>\n      <td>-0.030001</td>\n      <td>-0.72</td>\n      <td>-1.18</td>\n      <td>-0.6321</td>\n      <td>2022-11-08</td>\n    </tr>\n    <tr>\n      <th>2022-12-30 15:45:00-05:00</th>\n      <td>31.000000</td>\n      <td>31.040001</td>\n      <td>30.889999</td>\n      <td>30.969999</td>\n      <td>41125</td>\n      <td>0.0</td>\n      <td>0.0</td>\n      <td>ANAB</td>\n      <td>2022-12-30</td>\n      <td>-0.030001</td>\n      <td>-0.72</td>\n      <td>-1.18</td>\n      <td>-0.6321</td>\n      <td>2022-11-08</td>\n    </tr>\n    <tr>\n      <th>2022-12-30 16:00:00-05:00</th>\n      <td>30.990000</td>\n      <td>30.990000</td>\n      <td>30.990000</td>\n      <td>30.990000</td>\n      <td>0</td>\n      <td>0.0</td>\n      <td>0.0</td>\n      <td>ANAB</td>\n      <td>2022-12-30</td>\n      <td>0.000000</td>\n      <td>-0.72</td>\n      <td>-1.18</td>\n      <td>-0.6321</td>\n      <td>2022-11-08</td>\n    </tr>\n  </tbody>\n</table>\n<p>545 rows × 14 columns</p>\n</div>"
     },
     "execution_count": 23,
     "metadata": {},
     "output_type": "execute_result"
    }
   ],
   "source": [
    "stockToDf('ANAB', getEarnings(yf.Ticker('ANAB')))"
   ],
   "metadata": {
    "collapsed": false,
    "pycharm": {
     "name": "#%%\n"
    }
   }
  },
  {
   "cell_type": "code",
   "execution_count": 24,
   "outputs": [
    {
     "data": {
      "text/plain": "                             Open    High     Low   Close  Volume  Dividends  \\\nDatetime                                                                       \n2022-11-30 09:30:00-05:00  1.1500  1.1500  1.1373  1.1373   10329        0.0   \n2022-11-30 09:45:00-05:00  1.1342  1.1400  1.1300  1.1400    5574        0.0   \n2022-11-30 10:00:00-05:00  1.1400  1.1500  1.1400  1.1500   19388        0.0   \n2022-11-30 10:15:00-05:00  1.1500  1.1600  1.1500  1.1527   21236        0.0   \n2022-11-30 10:30:00-05:00  1.1500  1.1600  1.1500  1.1600    7701        0.0   \n...                           ...     ...     ...     ...     ...        ...   \n2022-12-30 15:00:00-05:00  0.9810  0.9811  0.9810  0.9811   18178        0.0   \n2022-12-30 15:15:00-05:00  0.9810  0.9811  0.9810  0.9811    6626        0.0   \n2022-12-30 15:30:00-05:00  0.9811  0.9875  0.9810  0.9875   10075        0.0   \n2022-12-30 15:45:00-05:00  0.9851  0.9900  0.9851  0.9851    2606        0.0   \n2022-12-30 16:00:00-05:00  0.9900  0.9900  0.9900  0.9900       0        0.0   \n\n                           Stock Splits company       date    Diff  \nDatetime                                                            \n2022-11-30 09:30:00-05:00           0.0    CBAT 2022-11-30 -0.0127  \n2022-11-30 09:45:00-05:00           0.0    CBAT 2022-11-30  0.0058  \n2022-11-30 10:00:00-05:00           0.0    CBAT 2022-11-30  0.0100  \n2022-11-30 10:15:00-05:00           0.0    CBAT 2022-11-30  0.0027  \n2022-11-30 10:30:00-05:00           0.0    CBAT 2022-11-30  0.0100  \n...                                 ...     ...        ...     ...  \n2022-12-30 15:00:00-05:00           0.0    CBAT 2022-12-30  0.0001  \n2022-12-30 15:15:00-05:00           0.0    CBAT 2022-12-30  0.0001  \n2022-12-30 15:30:00-05:00           0.0    CBAT 2022-12-30  0.0064  \n2022-12-30 15:45:00-05:00           0.0    CBAT 2022-12-30  0.0000  \n2022-12-30 16:00:00-05:00           0.0    CBAT 2022-12-30  0.0000  \n\n[558 rows x 10 columns]",
      "text/html": "<div>\n<style scoped>\n    .dataframe tbody tr th:only-of-type {\n        vertical-align: middle;\n    }\n\n    .dataframe tbody tr th {\n        vertical-align: top;\n    }\n\n    .dataframe thead th {\n        text-align: right;\n    }\n</style>\n<table border=\"1\" class=\"dataframe\">\n  <thead>\n    <tr style=\"text-align: right;\">\n      <th></th>\n      <th>Open</th>\n      <th>High</th>\n      <th>Low</th>\n      <th>Close</th>\n      <th>Volume</th>\n      <th>Dividends</th>\n      <th>Stock Splits</th>\n      <th>company</th>\n      <th>date</th>\n      <th>Diff</th>\n    </tr>\n    <tr>\n      <th>Datetime</th>\n      <th></th>\n      <th></th>\n      <th></th>\n      <th></th>\n      <th></th>\n      <th></th>\n      <th></th>\n      <th></th>\n      <th></th>\n      <th></th>\n    </tr>\n  </thead>\n  <tbody>\n    <tr>\n      <th>2022-11-30 09:30:00-05:00</th>\n      <td>1.1500</td>\n      <td>1.1500</td>\n      <td>1.1373</td>\n      <td>1.1373</td>\n      <td>10329</td>\n      <td>0.0</td>\n      <td>0.0</td>\n      <td>CBAT</td>\n      <td>2022-11-30</td>\n      <td>-0.0127</td>\n    </tr>\n    <tr>\n      <th>2022-11-30 09:45:00-05:00</th>\n      <td>1.1342</td>\n      <td>1.1400</td>\n      <td>1.1300</td>\n      <td>1.1400</td>\n      <td>5574</td>\n      <td>0.0</td>\n      <td>0.0</td>\n      <td>CBAT</td>\n      <td>2022-11-30</td>\n      <td>0.0058</td>\n    </tr>\n    <tr>\n      <th>2022-11-30 10:00:00-05:00</th>\n      <td>1.1400</td>\n      <td>1.1500</td>\n      <td>1.1400</td>\n      <td>1.1500</td>\n      <td>19388</td>\n      <td>0.0</td>\n      <td>0.0</td>\n      <td>CBAT</td>\n      <td>2022-11-30</td>\n      <td>0.0100</td>\n    </tr>\n    <tr>\n      <th>2022-11-30 10:15:00-05:00</th>\n      <td>1.1500</td>\n      <td>1.1600</td>\n      <td>1.1500</td>\n      <td>1.1527</td>\n      <td>21236</td>\n      <td>0.0</td>\n      <td>0.0</td>\n      <td>CBAT</td>\n      <td>2022-11-30</td>\n      <td>0.0027</td>\n    </tr>\n    <tr>\n      <th>2022-11-30 10:30:00-05:00</th>\n      <td>1.1500</td>\n      <td>1.1600</td>\n      <td>1.1500</td>\n      <td>1.1600</td>\n      <td>7701</td>\n      <td>0.0</td>\n      <td>0.0</td>\n      <td>CBAT</td>\n      <td>2022-11-30</td>\n      <td>0.0100</td>\n    </tr>\n    <tr>\n      <th>...</th>\n      <td>...</td>\n      <td>...</td>\n      <td>...</td>\n      <td>...</td>\n      <td>...</td>\n      <td>...</td>\n      <td>...</td>\n      <td>...</td>\n      <td>...</td>\n      <td>...</td>\n    </tr>\n    <tr>\n      <th>2022-12-30 15:00:00-05:00</th>\n      <td>0.9810</td>\n      <td>0.9811</td>\n      <td>0.9810</td>\n      <td>0.9811</td>\n      <td>18178</td>\n      <td>0.0</td>\n      <td>0.0</td>\n      <td>CBAT</td>\n      <td>2022-12-30</td>\n      <td>0.0001</td>\n    </tr>\n    <tr>\n      <th>2022-12-30 15:15:00-05:00</th>\n      <td>0.9810</td>\n      <td>0.9811</td>\n      <td>0.9810</td>\n      <td>0.9811</td>\n      <td>6626</td>\n      <td>0.0</td>\n      <td>0.0</td>\n      <td>CBAT</td>\n      <td>2022-12-30</td>\n      <td>0.0001</td>\n    </tr>\n    <tr>\n      <th>2022-12-30 15:30:00-05:00</th>\n      <td>0.9811</td>\n      <td>0.9875</td>\n      <td>0.9810</td>\n      <td>0.9875</td>\n      <td>10075</td>\n      <td>0.0</td>\n      <td>0.0</td>\n      <td>CBAT</td>\n      <td>2022-12-30</td>\n      <td>0.0064</td>\n    </tr>\n    <tr>\n      <th>2022-12-30 15:45:00-05:00</th>\n      <td>0.9851</td>\n      <td>0.9900</td>\n      <td>0.9851</td>\n      <td>0.9851</td>\n      <td>2606</td>\n      <td>0.0</td>\n      <td>0.0</td>\n      <td>CBAT</td>\n      <td>2022-12-30</td>\n      <td>0.0000</td>\n    </tr>\n    <tr>\n      <th>2022-12-30 16:00:00-05:00</th>\n      <td>0.9900</td>\n      <td>0.9900</td>\n      <td>0.9900</td>\n      <td>0.9900</td>\n      <td>0</td>\n      <td>0.0</td>\n      <td>0.0</td>\n      <td>CBAT</td>\n      <td>2022-12-30</td>\n      <td>0.0000</td>\n    </tr>\n  </tbody>\n</table>\n<p>558 rows × 10 columns</p>\n</div>"
     },
     "execution_count": 24,
     "metadata": {},
     "output_type": "execute_result"
    }
   ],
   "source": [
    "getHistory('CBAT', yf.Ticker('CBAT'), period='1mo', interval='15m')"
   ],
   "metadata": {
    "collapsed": false,
    "pycharm": {
     "name": "#%%\n"
    }
   }
  },
  {
   "cell_type": "code",
   "execution_count": 24,
   "outputs": [],
   "source": [],
   "metadata": {
    "collapsed": false,
    "pycharm": {
     "name": "#%%\n"
    }
   }
  }
 ],
 "metadata": {
  "kernelspec": {
   "display_name": "Python 3",
   "language": "python",
   "name": "python3"
  },
  "language_info": {
   "codemirror_mode": {
    "name": "ipython",
    "version": 2
   },
   "file_extension": ".py",
   "mimetype": "text/x-python",
   "name": "python",
   "nbconvert_exporter": "python",
   "pygments_lexer": "ipython2",
   "version": "2.7.6"
  }
 },
 "nbformat": 4,
 "nbformat_minor": 0
}