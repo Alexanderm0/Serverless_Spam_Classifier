{
 "cells": [
  {
   "cell_type": "markdown",
   "source": [
    "# Data exploration of Yahoo Finance data\n",
    "RAD for feature engineering pipeline."
   ],
   "metadata": {
    "collapsed": false,
    "pycharm": {
     "name": "#%% md\n"
    }
   }
  },
  {
   "cell_type": "code",
   "execution_count": 2,
   "outputs": [],
   "source": [
    "import pandas\n",
    "import yfinance as yf\n",
    "from pprint import pprint\n",
    "import pandas as pd\n",
    "import datetime\n",
    "from random import randint"
   ],
   "metadata": {
    "collapsed": false,
    "pycharm": {
     "name": "#%%\n"
    }
   }
  },
  {
   "cell_type": "code",
   "execution_count": 3,
   "outputs": [],
   "source": [
    "# If yf.Ticker.info is not working running the command below solves it\n",
    "# pip install yfinance --upgrade --no-cache-dir\n",
    "# How to integrate this in the pipeline? Requirements?\n",
    "\n",
    "\n",
    "test_symbol = 'AAPL'\n",
    "\n",
    "stock = yf.Ticker(test_symbol)"
   ],
   "metadata": {
    "collapsed": false,
    "pycharm": {
     "name": "#%%\n"
    }
   }
  },
  {
   "cell_type": "code",
   "execution_count": 4,
   "outputs": [],
   "source": [
    "def getEarnings(stock):\n",
    "    return stock.earnings_history\n",
    "\n",
    "# earnings = stock.earnings_history\n",
    "earnings = getEarnings(stock)"
   ],
   "metadata": {
    "collapsed": false,
    "pycharm": {
     "name": "#%%\n"
    }
   }
  },
  {
   "cell_type": "code",
   "execution_count": 5,
   "outputs": [],
   "source": [
    "def parseMonth(month):\n",
    "    \"\"\"\n",
    "    Function to parse the string of a month from the earnings date\n",
    "    :param month: string with the given month\n",
    "    :return: the number corresponding to the month in datetime format\n",
    "    \"\"\"\n",
    "    if month == 'Jan':\n",
    "        return 1\n",
    "    elif month == 'Feb':\n",
    "        return 2\n",
    "    elif month == 'Mar':\n",
    "        return 3\n",
    "    elif month == 'Apr':\n",
    "        return 4\n",
    "    elif month == 'May':\n",
    "        return 5\n",
    "    elif month == 'Jun':\n",
    "        return 6\n",
    "    elif month == 'Jul':\n",
    "        return 7\n",
    "    elif month == 'Aug':\n",
    "        return 8\n",
    "    elif month == 'Sep':\n",
    "        return 9\n",
    "    elif month == 'Oct':\n",
    "        return 10\n",
    "    elif month == 'Nov':\n",
    "        return 11\n",
    "    else:\n",
    "        return 12"
   ],
   "metadata": {
    "collapsed": false,
    "pycharm": {
     "name": "#%%\n"
    }
   }
  },
  {
   "cell_type": "code",
   "execution_count": 6,
   "outputs": [],
   "source": [
    "def convertEarningsDate(df):\n",
    "    \"\"\"\n",
    "    Function to convert the earnings date format to datetime\n",
    "    :param df: dataframe containing the earnings history\n",
    "    :return: dataframe updated with the parsed datetime as date\n",
    "    \"\"\"\n",
    "    test = [None]*len(df)\n",
    "    for i in range(len(df)):\n",
    "        temp = df.loc[i, \"Earnings Date\"].split(', ')\n",
    "        temp = [x.strip() for x in temp]\n",
    "        temp = (temp[0] + ' ' + temp[1]).split(' ')\n",
    "        test[i] = [temp[2], parseMonth(temp[0]), temp[1]]\n",
    "    dt = pd.DataFrame(test, columns=['year', 'month', 'day'])\n",
    "    df['Earnings Date'] = pd.to_datetime(dt)\n",
    "    return df"
   ],
   "metadata": {
    "collapsed": false,
    "pycharm": {
     "name": "#%%\n"
    }
   }
  },
  {
   "cell_type": "code",
   "execution_count": 7,
   "outputs": [
    {
     "data": {
      "text/plain": "   Symbol     Company           Earnings Date  EPS Estimate  Reported EPS  \\\n0    AAPL   Apple Inc   Oct 25, 2023, 6 AMEDT           NaN           NaN   \n1    AAPL   Apple Inc   Jul 26, 2023, 4 PMEDT           NaN           NaN   \n2    AAPL   Apple Inc   Apr 26, 2023, 6 AMEDT           NaN           NaN   \n3    AAPL   Apple Inc   Jan 25, 2023, 5 AMEST          1.98           NaN   \n4    AAPL  Apple Inc.  Oct 27, 2022, 12 PMEDT          1.27          1.29   \n..    ...         ...                     ...           ...           ...   \n95   AAPL  Apple Inc.  Jan 13, 1999, 12 AMEST          0.02          0.03   \n96   AAPL  Apple Inc.  Oct 14, 1998, 12 AMEDT          0.02          0.02   \n97   AAPL  Apple Inc.  Jul 15, 1998, 12 AMEDT          0.01          0.02   \n98   AAPL  Apple Inc.  Apr 15, 1998, 12 AMEDT          0.01          0.01   \n99   AAPL  Apple Inc.  Jan 14, 1998, 12 AMEST          0.01          0.01   \n\n   Surprise(%)  \n0          NaN  \n1          NaN  \n2          NaN  \n3          NaN  \n4        +1.57  \n..         ...  \n95      +12.79  \n96      +39.92  \n97      +68.49  \n98     +156.52  \n99       +22.3  \n\n[100 rows x 6 columns]",
      "text/html": "<div>\n<style scoped>\n    .dataframe tbody tr th:only-of-type {\n        vertical-align: middle;\n    }\n\n    .dataframe tbody tr th {\n        vertical-align: top;\n    }\n\n    .dataframe thead th {\n        text-align: right;\n    }\n</style>\n<table border=\"1\" class=\"dataframe\">\n  <thead>\n    <tr style=\"text-align: right;\">\n      <th></th>\n      <th>Symbol</th>\n      <th>Company</th>\n      <th>Earnings Date</th>\n      <th>EPS Estimate</th>\n      <th>Reported EPS</th>\n      <th>Surprise(%)</th>\n    </tr>\n  </thead>\n  <tbody>\n    <tr>\n      <th>0</th>\n      <td>AAPL</td>\n      <td>Apple Inc</td>\n      <td>Oct 25, 2023, 6 AMEDT</td>\n      <td>NaN</td>\n      <td>NaN</td>\n      <td>NaN</td>\n    </tr>\n    <tr>\n      <th>1</th>\n      <td>AAPL</td>\n      <td>Apple Inc</td>\n      <td>Jul 26, 2023, 4 PMEDT</td>\n      <td>NaN</td>\n      <td>NaN</td>\n      <td>NaN</td>\n    </tr>\n    <tr>\n      <th>2</th>\n      <td>AAPL</td>\n      <td>Apple Inc</td>\n      <td>Apr 26, 2023, 6 AMEDT</td>\n      <td>NaN</td>\n      <td>NaN</td>\n      <td>NaN</td>\n    </tr>\n    <tr>\n      <th>3</th>\n      <td>AAPL</td>\n      <td>Apple Inc</td>\n      <td>Jan 25, 2023, 5 AMEST</td>\n      <td>1.98</td>\n      <td>NaN</td>\n      <td>NaN</td>\n    </tr>\n    <tr>\n      <th>4</th>\n      <td>AAPL</td>\n      <td>Apple Inc.</td>\n      <td>Oct 27, 2022, 12 PMEDT</td>\n      <td>1.27</td>\n      <td>1.29</td>\n      <td>+1.57</td>\n    </tr>\n    <tr>\n      <th>...</th>\n      <td>...</td>\n      <td>...</td>\n      <td>...</td>\n      <td>...</td>\n      <td>...</td>\n      <td>...</td>\n    </tr>\n    <tr>\n      <th>95</th>\n      <td>AAPL</td>\n      <td>Apple Inc.</td>\n      <td>Jan 13, 1999, 12 AMEST</td>\n      <td>0.02</td>\n      <td>0.03</td>\n      <td>+12.79</td>\n    </tr>\n    <tr>\n      <th>96</th>\n      <td>AAPL</td>\n      <td>Apple Inc.</td>\n      <td>Oct 14, 1998, 12 AMEDT</td>\n      <td>0.02</td>\n      <td>0.02</td>\n      <td>+39.92</td>\n    </tr>\n    <tr>\n      <th>97</th>\n      <td>AAPL</td>\n      <td>Apple Inc.</td>\n      <td>Jul 15, 1998, 12 AMEDT</td>\n      <td>0.01</td>\n      <td>0.02</td>\n      <td>+68.49</td>\n    </tr>\n    <tr>\n      <th>98</th>\n      <td>AAPL</td>\n      <td>Apple Inc.</td>\n      <td>Apr 15, 1998, 12 AMEDT</td>\n      <td>0.01</td>\n      <td>0.01</td>\n      <td>+156.52</td>\n    </tr>\n    <tr>\n      <th>99</th>\n      <td>AAPL</td>\n      <td>Apple Inc.</td>\n      <td>Jan 14, 1998, 12 AMEST</td>\n      <td>0.01</td>\n      <td>0.01</td>\n      <td>+22.3</td>\n    </tr>\n  </tbody>\n</table>\n<p>100 rows × 6 columns</p>\n</div>"
     },
     "execution_count": 7,
     "metadata": {},
     "output_type": "execute_result"
    }
   ],
   "source": [
    "earnings"
   ],
   "metadata": {
    "collapsed": false,
    "pycharm": {
     "name": "#%%\n"
    }
   }
  },
  {
   "cell_type": "code",
   "execution_count": 8,
   "outputs": [
    {
     "data": {
      "text/plain": "   Symbol     Company Earnings Date  EPS Estimate  Reported EPS Surprise(%)\n0    AAPL   Apple Inc    2023-10-25           NaN           NaN         NaN\n1    AAPL   Apple Inc    2023-07-26           NaN           NaN         NaN\n2    AAPL   Apple Inc    2023-04-26           NaN           NaN         NaN\n3    AAPL   Apple Inc    2023-01-25          1.98           NaN         NaN\n4    AAPL  Apple Inc.    2022-10-27          1.27          1.29       +1.57\n..    ...         ...           ...           ...           ...         ...\n95   AAPL  Apple Inc.    1999-01-13          0.02          0.03      +12.79\n96   AAPL  Apple Inc.    1998-10-14          0.02          0.02      +39.92\n97   AAPL  Apple Inc.    1998-07-15          0.01          0.02      +68.49\n98   AAPL  Apple Inc.    1998-04-15          0.01          0.01     +156.52\n99   AAPL  Apple Inc.    1998-01-14          0.01          0.01       +22.3\n\n[100 rows x 6 columns]",
      "text/html": "<div>\n<style scoped>\n    .dataframe tbody tr th:only-of-type {\n        vertical-align: middle;\n    }\n\n    .dataframe tbody tr th {\n        vertical-align: top;\n    }\n\n    .dataframe thead th {\n        text-align: right;\n    }\n</style>\n<table border=\"1\" class=\"dataframe\">\n  <thead>\n    <tr style=\"text-align: right;\">\n      <th></th>\n      <th>Symbol</th>\n      <th>Company</th>\n      <th>Earnings Date</th>\n      <th>EPS Estimate</th>\n      <th>Reported EPS</th>\n      <th>Surprise(%)</th>\n    </tr>\n  </thead>\n  <tbody>\n    <tr>\n      <th>0</th>\n      <td>AAPL</td>\n      <td>Apple Inc</td>\n      <td>2023-10-25</td>\n      <td>NaN</td>\n      <td>NaN</td>\n      <td>NaN</td>\n    </tr>\n    <tr>\n      <th>1</th>\n      <td>AAPL</td>\n      <td>Apple Inc</td>\n      <td>2023-07-26</td>\n      <td>NaN</td>\n      <td>NaN</td>\n      <td>NaN</td>\n    </tr>\n    <tr>\n      <th>2</th>\n      <td>AAPL</td>\n      <td>Apple Inc</td>\n      <td>2023-04-26</td>\n      <td>NaN</td>\n      <td>NaN</td>\n      <td>NaN</td>\n    </tr>\n    <tr>\n      <th>3</th>\n      <td>AAPL</td>\n      <td>Apple Inc</td>\n      <td>2023-01-25</td>\n      <td>1.98</td>\n      <td>NaN</td>\n      <td>NaN</td>\n    </tr>\n    <tr>\n      <th>4</th>\n      <td>AAPL</td>\n      <td>Apple Inc.</td>\n      <td>2022-10-27</td>\n      <td>1.27</td>\n      <td>1.29</td>\n      <td>+1.57</td>\n    </tr>\n    <tr>\n      <th>...</th>\n      <td>...</td>\n      <td>...</td>\n      <td>...</td>\n      <td>...</td>\n      <td>...</td>\n      <td>...</td>\n    </tr>\n    <tr>\n      <th>95</th>\n      <td>AAPL</td>\n      <td>Apple Inc.</td>\n      <td>1999-01-13</td>\n      <td>0.02</td>\n      <td>0.03</td>\n      <td>+12.79</td>\n    </tr>\n    <tr>\n      <th>96</th>\n      <td>AAPL</td>\n      <td>Apple Inc.</td>\n      <td>1998-10-14</td>\n      <td>0.02</td>\n      <td>0.02</td>\n      <td>+39.92</td>\n    </tr>\n    <tr>\n      <th>97</th>\n      <td>AAPL</td>\n      <td>Apple Inc.</td>\n      <td>1998-07-15</td>\n      <td>0.01</td>\n      <td>0.02</td>\n      <td>+68.49</td>\n    </tr>\n    <tr>\n      <th>98</th>\n      <td>AAPL</td>\n      <td>Apple Inc.</td>\n      <td>1998-04-15</td>\n      <td>0.01</td>\n      <td>0.01</td>\n      <td>+156.52</td>\n    </tr>\n    <tr>\n      <th>99</th>\n      <td>AAPL</td>\n      <td>Apple Inc.</td>\n      <td>1998-01-14</td>\n      <td>0.01</td>\n      <td>0.01</td>\n      <td>+22.3</td>\n    </tr>\n  </tbody>\n</table>\n<p>100 rows × 6 columns</p>\n</div>"
     },
     "execution_count": 8,
     "metadata": {},
     "output_type": "execute_result"
    }
   ],
   "source": [
    "earnings = convertEarningsDate(earnings)\n",
    "earnings"
   ],
   "metadata": {
    "collapsed": false,
    "pycharm": {
     "name": "#%%\n"
    }
   }
  },
  {
   "cell_type": "code",
   "execution_count": 9,
   "outputs": [],
   "source": [
    "def getHistory(symbol, stock, period='30d', interval='30m'):\n",
    "    \"\"\"\n",
    "    Function to retrieve the price history of the stock and parse its date\n",
    "    :param stock: yfinance ticker object\n",
    "    :param period: the period over which data should be collected\n",
    "    :param interval: the interval for data points\n",
    "    :return: history dataframe with additional columns\n",
    "    \"\"\"\n",
    "    hist = stock.history(period = period, interval = interval)\n",
    "    hist['company'] = symbol\n",
    "    hist['date'] = hist.index.date\n",
    "    hist['date'] = pd.to_datetime(hist['date'])\n",
    "    hist['Diff'] = hist['Close'] - hist['Open']\n",
    "    return hist"
   ],
   "metadata": {
    "collapsed": false,
    "pycharm": {
     "name": "#%%\n"
    }
   }
  },
  {
   "cell_type": "code",
   "execution_count": 10,
   "outputs": [],
   "source": [
    "def getRelEarnings(e_df, hist_df):\n",
    "    \"\"\"\n",
    "    Finds the earnings data which is relevant for the given history time frame\n",
    "    :param e_df: earnings dataframe\n",
    "    :param hist_df: history dataframe\n",
    "    :return: relevant dates dataframe\n",
    "    \"\"\"\n",
    "    minmax = hist_df['date'].agg(['min', 'max'])\n",
    "    last_er_idx = e_df[e_df['Earnings Date'] <= minmax['min']].index[0]\n",
    "    first_er_idx = e_df[e_df['Earnings Date'] <= minmax['max']].index[0]\n",
    "    relevant_earnings = e_df[first_er_idx:last_er_idx+1].reset_index(drop=True)\n",
    "    return relevant_earnings\n",
    "\n",
    "def fillEarnings(current, hist_df, idx_in):\n",
    "    \"\"\"\n",
    "    Function to fill the earnings columns into the history\n",
    "    :param current: dataframe holding the earnings data for the selected indices\n",
    "    :param hist_df: history dataframe\n",
    "    :param idx_in: relevant indices on the history dataframe to fill the earnings data for\n",
    "    :return: history dataframe with the earnings added for the given indices\n",
    "    \"\"\"\n",
    "    hist_df.loc[idx_in, 'EPS Estimate'] = current['EPS Estimate']\n",
    "    hist_df.loc[idx_in, 'Reported EPS'] = current['Reported EPS']\n",
    "    hist_df.loc[idx_in, 'Offset'] = current['Surprise(%)']\n",
    "    hist_df.loc[idx_in, 'Earnings'] = current['Earnings Date']\n",
    "    return hist_df\n",
    "\n",
    "\n",
    "def getHistWithEarnings(relevant_earnings, hist_df):\n",
    "    \"\"\"\n",
    "    Function to add the corresponding earnings data to the days for which the data was known.\n",
    "    :param relevant_earnings: The earnings columns which are relevant for the given history time frame\n",
    "    :param hist_df: The history dataframe\n",
    "    :return: History with added columns for each of the relevant earnings\n",
    "    \"\"\"\n",
    "    for idx in reversed(relevant_earnings.index):\n",
    "        if idx>0:\n",
    "            current = relevant_earnings.iloc[idx]\n",
    "            next = relevant_earnings.iloc[idx-1]\n",
    "            idx_in = hist_df[(hist_df['date'] >= current['Earnings Date']) &\n",
    "                             (hist_df['date'] < next['Earnings Date'])].index\n",
    "            hist_df = fillEarnings(current, hist_df, idx_in)\n",
    "        else:\n",
    "            current = relevant_earnings.iloc[idx]\n",
    "            idx_in = hist_df[(hist_df['date'] >= current['Earnings Date'])].index\n",
    "            hist_df = fillEarnings(current, hist_df, idx_in)\n",
    "    return hist_df\n",
    "\n",
    "def dropIrrelevant(hist_df: pd.DataFrame):\n",
    "    labels = ['']\n",
    "    return hist_df.drop(labels, axis=1)\n",
    "\n"
   ],
   "metadata": {
    "collapsed": false,
    "pycharm": {
     "name": "#%%\n"
    }
   }
  },
  {
   "cell_type": "code",
   "execution_count": 11,
   "outputs": [],
   "source": [
    "def stockToCSV(symbol, period='60d', interval='30m'):\n",
    "    \"\"\"\n",
    "    Functions to write stock information to CSV\n",
    "    :param symbol: ticker symbol of the company\n",
    "    :param period: over what time period the history data should be taken\n",
    "    :param interval: how often a sample is taken over the period\n",
    "    :return:\n",
    "    \"\"\"\n",
    "    stock = yf.Ticker(symbol)\n",
    "    earnings = getEarnings(stock)\n",
    "    earnings = convertEarningsDate(earnings)\n",
    "    hist = getHistory(symbol, stock, period=period, interval=interval)\n",
    "    rel_earnings = getRelEarnings(earnings, hist)\n",
    "    hist = getHistWithEarnings(rel_earnings, hist)\n",
    "    hist.to_csv('./data/' + symbol)\n",
    "\n",
    "def stockToDf(symbol, period='60d', interval='30m'):\n",
    "    \"\"\"\n",
    "    Functions to write stock information to CSV\n",
    "    :param symbol: ticker symbol of the company\n",
    "    :param period: over what time period the history data should be taken\n",
    "    :param interval: how often a sample is taken over the period\n",
    "    :return:\n",
    "    \"\"\"\n",
    "    stock = yf.Ticker(symbol)\n",
    "    earnings = getEarnings(stock)\n",
    "    earnings = convertEarningsDate(earnings)\n",
    "    hist = getHistory(symbol, stock, period=period, interval=interval)\n",
    "    rel_earnings = getRelEarnings(earnings, hist)\n",
    "    hist = getHistWithEarnings(rel_earnings, hist)\n",
    "    return hist\n",
    "\n",
    "def getStocks():\n",
    "    \"\"\"\n",
    "    Get all stock symbols listed on Nasdaq\n",
    "    :return: list with symbols\n",
    "    \"\"\"\n",
    "    df = pd.read_table('http://www.nasdaqtrader.com/dynamic/symdir/nasdaqlisted.txt')\n",
    "    # df = pd.read_table('tickers.txt')\n",
    "    symbols = [None]*len(df)\n",
    "    for idx, line in df.iterrows():\n",
    "        symbols[idx] = line[0].split('|')[0]\n",
    "    return symbols\n",
    "\n",
    "def selectStocks(stocks, n):\n",
    "    \"\"\"\n",
    "    Select n random stocks from the list\n",
    "    :param stocks: list of company symbols\n",
    "    :param n: number of companies to select\n",
    "    :return: selected symbols\n",
    "    \"\"\"\n",
    "    idxs = []\n",
    "    selected = [None]*n\n",
    "    counter = 0\n",
    "    while len(idxs) < n:\n",
    "        temp_int = randint(0, len(stocks))\n",
    "        if temp_int not in idxs:\n",
    "            idxs.append(temp_int)\n",
    "            selected[counter] = stocks[temp_int]\n",
    "            counter += 1\n",
    "    return selected\n"
   ],
   "metadata": {
    "collapsed": false,
    "pycharm": {
     "name": "#%%\n"
    }
   }
  },
  {
   "cell_type": "code",
   "execution_count": 20,
   "outputs": [],
   "source": [
    "def runAll(n):\n",
    "    stocks = getStocks()\n",
    "    selected = selectStocks(stocks, n)\n",
    "    # short term solution\n",
    "    selected = ['AAPL', 'TSLA', 'AMZN']\n",
    "    df = pd.DataFrame()\n",
    "    for stock in selected:\n",
    "        print(stock)\n",
    "        # stockToCSV(stock)\n",
    "        df = df.append(stockToDf(stock))\n",
    "    df.to_csv('data/small_test.csv')\n",
    "\n"
   ],
   "metadata": {
    "collapsed": false,
    "pycharm": {
     "name": "#%%\n"
    }
   }
  },
  {
   "cell_type": "code",
   "execution_count": 21,
   "outputs": [
    {
     "name": "stdout",
     "output_type": "stream",
     "text": [
      "AAPL\n"
     ]
    },
    {
     "name": "stderr",
     "output_type": "stream",
     "text": [
      "C:\\Users\\alexa\\AppData\\Local\\Temp\\ipykernel_18864\\1991088540.py:10: FutureWarning: The frame.append method is deprecated and will be removed from pandas in a future version. Use pandas.concat instead.\n",
      "  df = df.append(stockToDf(stock))\n"
     ]
    },
    {
     "name": "stdout",
     "output_type": "stream",
     "text": [
      "TSLA\n"
     ]
    },
    {
     "name": "stderr",
     "output_type": "stream",
     "text": [
      "C:\\Users\\alexa\\AppData\\Local\\Temp\\ipykernel_18864\\1991088540.py:10: FutureWarning: The frame.append method is deprecated and will be removed from pandas in a future version. Use pandas.concat instead.\n",
      "  df = df.append(stockToDf(stock))\n"
     ]
    },
    {
     "name": "stdout",
     "output_type": "stream",
     "text": [
      "AMZN\n"
     ]
    },
    {
     "name": "stderr",
     "output_type": "stream",
     "text": [
      "C:\\Users\\alexa\\AppData\\Local\\Temp\\ipykernel_18864\\1991088540.py:10: FutureWarning: The frame.append method is deprecated and will be removed from pandas in a future version. Use pandas.concat instead.\n",
      "  df = df.append(stockToDf(stock))\n"
     ]
    }
   ],
   "source": [
    "runAll(10)"
   ],
   "metadata": {
    "collapsed": false,
    "pycharm": {
     "name": "#%%\n"
    }
   }
  },
  {
   "cell_type": "code",
   "execution_count": 14,
   "outputs": [],
   "source": [
    "# pd.read_csv('data/AAPL')"
   ],
   "metadata": {
    "collapsed": false,
    "pycharm": {
     "name": "#%%\n"
    }
   }
  },
  {
   "cell_type": "code",
   "execution_count": 15,
   "outputs": [
    {
     "ename": "NameError",
     "evalue": "name 'df' is not defined",
     "output_type": "error",
     "traceback": [
      "\u001B[1;31m---------------------------------------------------------------------------\u001B[0m",
      "\u001B[1;31mNameError\u001B[0m                                 Traceback (most recent call last)",
      "Cell \u001B[1;32mIn[15], line 1\u001B[0m\n\u001B[1;32m----> 1\u001B[0m \u001B[43mdf\u001B[49m\n",
      "\u001B[1;31mNameError\u001B[0m: name 'df' is not defined"
     ]
    }
   ],
   "source": [
    "df"
   ],
   "metadata": {
    "collapsed": false,
    "pycharm": {
     "name": "#%%\n"
    }
   }
  },
  {
   "cell_type": "code",
   "execution_count": null,
   "outputs": [],
   "source": [],
   "metadata": {
    "collapsed": false,
    "pycharm": {
     "name": "#%%\n"
    }
   }
  }
 ],
 "metadata": {
  "kernelspec": {
   "display_name": "Python 3",
   "language": "python",
   "name": "python3"
  },
  "language_info": {
   "codemirror_mode": {
    "name": "ipython",
    "version": 2
   },
   "file_extension": ".py",
   "mimetype": "text/x-python",
   "name": "python",
   "nbconvert_exporter": "python",
   "pygments_lexer": "ipython2",
   "version": "2.7.6"
  }
 },
 "nbformat": 4,
 "nbformat_minor": 0
}