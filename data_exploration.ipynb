{
 "cells": [
  {
   "cell_type": "markdown",
   "source": [
    "# Data exploration of Yahoo Finance data\n",
    "RAD for feature engineering pipeline."
   ],
   "metadata": {
    "collapsed": false,
    "pycharm": {
     "name": "#%% md\n"
    }
   }
  },
  {
   "cell_type": "code",
   "execution_count": 1,
   "outputs": [],
   "source": [
    "import pandas\n",
    "import yfinance as yf\n",
    "from pprint import pprint\n",
    "import pandas as pd\n",
    "import datetime\n",
    "from random import randint"
   ],
   "metadata": {
    "collapsed": false,
    "pycharm": {
     "name": "#%%\n"
    }
   }
  },
  {
   "cell_type": "code",
   "execution_count": 2,
   "outputs": [],
   "source": [
    "# If yf.Ticker.info is not working running the command below solves it\n",
    "# pip install yfinance --upgrade --no-cache-dir\n",
    "# How to integrate this in the pipeline? Requirements?\n",
    "\n",
    "\n",
    "test_symbol = 'AAPL'\n",
    "\n",
    "stock = yf.Ticker(test_symbol)"
   ],
   "metadata": {
    "collapsed": false,
    "pycharm": {
     "name": "#%%\n"
    }
   }
  },
  {
   "cell_type": "code",
   "execution_count": 3,
   "outputs": [],
   "source": [
    "def getEarnings(stock):\n",
    "    return stock.earnings_history\n",
    "\n",
    "earnings = stock.earnings_history"
   ],
   "metadata": {
    "collapsed": false,
    "pycharm": {
     "name": "#%%\n"
    }
   }
  },
  {
   "cell_type": "code",
   "execution_count": 4,
   "outputs": [],
   "source": [
    "def parseMonth(month):\n",
    "    \"\"\"\n",
    "    Function to parse the string of a month from the earnings date\n",
    "    :param month: string with the given month\n",
    "    :return: the number corresponding to the month in datetime format\n",
    "    \"\"\"\n",
    "    if month == 'Jan':\n",
    "        return 1\n",
    "    elif month == 'Feb':\n",
    "        return 2\n",
    "    elif month == 'Mar':\n",
    "        return 3\n",
    "    elif month == 'Apr':\n",
    "        return 4\n",
    "    elif month == 'May':\n",
    "        return 5\n",
    "    elif month == 'Jun':\n",
    "        return 6\n",
    "    elif month == 'Jul':\n",
    "        return 7\n",
    "    elif month == 'Aug':\n",
    "        return 8\n",
    "    elif month == 'Sep':\n",
    "        return 9\n",
    "    elif month == 'Oct':\n",
    "        return 10\n",
    "    elif month == 'Nov':\n",
    "        return 11\n",
    "    else:\n",
    "        return 12"
   ],
   "metadata": {
    "collapsed": false,
    "pycharm": {
     "name": "#%%\n"
    }
   }
  },
  {
   "cell_type": "code",
   "execution_count": 5,
   "outputs": [],
   "source": [
    "def convertEarningsDate(df):\n",
    "    \"\"\"\n",
    "    Function to convert the earnings date format to datetime\n",
    "    :param df: dataframe containing the earnings history\n",
    "    :return: dataframe updated with the parsed datetime as date\n",
    "    \"\"\"\n",
    "    test = [None]*len(df)\n",
    "    for i in range(len(df)):\n",
    "        temp = df.loc[i, \"Earnings Date\"].split(', ')\n",
    "        temp = [x.strip() for x in temp]\n",
    "        temp = (temp[0] + ' ' + temp[1]).split(' ')\n",
    "        test[i] = [temp[2], parseMonth(temp[0]), temp[1]]\n",
    "    dt = pd.DataFrame(test, columns=['year', 'month', 'day'])\n",
    "    df['Earnings Date'] = pd.to_datetime(dt)\n",
    "    return df"
   ],
   "metadata": {
    "collapsed": false,
    "pycharm": {
     "name": "#%%\n"
    }
   }
  },
  {
   "cell_type": "code",
   "execution_count": 6,
   "outputs": [],
   "source": [
    "# earnings = convertEarningsDate(earnings)"
   ],
   "metadata": {
    "collapsed": false,
    "pycharm": {
     "name": "#%%\n"
    }
   }
  },
  {
   "cell_type": "code",
   "execution_count": 7,
   "outputs": [],
   "source": [
    "def getHistory(symbol, stock, period='30d', interval='30m'):\n",
    "    \"\"\"\n",
    "    Function to retrieve the price history of the stock and parse its date\n",
    "    :param stock: yfinance ticker object\n",
    "    :param period: the period over which data should be collected\n",
    "    :param interval: the interval for data points\n",
    "    :return: history dataframe with additional columns\n",
    "    \"\"\"\n",
    "    hist = stock.history(period = period, interval = interval)\n",
    "    hist['company'] = symbol\n",
    "    hist['date'] = hist.index.date\n",
    "    hist['date'] = pd.to_datetime(hist['date'])\n",
    "    hist['Diff'] = hist['Close'] - hist['Open']\n",
    "    return hist"
   ],
   "metadata": {
    "collapsed": false,
    "pycharm": {
     "name": "#%%\n"
    }
   }
  },
  {
   "cell_type": "code",
   "execution_count": 8,
   "outputs": [],
   "source": [
    "def getRelEarnings(e_df, hist_df):\n",
    "    \"\"\"\n",
    "    Finds the earnings data which is relevant for the given history time frame\n",
    "    :param e_df: earnings dataframe\n",
    "    :param hist_df: history dataframe\n",
    "    :return: relevant dates dataframe\n",
    "    \"\"\"\n",
    "    minmax = hist_df['date'].agg(['min', 'max'])\n",
    "    last_er_idx = e_df[e_df['Earnings Date'] <= minmax['min']].index[0]\n",
    "    first_er_idx = e_df[e_df['Earnings Date'] <= minmax['max']].index[0]\n",
    "    relevant_earnings = e_df[first_er_idx:last_er_idx+1].reset_index(drop=True)\n",
    "    return relevant_earnings\n",
    "\n",
    "def fillEarnings(current, hist_df, idx_in):\n",
    "    \"\"\"\n",
    "    Function to fill the earnings columns into the history\n",
    "    :param current: dataframe holding the earnings data for the selected indices\n",
    "    :param hist_df: history dataframe\n",
    "    :param idx_in: relevant indices on the history dataframe to fill the earnings data for\n",
    "    :return: history dataframe with the earnings added for the given indices\n",
    "    \"\"\"\n",
    "    hist_df.loc[idx_in, 'EPS Estimate'] = current['EPS Estimate']\n",
    "    hist_df.loc[idx_in, 'Reported EPS'] = current['Reported EPS']\n",
    "    hist_df.loc[idx_in, 'Offset'] = current['Surprise(%)']\n",
    "    hist_df.loc[idx_in, 'Earnings'] = current['Earnings Date']\n",
    "    return hist_df\n",
    "\n",
    "\n",
    "def getHistWithEarnings(relevant_earnings, hist_df):\n",
    "    \"\"\"\n",
    "    Function to add the corresponding earnings data to the days for which the data was known.\n",
    "    :param relevant_earnings: The earnings columns which are relevant for the given history time frame\n",
    "    :param hist_df: The history dataframe\n",
    "    :return: History with added columns for each of the relevant earnings\n",
    "    \"\"\"\n",
    "    for idx in reversed(relevant_earnings.index):\n",
    "        if idx>0:\n",
    "            current = relevant_earnings.iloc[idx]\n",
    "            next = relevant_earnings.iloc[idx-1]\n",
    "            idx_in = hist_df[(hist_df['date'] >= current['Earnings Date']) &\n",
    "                             (hist_df['date'] < next['Earnings Date'])].index\n",
    "            hist_df = fillEarnings(current, hist_df, idx_in)\n",
    "        else:\n",
    "            current = relevant_earnings.iloc[idx]\n",
    "            idx_in = hist_df[(hist_df['date'] >= current['Earnings Date'])].index\n",
    "            hist_df = fillEarnings(current, hist_df, idx_in)\n",
    "    return hist_df\n",
    "\n",
    "def dropIrrelevant(hist_df: pd.DataFrame):\n",
    "    labels = ['']\n",
    "    return hist_df.drop(labels, axis=1)\n",
    "\n"
   ],
   "metadata": {
    "collapsed": false,
    "pycharm": {
     "name": "#%%\n"
    }
   }
  },
  {
   "cell_type": "code",
   "execution_count": 13,
   "outputs": [],
   "source": [
    "def stockToCSV(symbol, period='30d', interval='30m'):\n",
    "    \"\"\"\n",
    "    Functions to write stock information to CSV\n",
    "    :param symbol: ticker symbol of the company\n",
    "    :param period: over what time period the history data should be taken\n",
    "    :param interval: how often a sample is taken over the period\n",
    "    :return:\n",
    "    \"\"\"\n",
    "    stock = yf.Ticker(symbol)\n",
    "    earnings = getEarnings(stock)\n",
    "    earnings = convertEarningsDate(earnings)\n",
    "    hist = getHistory(symbol, stock, period=period, interval=interval)\n",
    "    rel_earnings = getRelEarnings(earnings, hist)\n",
    "    hist = getHistWithEarnings(rel_earnings, hist)\n",
    "    hist.to_csv('./data/' + symbol)\n",
    "\n",
    "def getStocks():\n",
    "    \"\"\"\n",
    "    Get all stock symbols listed on Nasdaq\n",
    "    :return: list with symbols\n",
    "    \"\"\"\n",
    "    df = pd.read_table('http://www.nasdaqtrader.com/dynamic/symdir/nasdaqlisted.txt')\n",
    "    # df = pd.read_table('tickers.txt')\n",
    "    symbols = [None]*len(df)\n",
    "    for idx, line in df.iterrows():\n",
    "        symbols[idx] = line[0].split('|')[0]\n",
    "    return symbols\n",
    "\n",
    "def selectStocks(stocks, n = 10):\n",
    "    \"\"\"\n",
    "    Select n random stocks from the list\n",
    "    :param stocks: list of company symbols\n",
    "    :param n: number of companies to select\n",
    "    :return: selected symbols\n",
    "    \"\"\"\n",
    "    idxs = []\n",
    "    selected = [None]*n\n",
    "    counter = 0\n",
    "    while len(idxs) < n:\n",
    "        temp_int = randint(0, len(stocks))\n",
    "        if temp_int not in idxs:\n",
    "            idxs.append(temp_int)\n",
    "            selected[counter] = stocks[temp_int]\n",
    "            counter += 1\n",
    "    return selected\n"
   ],
   "metadata": {
    "collapsed": false,
    "pycharm": {
     "name": "#%%\n"
    }
   }
  },
  {
   "cell_type": "code",
   "execution_count": 14,
   "outputs": [],
   "source": [
    "stockToCSV(test_symbol)"
   ],
   "metadata": {
    "collapsed": false,
    "pycharm": {
     "name": "#%%\n"
    }
   }
  },
  {
   "cell_type": "code",
   "execution_count": 17,
   "outputs": [
    {
     "data": {
      "text/plain": "                                 Open        High         Low       Close  \\\nDatetime                                                                    \n2022-09-30 09:30:00-04:00  141.680801  142.630005  140.610001  142.119995   \n2022-09-30 10:00:00-04:00  142.119995  142.529999  141.369995  142.220001   \n2022-09-30 10:30:00-04:00  142.220001  142.889999  141.854996  142.270096   \n2022-09-30 11:00:00-04:00  142.289993  143.100006  141.949997  142.618805   \n2022-09-30 11:30:00-04:00  142.620300  142.740005  141.024994  141.320007   \n...                               ...         ...         ...         ...   \n2022-12-23 10:30:00-05:00  131.395004  132.414993  130.750000  130.870102   \n2022-12-23 11:00:00-05:00  130.880005  131.380005  130.253098  131.008499   \n2022-12-23 11:30:00-05:00  131.009995  131.690002  130.729996  130.875000   \n2022-12-23 12:00:00-05:00  130.880005  131.729996  130.830002  131.488693   \n2022-12-23 12:30:00-05:00  131.490005  131.759995  131.110001  131.270096   \n\n                             Volume  Dividends  Stock Splits company  \\\nDatetime                                                               \n2022-09-30 09:30:00-04:00  17359317        0.0             0    AAPL   \n2022-09-30 10:00:00-04:00   7632656        0.0             0    AAPL   \n2022-09-30 10:30:00-04:00   7062240        0.0             0    AAPL   \n2022-09-30 11:00:00-04:00   7083136        0.0             0    AAPL   \n2022-09-30 11:30:00-04:00   5944641        0.0             0    AAPL   \n...                             ...        ...           ...     ...   \n2022-12-23 10:30:00-05:00   5766852        0.0             0    AAPL   \n2022-12-23 11:00:00-05:00   5149930        0.0             0    AAPL   \n2022-12-23 11:30:00-05:00   3504501        0.0             0    AAPL   \n2022-12-23 12:00:00-05:00   2932318        0.0             0    AAPL   \n2022-12-23 12:30:00-05:00   1336047        0.0             0    AAPL   \n\n                                date      Diff  \nDatetime                                        \n2022-09-30 09:30:00-04:00 2022-09-30  0.439194  \n2022-09-30 10:00:00-04:00 2022-09-30  0.100006  \n2022-09-30 10:30:00-04:00 2022-09-30  0.050095  \n2022-09-30 11:00:00-04:00 2022-09-30  0.328812  \n2022-09-30 11:30:00-04:00 2022-09-30 -1.300293  \n...                              ...       ...  \n2022-12-23 10:30:00-05:00 2022-12-23 -0.524902  \n2022-12-23 11:00:00-05:00 2022-12-23  0.128494  \n2022-12-23 11:30:00-05:00 2022-12-23 -0.134995  \n2022-12-23 12:00:00-05:00 2022-12-23  0.608688  \n2022-12-23 12:30:00-05:00 2022-12-23 -0.219910  \n\n[769 rows x 10 columns]",
      "text/html": "<div>\n<style scoped>\n    .dataframe tbody tr th:only-of-type {\n        vertical-align: middle;\n    }\n\n    .dataframe tbody tr th {\n        vertical-align: top;\n    }\n\n    .dataframe thead th {\n        text-align: right;\n    }\n</style>\n<table border=\"1\" class=\"dataframe\">\n  <thead>\n    <tr style=\"text-align: right;\">\n      <th></th>\n      <th>Open</th>\n      <th>High</th>\n      <th>Low</th>\n      <th>Close</th>\n      <th>Volume</th>\n      <th>Dividends</th>\n      <th>Stock Splits</th>\n      <th>company</th>\n      <th>date</th>\n      <th>Diff</th>\n    </tr>\n    <tr>\n      <th>Datetime</th>\n      <th></th>\n      <th></th>\n      <th></th>\n      <th></th>\n      <th></th>\n      <th></th>\n      <th></th>\n      <th></th>\n      <th></th>\n      <th></th>\n    </tr>\n  </thead>\n  <tbody>\n    <tr>\n      <th>2022-09-30 09:30:00-04:00</th>\n      <td>141.680801</td>\n      <td>142.630005</td>\n      <td>140.610001</td>\n      <td>142.119995</td>\n      <td>17359317</td>\n      <td>0.0</td>\n      <td>0</td>\n      <td>AAPL</td>\n      <td>2022-09-30</td>\n      <td>0.439194</td>\n    </tr>\n    <tr>\n      <th>2022-09-30 10:00:00-04:00</th>\n      <td>142.119995</td>\n      <td>142.529999</td>\n      <td>141.369995</td>\n      <td>142.220001</td>\n      <td>7632656</td>\n      <td>0.0</td>\n      <td>0</td>\n      <td>AAPL</td>\n      <td>2022-09-30</td>\n      <td>0.100006</td>\n    </tr>\n    <tr>\n      <th>2022-09-30 10:30:00-04:00</th>\n      <td>142.220001</td>\n      <td>142.889999</td>\n      <td>141.854996</td>\n      <td>142.270096</td>\n      <td>7062240</td>\n      <td>0.0</td>\n      <td>0</td>\n      <td>AAPL</td>\n      <td>2022-09-30</td>\n      <td>0.050095</td>\n    </tr>\n    <tr>\n      <th>2022-09-30 11:00:00-04:00</th>\n      <td>142.289993</td>\n      <td>143.100006</td>\n      <td>141.949997</td>\n      <td>142.618805</td>\n      <td>7083136</td>\n      <td>0.0</td>\n      <td>0</td>\n      <td>AAPL</td>\n      <td>2022-09-30</td>\n      <td>0.328812</td>\n    </tr>\n    <tr>\n      <th>2022-09-30 11:30:00-04:00</th>\n      <td>142.620300</td>\n      <td>142.740005</td>\n      <td>141.024994</td>\n      <td>141.320007</td>\n      <td>5944641</td>\n      <td>0.0</td>\n      <td>0</td>\n      <td>AAPL</td>\n      <td>2022-09-30</td>\n      <td>-1.300293</td>\n    </tr>\n    <tr>\n      <th>...</th>\n      <td>...</td>\n      <td>...</td>\n      <td>...</td>\n      <td>...</td>\n      <td>...</td>\n      <td>...</td>\n      <td>...</td>\n      <td>...</td>\n      <td>...</td>\n      <td>...</td>\n    </tr>\n    <tr>\n      <th>2022-12-23 10:30:00-05:00</th>\n      <td>131.395004</td>\n      <td>132.414993</td>\n      <td>130.750000</td>\n      <td>130.870102</td>\n      <td>5766852</td>\n      <td>0.0</td>\n      <td>0</td>\n      <td>AAPL</td>\n      <td>2022-12-23</td>\n      <td>-0.524902</td>\n    </tr>\n    <tr>\n      <th>2022-12-23 11:00:00-05:00</th>\n      <td>130.880005</td>\n      <td>131.380005</td>\n      <td>130.253098</td>\n      <td>131.008499</td>\n      <td>5149930</td>\n      <td>0.0</td>\n      <td>0</td>\n      <td>AAPL</td>\n      <td>2022-12-23</td>\n      <td>0.128494</td>\n    </tr>\n    <tr>\n      <th>2022-12-23 11:30:00-05:00</th>\n      <td>131.009995</td>\n      <td>131.690002</td>\n      <td>130.729996</td>\n      <td>130.875000</td>\n      <td>3504501</td>\n      <td>0.0</td>\n      <td>0</td>\n      <td>AAPL</td>\n      <td>2022-12-23</td>\n      <td>-0.134995</td>\n    </tr>\n    <tr>\n      <th>2022-12-23 12:00:00-05:00</th>\n      <td>130.880005</td>\n      <td>131.729996</td>\n      <td>130.830002</td>\n      <td>131.488693</td>\n      <td>2932318</td>\n      <td>0.0</td>\n      <td>0</td>\n      <td>AAPL</td>\n      <td>2022-12-23</td>\n      <td>0.608688</td>\n    </tr>\n    <tr>\n      <th>2022-12-23 12:30:00-05:00</th>\n      <td>131.490005</td>\n      <td>131.759995</td>\n      <td>131.110001</td>\n      <td>131.270096</td>\n      <td>1336047</td>\n      <td>0.0</td>\n      <td>0</td>\n      <td>AAPL</td>\n      <td>2022-12-23</td>\n      <td>-0.219910</td>\n    </tr>\n  </tbody>\n</table>\n<p>769 rows × 10 columns</p>\n</div>"
     },
     "execution_count": 17,
     "metadata": {},
     "output_type": "execute_result"
    }
   ],
   "source": [
    "getHistory('AAPL', yf.Ticker('AAPL'), '60d', '30m')"
   ],
   "metadata": {
    "collapsed": false,
    "pycharm": {
     "name": "#%%\n"
    }
   }
  },
  {
   "cell_type": "code",
   "execution_count": 18,
   "outputs": [
    {
     "data": {
      "text/plain": "                      Datetime        Open        High         Low  \\\n0    2022-11-11 09:30:00-05:00  145.625000  146.470001  144.369995   \n1    2022-11-11 10:00:00-05:00  145.419998  148.022507  144.750107   \n2    2022-11-11 10:30:00-05:00  147.600006  148.570007  147.070007   \n3    2022-11-11 11:00:00-05:00  148.119995  148.750000  146.699997   \n4    2022-11-11 11:30:00-05:00  146.714996  147.649994  146.429993   \n..                         ...         ...         ...         ...   \n373  2022-12-23 10:00:00-05:00  130.020004  131.460007  129.660507   \n374  2022-12-23 10:30:00-05:00  131.395004  132.414993  130.750000   \n375  2022-12-23 11:00:00-05:00  130.880005  131.380005  130.253098   \n376  2022-12-23 11:30:00-05:00  131.009995  131.690002  130.729996   \n377  2022-12-23 12:00:00-05:00  130.880005  131.619995  130.830002   \n\n          Close    Volume  Dividends  Stock Splits company        date  \\\n0    145.440002  13745548          0             0    AAPL  2022-11-11   \n1    147.600006   9327287          0             0    AAPL  2022-11-11   \n2    148.115005   6286433          0             0    AAPL  2022-11-11   \n3    146.699997   6136245          0             0    AAPL  2022-11-11   \n4    147.380005   5210977          0             0    AAPL  2022-11-11   \n..          ...       ...        ...           ...     ...         ...   \n373  131.389999   7954458          0             0    AAPL  2022-12-23   \n374  130.870102   5766852          0             0    AAPL  2022-12-23   \n375  131.008499   5149930          0             0    AAPL  2022-12-23   \n376  130.875000   3504501          0             0    AAPL  2022-12-23   \n377  131.529999   2047329          0             0    AAPL  2022-12-23   \n\n         Diff  EPS Estimate  Reported EPS  Offset    Earnings  \n0   -0.184998          1.27          1.29    1.57  2022-10-27  \n1    2.180008          1.27          1.29    1.57  2022-10-27  \n2    0.514999          1.27          1.29    1.57  2022-10-27  \n3   -1.419998          1.27          1.29    1.57  2022-10-27  \n4    0.665009          1.27          1.29    1.57  2022-10-27  \n..        ...           ...           ...     ...         ...  \n373  1.369995          1.27          1.29    1.57  2022-10-27  \n374 -0.524902          1.27          1.29    1.57  2022-10-27  \n375  0.128494          1.27          1.29    1.57  2022-10-27  \n376 -0.134995          1.27          1.29    1.57  2022-10-27  \n377  0.649994          1.27          1.29    1.57  2022-10-27  \n\n[378 rows x 15 columns]",
      "text/html": "<div>\n<style scoped>\n    .dataframe tbody tr th:only-of-type {\n        vertical-align: middle;\n    }\n\n    .dataframe tbody tr th {\n        vertical-align: top;\n    }\n\n    .dataframe thead th {\n        text-align: right;\n    }\n</style>\n<table border=\"1\" class=\"dataframe\">\n  <thead>\n    <tr style=\"text-align: right;\">\n      <th></th>\n      <th>Datetime</th>\n      <th>Open</th>\n      <th>High</th>\n      <th>Low</th>\n      <th>Close</th>\n      <th>Volume</th>\n      <th>Dividends</th>\n      <th>Stock Splits</th>\n      <th>company</th>\n      <th>date</th>\n      <th>Diff</th>\n      <th>EPS Estimate</th>\n      <th>Reported EPS</th>\n      <th>Offset</th>\n      <th>Earnings</th>\n    </tr>\n  </thead>\n  <tbody>\n    <tr>\n      <th>0</th>\n      <td>2022-11-11 09:30:00-05:00</td>\n      <td>145.625000</td>\n      <td>146.470001</td>\n      <td>144.369995</td>\n      <td>145.440002</td>\n      <td>13745548</td>\n      <td>0</td>\n      <td>0</td>\n      <td>AAPL</td>\n      <td>2022-11-11</td>\n      <td>-0.184998</td>\n      <td>1.27</td>\n      <td>1.29</td>\n      <td>1.57</td>\n      <td>2022-10-27</td>\n    </tr>\n    <tr>\n      <th>1</th>\n      <td>2022-11-11 10:00:00-05:00</td>\n      <td>145.419998</td>\n      <td>148.022507</td>\n      <td>144.750107</td>\n      <td>147.600006</td>\n      <td>9327287</td>\n      <td>0</td>\n      <td>0</td>\n      <td>AAPL</td>\n      <td>2022-11-11</td>\n      <td>2.180008</td>\n      <td>1.27</td>\n      <td>1.29</td>\n      <td>1.57</td>\n      <td>2022-10-27</td>\n    </tr>\n    <tr>\n      <th>2</th>\n      <td>2022-11-11 10:30:00-05:00</td>\n      <td>147.600006</td>\n      <td>148.570007</td>\n      <td>147.070007</td>\n      <td>148.115005</td>\n      <td>6286433</td>\n      <td>0</td>\n      <td>0</td>\n      <td>AAPL</td>\n      <td>2022-11-11</td>\n      <td>0.514999</td>\n      <td>1.27</td>\n      <td>1.29</td>\n      <td>1.57</td>\n      <td>2022-10-27</td>\n    </tr>\n    <tr>\n      <th>3</th>\n      <td>2022-11-11 11:00:00-05:00</td>\n      <td>148.119995</td>\n      <td>148.750000</td>\n      <td>146.699997</td>\n      <td>146.699997</td>\n      <td>6136245</td>\n      <td>0</td>\n      <td>0</td>\n      <td>AAPL</td>\n      <td>2022-11-11</td>\n      <td>-1.419998</td>\n      <td>1.27</td>\n      <td>1.29</td>\n      <td>1.57</td>\n      <td>2022-10-27</td>\n    </tr>\n    <tr>\n      <th>4</th>\n      <td>2022-11-11 11:30:00-05:00</td>\n      <td>146.714996</td>\n      <td>147.649994</td>\n      <td>146.429993</td>\n      <td>147.380005</td>\n      <td>5210977</td>\n      <td>0</td>\n      <td>0</td>\n      <td>AAPL</td>\n      <td>2022-11-11</td>\n      <td>0.665009</td>\n      <td>1.27</td>\n      <td>1.29</td>\n      <td>1.57</td>\n      <td>2022-10-27</td>\n    </tr>\n    <tr>\n      <th>...</th>\n      <td>...</td>\n      <td>...</td>\n      <td>...</td>\n      <td>...</td>\n      <td>...</td>\n      <td>...</td>\n      <td>...</td>\n      <td>...</td>\n      <td>...</td>\n      <td>...</td>\n      <td>...</td>\n      <td>...</td>\n      <td>...</td>\n      <td>...</td>\n      <td>...</td>\n    </tr>\n    <tr>\n      <th>373</th>\n      <td>2022-12-23 10:00:00-05:00</td>\n      <td>130.020004</td>\n      <td>131.460007</td>\n      <td>129.660507</td>\n      <td>131.389999</td>\n      <td>7954458</td>\n      <td>0</td>\n      <td>0</td>\n      <td>AAPL</td>\n      <td>2022-12-23</td>\n      <td>1.369995</td>\n      <td>1.27</td>\n      <td>1.29</td>\n      <td>1.57</td>\n      <td>2022-10-27</td>\n    </tr>\n    <tr>\n      <th>374</th>\n      <td>2022-12-23 10:30:00-05:00</td>\n      <td>131.395004</td>\n      <td>132.414993</td>\n      <td>130.750000</td>\n      <td>130.870102</td>\n      <td>5766852</td>\n      <td>0</td>\n      <td>0</td>\n      <td>AAPL</td>\n      <td>2022-12-23</td>\n      <td>-0.524902</td>\n      <td>1.27</td>\n      <td>1.29</td>\n      <td>1.57</td>\n      <td>2022-10-27</td>\n    </tr>\n    <tr>\n      <th>375</th>\n      <td>2022-12-23 11:00:00-05:00</td>\n      <td>130.880005</td>\n      <td>131.380005</td>\n      <td>130.253098</td>\n      <td>131.008499</td>\n      <td>5149930</td>\n      <td>0</td>\n      <td>0</td>\n      <td>AAPL</td>\n      <td>2022-12-23</td>\n      <td>0.128494</td>\n      <td>1.27</td>\n      <td>1.29</td>\n      <td>1.57</td>\n      <td>2022-10-27</td>\n    </tr>\n    <tr>\n      <th>376</th>\n      <td>2022-12-23 11:30:00-05:00</td>\n      <td>131.009995</td>\n      <td>131.690002</td>\n      <td>130.729996</td>\n      <td>130.875000</td>\n      <td>3504501</td>\n      <td>0</td>\n      <td>0</td>\n      <td>AAPL</td>\n      <td>2022-12-23</td>\n      <td>-0.134995</td>\n      <td>1.27</td>\n      <td>1.29</td>\n      <td>1.57</td>\n      <td>2022-10-27</td>\n    </tr>\n    <tr>\n      <th>377</th>\n      <td>2022-12-23 12:00:00-05:00</td>\n      <td>130.880005</td>\n      <td>131.619995</td>\n      <td>130.830002</td>\n      <td>131.529999</td>\n      <td>2047329</td>\n      <td>0</td>\n      <td>0</td>\n      <td>AAPL</td>\n      <td>2022-12-23</td>\n      <td>0.649994</td>\n      <td>1.27</td>\n      <td>1.29</td>\n      <td>1.57</td>\n      <td>2022-10-27</td>\n    </tr>\n  </tbody>\n</table>\n<p>378 rows × 15 columns</p>\n</div>"
     },
     "execution_count": 18,
     "metadata": {},
     "output_type": "execute_result"
    }
   ],
   "source": [
    "pd.read_csv('data/AAPL')"
   ],
   "metadata": {
    "collapsed": false,
    "pycharm": {
     "name": "#%%\n"
    }
   }
  },
  {
   "cell_type": "code",
   "execution_count": null,
   "outputs": [],
   "source": [],
   "metadata": {
    "collapsed": false,
    "pycharm": {
     "name": "#%%\n"
    }
   }
  }
 ],
 "metadata": {
  "kernelspec": {
   "display_name": "Python 3",
   "language": "python",
   "name": "python3"
  },
  "language_info": {
   "codemirror_mode": {
    "name": "ipython",
    "version": 2
   },
   "file_extension": ".py",
   "mimetype": "text/x-python",
   "name": "python",
   "nbconvert_exporter": "python",
   "pygments_lexer": "ipython2",
   "version": "2.7.6"
  }
 },
 "nbformat": 4,
 "nbformat_minor": 0
}