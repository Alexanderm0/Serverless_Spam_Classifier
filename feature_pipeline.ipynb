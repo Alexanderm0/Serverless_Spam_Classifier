{
 "cells": [
  {
   "cell_type": "markdown",
   "source": [],
   "metadata": {
    "collapsed": false,
    "pycharm": {
     "name": "#%% md\n"
    }
   }
  },
  {
   "cell_type": "markdown",
   "source": [
    "##### Authors: Alexander Mo & Tommaso Lucarelli\n",
    "\n",
    "# Feature pipeline for Yahoo Finance data\n",
    "This pipeline takes a set of stock market ticker symbols and retrieves historical data and statistics from Yahoo Finance. The data is then processed to fit the training pipeline's LSTM network. Upon processing the data, the features will be stored using Google Drive where they can be retrieved on demand."
   ],
   "metadata": {
    "collapsed": false,
    "pycharm": {
     "name": "#%% md\n"
    }
   }
  },
  {
   "cell_type": "code",
   "execution_count": null,
   "outputs": [
    {
     "output_type": "stream",
     "name": "stdout",
     "text": [
      "Looking in indexes: https://pypi.org/simple, https://us-python.pkg.dev/colab-wheels/public/simple/\n",
      "Requirement already satisfied: yfinance in /usr/local/lib/python3.9/dist-packages (0.2.3)\n",
      "Requirement already satisfied: beautifulsoup4>=4.11.1 in /usr/local/lib/python3.9/dist-packages (from yfinance) (4.11.1)\n",
      "Requirement already satisfied: appdirs>=1.4.4 in /usr/local/lib/python3.9/dist-packages (from yfinance) (1.4.4)\n",
      "Requirement already satisfied: frozendict>=2.3.4 in /usr/local/lib/python3.9/dist-packages (from yfinance) (2.3.4)\n",
      "Requirement already satisfied: pytz>=2022.5 in /usr/local/lib/python3.9/dist-packages (from yfinance) (2022.7)\n",
      "Requirement already satisfied: lxml>=4.9.1 in /usr/local/lib/python3.9/dist-packages (from yfinance) (4.9.2)\n",
      "Requirement already satisfied: multitasking>=0.0.7 in /usr/local/lib/python3.9/dist-packages (from yfinance) (0.0.11)\n",
      "Requirement already satisfied: cryptography>=3.3.2 in /usr/local/lib/python3.9/dist-packages (from yfinance) (39.0.0)\n",
      "Requirement already satisfied: numpy>=1.16.5 in /usr/local/lib/python3.9/dist-packages (from yfinance) (1.24.1)\n",
      "Requirement already satisfied: requests>=2.26 in /usr/local/lib/python3.9/dist-packages (from yfinance) (2.28.1)\n",
      "Requirement already satisfied: pandas>=1.3.0 in /usr/local/lib/python3.9/dist-packages (from yfinance) (1.5.2)\n",
      "Requirement already satisfied: html5lib>=1.1 in /usr/local/lib/python3.9/dist-packages (from yfinance) (1.1)\n",
      "Requirement already satisfied: soupsieve>1.2 in /usr/local/lib/python3.9/dist-packages (from beautifulsoup4>=4.11.1->yfinance) (2.3.2.post1)\n",
      "Requirement already satisfied: cffi>=1.12 in /usr/local/lib/python3.9/dist-packages (from cryptography>=3.3.2->yfinance) (1.15.1)\n",
      "Requirement already satisfied: six>=1.9 in /usr/local/lib/python3.9/dist-packages (from html5lib>=1.1->yfinance) (1.16.0)\n",
      "Requirement already satisfied: webencodings in /usr/local/lib/python3.9/dist-packages (from html5lib>=1.1->yfinance) (0.5.1)\n",
      "Requirement already satisfied: python-dateutil>=2.8.1 in /usr/local/lib/python3.9/dist-packages (from pandas>=1.3.0->yfinance) (2.8.2)\n",
      "Requirement already satisfied: charset-normalizer<3,>=2 in /usr/local/lib/python3.9/dist-packages (from requests>=2.26->yfinance) (2.1.1)\n",
      "Requirement already satisfied: urllib3<1.27,>=1.21.1 in /usr/local/lib/python3.9/dist-packages (from requests>=2.26->yfinance) (1.26.13)\n",
      "Requirement already satisfied: idna<4,>=2.5 in /usr/local/lib/python3.9/dist-packages (from requests>=2.26->yfinance) (3.4)\n",
      "Requirement already satisfied: certifi>=2017.4.17 in /usr/local/lib/python3.9/dist-packages (from requests>=2.26->yfinance) (2022.12.7)\n",
      "Requirement already satisfied: pycparser in /usr/local/lib/python3.9/dist-packages (from cffi>=1.12->cryptography>=3.3.2->yfinance) (2.21)\n",
      "\u001B[33mWARNING: Running pip as the 'root' user can result in broken permissions and conflicting behaviour with the system package manager. It is recommended to use a virtual environment instead: https://pip.pypa.io/warnings/venv\u001B[0m\u001B[33m\n",
      "\u001B[0mLooking in indexes: https://pypi.org/simple, https://us-python.pkg.dev/colab-wheels/public/simple/\n",
      "Requirement already satisfied: pandas in /usr/local/lib/python3.9/dist-packages (1.5.2)\n",
      "Requirement already satisfied: numpy>=1.20.3 in /usr/local/lib/python3.9/dist-packages (from pandas) (1.24.1)\n",
      "Requirement already satisfied: python-dateutil>=2.8.1 in /usr/local/lib/python3.9/dist-packages (from pandas) (2.8.2)\n",
      "Requirement already satisfied: pytz>=2020.1 in /usr/local/lib/python3.9/dist-packages (from pandas) (2022.7)\n",
      "Requirement already satisfied: six>=1.5 in /usr/local/lib/python3.9/dist-packages (from python-dateutil>=2.8.1->pandas) (1.16.0)\n",
      "\u001B[33mWARNING: Running pip as the 'root' user can result in broken permissions and conflicting behaviour with the system package manager. It is recommended to use a virtual environment instead: https://pip.pypa.io/warnings/venv\u001B[0m\u001B[33m\n",
      "\u001B[0m"
     ]
    }
   ],
   "source": [
    "!pip install yfinance --upgrade --no-cache-dir\n",
    "!pip install pandas"
   ],
   "metadata": {
    "collapsed": false,
    "pycharm": {
     "name": "#%%\n"
    }
   }
  },
  {
   "cell_type": "code",
   "execution_count": 1,
   "outputs": [],
   "source": [
    "import yfinance as yf\n",
    "import pandas as pd\n",
    "from random import randint"
   ],
   "metadata": {
    "collapsed": false,
    "pycharm": {
     "name": "#%%\n"
    }
   }
  },
  {
   "cell_type": "code",
   "execution_count": 1,
   "outputs": [
    {
     "data": {
      "text/plain": "           Open        High         Low       Close    Volume  Dividends  \\\n0    149.500000  149.880005  148.785004  149.449997  10322310        0.0   \n1    149.460007  149.969193  148.970001  149.289993   4350752        0.0   \n2    149.289993  149.369995  147.940002  148.839996   4434843        0.0   \n3    148.830002  149.070007  147.994995  148.089996   4137871        0.0   \n4    148.080093  148.229996  146.910004  147.449997   3214674        0.0   \n..          ...         ...         ...         ...       ...        ...   \n235  130.039993  130.039993  129.179993  129.328903   4455911        0.0   \n236  129.339905  129.339996  128.720001  129.239899   4720025        0.0   \n237  129.240005  130.279999  128.979996  130.165207   3862308        0.0   \n238  130.160004  130.294998  129.710007  130.020004   2872984        0.0   \n239  130.020004  130.389999  129.869995  129.904999   2251490        0.0   \n\n     Stock Splits      Diff  EPS Estimate  Reported EPS  Offset  \n0             0.0 -0.050003          1.27          1.29  0.0157  \n1             0.0 -0.170013          1.27          1.29  0.0157  \n2             0.0 -0.449997          1.27          1.29  0.0157  \n3             0.0 -0.740005          1.27          1.29  0.0157  \n4             0.0 -0.630096          1.27          1.29  0.0157  \n..            ...       ...           ...           ...     ...  \n235           0.0 -0.711090          1.27          1.29  0.0157  \n236           0.0 -0.100006          1.27          1.29  0.0157  \n237           0.0  0.925201          1.27          1.29  0.0157  \n238           0.0 -0.139999          1.27          1.29  0.0157  \n239           0.0 -0.115005          1.27          1.29  0.0157  \n\n[240 rows x 11 columns]",
      "text/html": "<div>\n<style scoped>\n    .dataframe tbody tr th:only-of-type {\n        vertical-align: middle;\n    }\n\n    .dataframe tbody tr th {\n        vertical-align: top;\n    }\n\n    .dataframe thead th {\n        text-align: right;\n    }\n</style>\n<table border=\"1\" class=\"dataframe\">\n  <thead>\n    <tr style=\"text-align: right;\">\n      <th></th>\n      <th>Open</th>\n      <th>High</th>\n      <th>Low</th>\n      <th>Close</th>\n      <th>Volume</th>\n      <th>Dividends</th>\n      <th>Stock Splits</th>\n      <th>Diff</th>\n      <th>EPS Estimate</th>\n      <th>Reported EPS</th>\n      <th>Offset</th>\n    </tr>\n  </thead>\n  <tbody>\n    <tr>\n      <th>0</th>\n      <td>149.500000</td>\n      <td>149.880005</td>\n      <td>148.785004</td>\n      <td>149.449997</td>\n      <td>10322310</td>\n      <td>0.0</td>\n      <td>0.0</td>\n      <td>-0.050003</td>\n      <td>1.27</td>\n      <td>1.29</td>\n      <td>0.0157</td>\n    </tr>\n    <tr>\n      <th>1</th>\n      <td>149.460007</td>\n      <td>149.969193</td>\n      <td>148.970001</td>\n      <td>149.289993</td>\n      <td>4350752</td>\n      <td>0.0</td>\n      <td>0.0</td>\n      <td>-0.170013</td>\n      <td>1.27</td>\n      <td>1.29</td>\n      <td>0.0157</td>\n    </tr>\n    <tr>\n      <th>2</th>\n      <td>149.289993</td>\n      <td>149.369995</td>\n      <td>147.940002</td>\n      <td>148.839996</td>\n      <td>4434843</td>\n      <td>0.0</td>\n      <td>0.0</td>\n      <td>-0.449997</td>\n      <td>1.27</td>\n      <td>1.29</td>\n      <td>0.0157</td>\n    </tr>\n    <tr>\n      <th>3</th>\n      <td>148.830002</td>\n      <td>149.070007</td>\n      <td>147.994995</td>\n      <td>148.089996</td>\n      <td>4137871</td>\n      <td>0.0</td>\n      <td>0.0</td>\n      <td>-0.740005</td>\n      <td>1.27</td>\n      <td>1.29</td>\n      <td>0.0157</td>\n    </tr>\n    <tr>\n      <th>4</th>\n      <td>148.080093</td>\n      <td>148.229996</td>\n      <td>146.910004</td>\n      <td>147.449997</td>\n      <td>3214674</td>\n      <td>0.0</td>\n      <td>0.0</td>\n      <td>-0.630096</td>\n      <td>1.27</td>\n      <td>1.29</td>\n      <td>0.0157</td>\n    </tr>\n    <tr>\n      <th>...</th>\n      <td>...</td>\n      <td>...</td>\n      <td>...</td>\n      <td>...</td>\n      <td>...</td>\n      <td>...</td>\n      <td>...</td>\n      <td>...</td>\n      <td>...</td>\n      <td>...</td>\n      <td>...</td>\n    </tr>\n    <tr>\n      <th>235</th>\n      <td>130.039993</td>\n      <td>130.039993</td>\n      <td>129.179993</td>\n      <td>129.328903</td>\n      <td>4455911</td>\n      <td>0.0</td>\n      <td>0.0</td>\n      <td>-0.711090</td>\n      <td>1.27</td>\n      <td>1.29</td>\n      <td>0.0157</td>\n    </tr>\n    <tr>\n      <th>236</th>\n      <td>129.339905</td>\n      <td>129.339996</td>\n      <td>128.720001</td>\n      <td>129.239899</td>\n      <td>4720025</td>\n      <td>0.0</td>\n      <td>0.0</td>\n      <td>-0.100006</td>\n      <td>1.27</td>\n      <td>1.29</td>\n      <td>0.0157</td>\n    </tr>\n    <tr>\n      <th>237</th>\n      <td>129.240005</td>\n      <td>130.279999</td>\n      <td>128.979996</td>\n      <td>130.165207</td>\n      <td>3862308</td>\n      <td>0.0</td>\n      <td>0.0</td>\n      <td>0.925201</td>\n      <td>1.27</td>\n      <td>1.29</td>\n      <td>0.0157</td>\n    </tr>\n    <tr>\n      <th>238</th>\n      <td>130.160004</td>\n      <td>130.294998</td>\n      <td>129.710007</td>\n      <td>130.020004</td>\n      <td>2872984</td>\n      <td>0.0</td>\n      <td>0.0</td>\n      <td>-0.139999</td>\n      <td>1.27</td>\n      <td>1.29</td>\n      <td>0.0157</td>\n    </tr>\n    <tr>\n      <th>239</th>\n      <td>130.020004</td>\n      <td>130.389999</td>\n      <td>129.869995</td>\n      <td>129.904999</td>\n      <td>2251490</td>\n      <td>0.0</td>\n      <td>0.0</td>\n      <td>-0.115005</td>\n      <td>1.27</td>\n      <td>1.29</td>\n      <td>0.0157</td>\n    </tr>\n  </tbody>\n</table>\n<p>240 rows × 11 columns</p>\n</div>"
     },
     "execution_count": 1,
     "metadata": {},
     "output_type": "execute_result"
    }
   ],
   "source": [
    "from stock_processing_functions import processStock"
   ],
   "metadata": {
    "collapsed": false,
    "pycharm": {
     "name": "#%%\n"
    }
   }
  },
  {
   "cell_type": "code",
   "execution_count": null,
   "outputs": [],
   "source": [
    "# Not needed with yfinance on Python 3.9\n",
    "\n",
    "def parseMonth(month):\n",
    "    \"\"\"\n",
    "    Function to parse the string of a month from the earnings date\n",
    "    :param month: string with the given month\n",
    "    :return: the number corresponding to the month in datetime format\n",
    "    \"\"\"\n",
    "    if month == 'Jan':\n",
    "        return 1\n",
    "    elif month == 'Feb':\n",
    "        return 2\n",
    "    elif month == 'Mar':\n",
    "        return 3\n",
    "    elif month == 'Apr':\n",
    "        return 4\n",
    "    elif month == 'May':\n",
    "        return 5\n",
    "    elif month == 'Jun':\n",
    "        return 6\n",
    "    elif month == 'Jul':\n",
    "        return 7\n",
    "    elif month == 'Aug':\n",
    "        return 8\n",
    "    elif month == 'Sep':\n",
    "        return 9\n",
    "    elif month == 'Oct':\n",
    "        return 10\n",
    "    elif month == 'Nov':\n",
    "        return 11\n",
    "    else:\n",
    "        return 12\n",
    "\n",
    "# Not needed with yfinance on Python 3.9\n",
    "def convertEarningsDate(df):\n",
    "    \"\"\"\n",
    "    Function to convert the earnings date format to datetime\n",
    "    :param df: dataframe containing the earnings history\n",
    "    :return: dataframe updated with the parsed datetime as date\n",
    "    \"\"\"\n",
    "    test = [None]*len(df)\n",
    "    for i in range(len(df)):\n",
    "        temp = df.loc[i, \"Earnings Date\"].split(', ')\n",
    "        temp = [x.strip() for x in temp]\n",
    "        temp = (temp[0] + ' ' + temp[1]).split(' ')\n",
    "        test[i] = [temp[2], parseMonth(temp[0]), temp[1]]\n",
    "    dt = pd.DataFrame(test, columns=['year', 'month', 'day'])\n",
    "    df['Earnings Date'] = pd.to_datetime(dt)\n",
    "    return df"
   ],
   "metadata": {
    "collapsed": false,
    "pycharm": {
     "name": "#%%\n"
    }
   }
  },
  {
   "cell_type": "markdown",
   "source": [
    "### Functions to process the data of a stock into the right format\n",
    "Final dataframe contains all necessary columns for the model in the right format and dtype."
   ],
   "metadata": {
    "collapsed": false,
    "pycharm": {
     "name": "#%% md\n"
    }
   }
  },
  {
   "cell_type": "code",
   "execution_count": null,
   "outputs": [],
   "source": [
    "def getEarnings(stock):\n",
    "    \"\"\"\n",
    "    Function to get earnings and process the date indexing\n",
    "    :param stock: yf.Ticker object of the stock to process\n",
    "    :return: earnings of the respective stock, processed.\n",
    "    \"\"\"\n",
    "    earn = stock.get_earnings_dates()\n",
    "    if earn is not None:\n",
    "        earn['Earnings Date'] = earn.index.date\n",
    "        earn['Earnings Date'] = pd.to_datetime(earn['Earnings Date'])\n",
    "    return earn\n",
    "\n",
    "def getHistory(symbol, stock, period='1mo', interval='15m'):\n",
    "    \"\"\"\n",
    "    Function to retrieve the price history of the stock and parse its date\n",
    "    :param stock: yfinance ticker object\n",
    "    :param period: the period over which data should be collected\n",
    "    :param interval: the interval for data points\n",
    "    :return: history dataframe with additional columns\n",
    "    \"\"\"\n",
    "    hist = stock.history(period = period, interval = interval)\n",
    "    hist['company'] = symbol\n",
    "    hist['date'] = hist.index.date\n",
    "    hist['date'] = pd.to_datetime(hist['date'])\n",
    "    hist['Diff'] = hist['Close'] - hist['Open']\n",
    "    return hist\n",
    "\n",
    "def getRelEarnings(e_df, hist_df):\n",
    "    \"\"\"\n",
    "    Finds the earnings data which is relevant for the given history time frame\n",
    "    :param e_df: earnings dataframe\n",
    "    :param hist_df: history dataframe\n",
    "    :return: relevant dates dataframe\n",
    "    \"\"\"\n",
    "    e_df.reset_index(inplace=True, drop=True)\n",
    "    minmax = hist_df['date'].agg(['min', 'max'])\n",
    "    last_er_idx = e_df[e_df['Earnings Date'] <= minmax['min']].index[0]\n",
    "    first_er_idx = e_df[e_df['Earnings Date'] <= minmax['max']].index[0]\n",
    "    relevant_earnings = e_df[first_er_idx:last_er_idx+1].reset_index(drop=True)\n",
    "    return relevant_earnings\n",
    "\n",
    "def fillEarnings(current, hist_df, idx_in):\n",
    "    \"\"\"\n",
    "    Function to fill the earnings columns into the history\n",
    "    :param current: dataframe holding the earnings data for the selected indices\n",
    "    :param hist_df: history dataframe\n",
    "    :param idx_in: relevant indices on the history dataframe to fill the earnings data for\n",
    "    :return: history dataframe with the earnings added for the given indices\n",
    "    \"\"\"\n",
    "    hist_df.loc[idx_in, 'EPS Estimate'] = current['EPS Estimate']\n",
    "    hist_df.loc[idx_in, 'Reported EPS'] = current['Reported EPS']\n",
    "    hist_df.loc[idx_in, 'Offset'] = current['Surprise(%)']\n",
    "    hist_df.loc[idx_in, 'Earnings'] = current['Earnings Date']\n",
    "    return hist_df\n",
    "\n",
    "\n",
    "def getHistWithEarnings(relevant_earnings, hist_df):\n",
    "    \"\"\"\n",
    "    Function to add the corresponding earnings data to the days for which the data was known.\n",
    "    :param relevant_earnings: The earnings columns which are relevant for the given history time frame\n",
    "    :param hist_df: The history dataframe\n",
    "    :return: History with added columns for each of the relevant earnings\n",
    "    \"\"\"\n",
    "    for idx in reversed(relevant_earnings.index):\n",
    "        if idx>0:\n",
    "            current = relevant_earnings.iloc[idx]\n",
    "            next = relevant_earnings.iloc[idx-1]\n",
    "            idx_in = hist_df[(hist_df['date'] >= current['Earnings Date']) &\n",
    "                             (hist_df['date'] < next['Earnings Date'])].index\n",
    "            hist_df = fillEarnings(current, hist_df, idx_in)\n",
    "        else:\n",
    "            current = relevant_earnings.iloc[idx]\n",
    "            idx_in = hist_df[(hist_df['date'] >= current['Earnings Date'])].index\n",
    "            hist_df = fillEarnings(current, hist_df, idx_in)\n",
    "    return hist_df\n",
    "\n",
    "def dropIrrelevant(hist_df: pd.DataFrame):\n",
    "    \"\"\"\n",
    "    Drop the columns which are not needed for the model\n",
    "    :param hist_df: dataframe containing the history with all other attribute columns.\n",
    "    :return: same df with the columns dropped.\n",
    "    \"\"\"\n",
    "    labels = ['date', 'Earnings', 'company']\n",
    "    return hist_df.drop(labels, axis=1)"
   ],
   "metadata": {
    "collapsed": false,
    "pycharm": {
     "name": "#%%\n"
    }
   }
  },
  {
   "cell_type": "markdown",
   "source": [
    "### Functions for selecting stocks and formatting"
   ],
   "metadata": {
    "collapsed": false,
    "pycharm": {
     "name": "#%% md\n"
    }
   }
  },
  {
   "cell_type": "code",
   "execution_count": null,
   "outputs": [],
   "source": [
    "def stockToCSV(symbol, period='1mo', interval='15m'):\n",
    "    \"\"\"\n",
    "    Functions to write stock information to CSV\n",
    "    :param symbol: ticker symbol of the company\n",
    "    :param period: over what time period the history data should be taken\n",
    "    :param interval: how often a sample is taken over the period\n",
    "    :return:\n",
    "    \"\"\"\n",
    "    stock = yf.Ticker(symbol)\n",
    "    earnings = getEarnings(stock)\n",
    "    # earnings = convertEarningsDate(earnings)\n",
    "    hist = getHistory(symbol, stock, period=period, interval=interval)\n",
    "    rel_earnings = getRelEarnings(earnings, hist)\n",
    "    hist = getHistWithEarnings(rel_earnings, hist)\n",
    "    hist = dropIrrelevant(hist)\n",
    "    hist.to_csv('./data/' + symbol)\n",
    "\n",
    "def stockToDf(symbol, earnings, period='1mo', interval='15m'):\n",
    "    \"\"\"\n",
    "    Functions to write stock information to CSV\n",
    "    :param symbol: ticker symbol of the company\n",
    "    :param earnings: dataframe containing the respective earnings\n",
    "    :param period: over what time period the history data should be taken\n",
    "    :param interval: how often a sample is taken over the period\n",
    "    :return:\n",
    "    \"\"\"\n",
    "    stock = yf.Ticker(symbol)\n",
    "    # earnings = getEarnings(stock)\n",
    "    hist = getHistory(symbol, stock, period=period, interval=interval)\n",
    "    rel_earnings = getRelEarnings(earnings, hist)\n",
    "    hist = getHistWithEarnings(rel_earnings, hist)\n",
    "    hist = dropIrrelevant(hist)\n",
    "    return hist\n",
    "\n",
    "def getStocks():\n",
    "    \"\"\"\n",
    "    Get all stock symbols listed on Nasdaq\n",
    "    :return: list with symbols\n",
    "    \"\"\"\n",
    "    df = pd.read_table('http://www.nasdaqtrader.com/dynamic/symdir/nasdaqlisted.txt')\n",
    "    # local run\n",
    "    # df = pd.read_table('tickers.txt')\n",
    "    symbols = [None]*len(df)\n",
    "    for idx, line in df.iterrows():\n",
    "        symbols[idx] = line[0].split('|')[0]\n",
    "    return symbols\n",
    "\n",
    "def selectStocks(stocks, n):\n",
    "    \"\"\"\n",
    "    Select n random stocks from the list\n",
    "    :param stocks: list of company symbols\n",
    "    :param n: number of companies to select\n",
    "    :return: selected symbols\n",
    "    \"\"\"\n",
    "    idxs = []\n",
    "    selected = [None]*n\n",
    "    earnings = [None]*n\n",
    "    counter = 0\n",
    "    while len(idxs) < n:\n",
    "        temp_int = randint(0, len(stocks))\n",
    "        if len(stocks) == n:\n",
    "            temp_int = counter\n",
    "        if temp_int not in idxs:\n",
    "            earn = getEarnings(yf.Ticker(stocks[temp_int]))\n",
    "            if earn is not None:\n",
    "                idxs.append(temp_int)\n",
    "                selected[counter] = stocks[temp_int]\n",
    "                earnings[counter] = earn\n",
    "                counter += 1\n",
    "    return selected, earnings\n",
    "\n",
    "def selectAll(stocks):\n",
    "    \"\"\"\n",
    "    Select all stocks which have enough data on yfinance listed on the Nasdaq list\n",
    "    :param stocks: list of company symbols fom Nasdaq\n",
    "    :return: current symbols\n",
    "    \"\"\"\n",
    "    selected = []\n",
    "    earnings = []\n",
    "    for stock in stocks:\n",
    "        try:\n",
    "            temp = getEarnings(yf.Ticker(stock))\n",
    "        except:\n",
    "            print('error loading the stock')\n",
    "        if temp is not None:\n",
    "            selected.append(stock)\n",
    "            earnings.append(temp)\n",
    "    return selected, earnings\n"
   ],
   "metadata": {
    "collapsed": false,
    "pycharm": {
     "name": "#%%\n"
    }
   }
  },
  {
   "cell_type": "markdown",
   "source": [
    "### Run and store features on Google Drive"
   ],
   "metadata": {
    "collapsed": false,
    "pycharm": {
     "name": "#%% md\n"
    }
   }
  },
  {
   "cell_type": "code",
   "execution_count": null,
   "outputs": [
    {
     "output_type": "stream",
     "name": "stdout",
     "text": [
      "Drive already mounted at /gdrive; to attempt to forcibly remount, call drive.mount(\"/gdrive\", force_remount=True).\n",
      "/gdrive/MyDrive/Scalable/Project/feature_store\n"
     ]
    }
   ],
   "source": [
    "from google.colab import drive\n",
    "drive.mount('/gdrive')\n",
    "\n",
    "%cd /gdrive/MyDrive/Scalable/Project/feature_store"
   ],
   "metadata": {
    "collapsed": false,
    "pycharm": {
     "name": "#%%\n"
    }
   }
  },
  {
   "cell_type": "code",
   "execution_count": null,
   "outputs": [],
   "source": [
    "# PARAMETERS FOR RUN\n",
    "SET = False\n",
    "N = 5\n",
    "ONE_CSV = True\n",
    "PATH = './features.csv'\n",
    "\n",
    "def runAll(n):\n",
    "    stocks = getStocks()\n",
    "    if SET:\n",
    "        selected, earnings = selectStocks(stocks, n)\n",
    "    else:\n",
    "        stocks = ['AAPL', 'TSLA', 'AMZN']\n",
    "        selected, earnings = selectStocks(stocks, len(stocks))\n",
    "    if ONE_CSV:\n",
    "        df = pd.DataFrame()\n",
    "        for idx, stock in enumerate(selected):\n",
    "            df = df.append(stockToDf(selected[idx], earnings[idx]))\n",
    "        df.reset_index(drop=True, inplace=True)\n",
    "        with open(PATH, 'w', encoding = 'utf-8-sig') as f:\n",
    "            df.to_csv(f)\n",
    "    else:\n",
    "        for stock in selected:\n",
    "            stockToCSV(stock)\n"
   ],
   "metadata": {
    "collapsed": false,
    "pycharm": {
     "name": "#%%\n"
    }
   }
  },
  {
   "cell_type": "code",
   "execution_count": null,
   "outputs": [
    {
     "output_type": "stream",
     "name": "stdout",
     "text": [
      "['AACG', 'AACI', 'AACIU', 'AACIW', 'AADI', 'AADR', 'AAL', 'AAME', 'AAOI', 'AAON', 'AAPB', 'AAPD', 'AAPL', 'AAPU', 'AAWW', 'AAXJ', 'ABCB', 'ABCL', 'ABCM', 'ABEO', 'ABGI', 'ABIO', 'ABNB', 'ABOS', 'ABSI', 'ABST', 'ABUS', 'ABVC', 'ACAB', 'ACABU', 'ACABW', 'ACAC', 'ACACU', 'ACACW', 'ACAD', 'ACAH', 'ACAHU', 'ACAHW', 'ACAX', 'ACAXR', 'ACAXU', 'ACAXW', 'ACB', 'ACBA', 'ACBAU', 'ACBAW', 'ACCD', 'ACDC', 'ACDCW', 'ACER', 'ACET', 'ACGL', 'ACGLN', 'ACGLO', 'ACHC', 'ACHL', 'ACHV', 'ACIU', 'ACIW', 'ACLS', 'ACLX', 'ACMR', 'ACNB', 'ACNT', 'ACON', 'ACONW', 'ACOR', 'ACQR', 'ACQRU', 'ACQRW', 'ACRS', 'ACRV', 'ACRX', 'ACST', 'ACT', 'ACTG', 'ACVA', 'ACWI', 'ACWX', 'ACXP', 'ADAG', 'ADAL', 'ADALU', 'ADALW', 'ADAP', 'ADBE', 'ADD', 'ADEA', 'ADER', 'ADERU', 'ADERW', 'ADES', 'ADI', 'ADIL', 'ADILW', 'ADMA', 'ADMP', 'ADN', 'ADNWW', 'ADOC', 'ADOCR', 'ADOCW', 'ADP', 'ADPT', 'ADRE', 'ADSE', 'ADSEW', 'ADSK', 'ADTH', 'ADTHW', 'ADTN', 'ADTX', 'ADUS', 'ADV', 'ADVM', 'ADVWW', 'ADXN', 'AEAC', 'AEACU', 'AEACW', 'AEAE', 'AEAEU', 'AEAEW', 'AEHA', 'AEHAU', 'AEHAW', 'AEHL', 'AEHR', 'AEI', 'AEIS', 'AEMD', 'AEP', 'AEPPZ', 'AERC', 'AEY', 'AEYE', 'AEZS', 'AFAR', 'AFARU', 'AFARW', 'AFBI', 'AFCG', 'AFIB', 'AFMD', 'AFRI', 'AFRIW', 'AFRM', 'AFYA', 'AGAE', 'AGBA', 'AGBAW', 'AGEN', 'AGFS', 'AGFY', 'AGGR', 'AGGRU', 'AGGRW', 'AGIL', 'AGILW', 'AGIO', 'AGLE', 'AGMH', 'AGNC', 'AGNCL', 'AGNCM', 'AGNCN', 'AGNCO', 'AGNCP', 'AGNG', 'AGRI', 'AGRIW', 'AGRX', 'AGYS', 'AGZD', 'AHCO', 'AHG', 'AHI', 'AHPI', 'AHRN', 'AHRNU', 'AHRNW', 'AIA', 'AIB', 'AIBBR', 'AIBBU', 'AIH', 'AIHS', 'AIMAU', 'AIMAW', 'AIMBU', 'AIMC', 'AIMD', 'AIMDW', 'AIP', 'AIQ', 'AIRG', 'AIRR', 'AIRS', 'AIRT', 'AIRTP', 'AKAM', 'AKAN', 'AKBA', 'AKLI', 'AKRO', 'AKTS', 'AKTX', 'AKU', 'AKYA', 'ALBO', 'ALBT', 'ALCO', 'ALDX', 'ALEC', 'ALGM', 'ALGN', 'ALGS', 'ALGT', 'ALHC', 'ALIM', 'ALKS', 'ALKT', 'ALLK', 'ALLO', 'ALLR', 'ALLT', 'ALNY', 'ALOR', 'ALORU', 'ALORW', 'ALOT', 'ALPA', 'ALPAU', 'ALPAW', 'ALPN', 'ALPP', 'ALPS', 'ALR', 'ALRM', 'ALRN', 'ALRS', 'ALSA', 'ALSAR', 'ALSAU', 'ALSAW', 'ALT', 'ALTI', 'ALTIW', 'ALTO', 'ALTR', 'ALTU', 'ALTUU', 'ALTUW', 'ALTY', 'ALVO', 'ALVOW', 'ALVR', 'ALXO', 'ALYA', 'ALZN', 'AMAL', 'AMAO', 'AMAOU', 'AMAOW', 'AMAT', 'AMBA', 'AMCI', 'AMCIU', 'AMCIW', 'AMCX', 'AMD', 'AMED', 'AMEH', 'AMGN', 'AMID', 'AMKR', 'AMLI', 'AMLX', 'AMNB', 'AMOT', 'AMPG', 'AMPGW', 'AMPH', 'AMPL', 'AMRK', 'AMRN', 'AMRS', 'AMSC', 'AMSF', 'AMST', 'AMSWA', 'AMTB', 'AMTI', 'AMTX', 'AMV', 'AMWD', 'AMYT', 'AMZD', 'AMZN', 'AMZU', 'ANAB', 'ANDE', 'ANEB', 'ANGH', 'ANGHW', 'ANGI', 'ANGL', 'ANGN', 'ANGO', 'ANIK', 'ANIP', 'ANIX', 'ANNX', 'ANPC', 'ANSS', 'ANTE', 'ANTX', 'ANY', 'ANZU', 'ANZUU', 'ANZUW', 'AOGO', 'AOGOU', 'AOGOW', 'AOSL', 'AOTG', 'AOUT', 'APA', 'APAC', 'APACU', 'APACW', 'APCX', 'APCXW', 'APDN', 'APEI', 'APEN', 'APGN', 'APGNW', 'API', 'APLD', 'APLS', 'APLT', 'APM', 'APMI', 'APMIU', 'APMIW', 'APOG', 'APP', 'APPF', 'APPH', 'APPHW', 'APPN', 'APPS', 'APRE', 'APTM', 'APTMU', 'APTMW', 'APTO', 'APTX', 'APVO', 'APWC', 'APXI', 'APXIU', 'APXIW', 'APYX', 'AQB', 'AQMS', 'AQST', 'AQU', 'AQUNR', 'AQUNU', 'AQWA', 'ARAV', 'ARAY', 'ARBE', 'ARBEW', 'ARBG', 'ARBGU', 'ARBGW', 'ARBK', 'ARBKL', 'ARCB', 'ARCC', 'ARCE', 'ARCK', 'ARCKU', 'ARCKW', 'ARCT', 'ARDS', 'ARDX', 'AREB', 'AREBW', 'AREC', 'ARGX', 'ARHS', 'ARIZ', 'ARIZR', 'ARIZU', 'ARIZW', 'ARKO', 'ARKOW', 'ARKR', 'ARLP', 'AROW', 'ARQQ', 'ARQQW', 'ARQT', 'ARRW', 'ARRWU', 'ARRWW', 'ARRY', 'ARTE', 'ARTEU', 'ARTEW', 'ARTL', 'ARTLW', 'ARTNA', 'ARTW', 'ARVL', 'ARVN', 'ARVR', 'ARWR', 'ARYD', 'ARYE', 'ASAP', 'ASCA', 'ASCAR', 'ASCAU', 'ASCAW', 'ASCB', 'ASCBR', 'ASCBU', 'ASCBW', 'ASET', 'ASLE', 'ASLN', 'ASMB', 'ASML', 'ASND', 'ASNS', 'ASO', 'ASPA', 'ASPAU', 'ASPAW', 'ASPI', 'ASPS', 'ASPU', 'ASRT', 'ASRV', 'ASTC', 'ASTE', 'ASTI', 'ASTL', 'ASTLW', 'ASTR', 'ASTS', 'ASTSW', 'ASUR', 'ASYS', 'ATAI', 'ATAK', 'ATAKR', 'ATAKU', 'ATAKW', 'ATAT', 'ATCOL', 'ATCX', 'ATEC', 'ATER', 'ATEX', 'ATHA', 'ATHE', 'ATHX', 'ATIF', 'ATLC', 'ATLCL', 'ATLCP', 'ATLO', 'ATLX', 'ATMCU', 'ATMVU', 'ATNF', 'ATNFW', 'ATNI', 'ATNX', 'ATOM', 'ATOS', 'ATRA', 'ATRC', 'ATRI', 'ATRO', 'ATSG', 'ATVI', 'ATXG', 'ATXI', 'ATXS', 'ATY', 'AUB', 'AUBAP', 'AUBN', 'AUDC', 'AUGX', 'AUID', 'AUPH', 'AUR', 'AURA', 'AURC', 'AURCU', 'AURCW', 'AUROW', 'AUTL', 'AUUD', 'AUUDW', 'AUVI', 'AUVIP', 'AVAC', 'AVACU', 'AVACW', 'AVAH', 'AVAV', 'AVCT', 'AVCTW', 'AVDL', 'AVDX', 'AVEO', 'AVGO', 'AVGR', 'AVHI', 'AVHIU', 'AVHIW', 'AVID', 'AVIR', 'AVNW', 'AVO', 'AVPT', 'AVPTW', 'AVRO', 'AVT', 'AVTE', 'AVTX', 'AVXL', 'AWH', 'AWRE', 'AXDX', 'AXGN', 'AXLA', 'AXNX', 'AXON', 'AXSM', 'AXTI', 'AY', 'AYLA', 'AYRO', 'AYTU', 'AZ', 'AZN', 'AZPN', 'AZTA', 'AZYO', 'BABX', 'BACK', 'BAFN', 'BAND', 'BANF', 'BANFP', 'BANR', 'BANX', 'BAOS', 'BASE', 'BATRA', 'BATRK', 'BBBY', 'BBCP', 'BBGI', 'BBH', 'BBIG', 'BBIO', 'BBLG', 'BBLGW', 'BBSI', 'BCAB', 'BCAN', 'BCBP', 'BCDA', 'BCDAW', 'BCEL', 'BCLI', 'BCML', 'BCOR', 'BCOV', 'BCOW', 'BCPC', 'BCRX', 'BCSA', 'BCSAU', 'BCSAW', 'BCTX', 'BCTXW', 'BCYC', 'BDSX', 'BDTX', 'BEAM', 'BEAT', 'BEATW', 'BECN', 'BEEM', 'BEEMW', 'BELFA', 'BELFB', 'BFC', 'BFI', 'BFIIW', 'BFIN', 'BFIT', 'BFRI', 'BFRIW', 'BFST', 'BGCP', 'BGFV', 'BGNE', 'BGRN', 'BGRY', 'BGRYW', 'BGXX', 'BHAC', 'BHACU', 'BHACW', 'BHAT', 'BHF', 'BHFAL', 'BHFAM', 'BHFAN', 'BHFAO', 'BHFAP', 'BIAF', 'BIAFW', 'BIB', 'BICK', 'BIDU', 'BIGC', 'BIIB', 'BILI', 'BIMI', 'BIOC', 'BIOL', 'BIOR', 'BIOS', 'BIOSU', 'BIOSW', 'BIOT', 'BIOTU', 'BIOTW', 'BIOX', 'BIRD', 'BIS', 'BITF', 'BITS', 'BIVI', 'BJDX', 'BJK', 'BJRI', 'BKCC', 'BKCH', 'BKNG', 'BKR', 'BKSC', 'BKYI', 'BL', 'BLBD', 'BLBX', 'BLCM', 'BLCN', 'BLDE', 'BLDEW', 'BLDP', 'BLEU', 'BLEUR', 'BLEUU', 'BLEUW', 'BLFS', 'BLFY', 'BLI', 'BLIN', 'BLKB', 'BLLD', 'BLMN', 'BLNG', 'BLNGU', 'BLNGW', 'BLNK', 'BLNKW', 'BLPH', 'BLRX', 'BLTE', 'BLU', 'BLUE', 'BLZE', 'BMAQ', 'BMAQR', 'BMAQU', 'BMAQW', 'BMBL', 'BMEA', 'BMRA', 'BMRC', 'BMRN', 'BND', 'BNDW', 'BNDX', 'BNFT', 'BNGO', 'BNGOW', 'BNIX', 'BNIXR', 'BNIXW', 'BNNR', 'BNNRU', 'BNNRW', 'BNOX', 'BNR', 'BNRG', 'BNSO', 'BNTC', 'BNTX', 'BOCN', 'BOCNU', 'BOCNW', 'BOKF', 'BOLT', 'BON', 'BOOM', 'BOSC', 'BOTJ', 'BOTZ', 'BOXL', 'BPAC', 'BPACU', 'BPACW', 'BPMC', 'BPOP', 'BPOPM', 'BPRN', 'BPTH', 'BPTS', 'BPYPM', 'BPYPN', 'BPYPO', 'BPYPP', 'BRAC', 'BRACR', 'BRACU', 'BRAG', 'BREZ', 'BREZR', 'BREZW', 'BRFH', 'BRID', 'BRIV', 'BRIVU', 'BRIVW', 'BRKH', 'BRKHU', 'BRKHW', 'BRKL', 'BRKR', 'BRLI', 'BRLIR', 'BRLIU', 'BRLIW', 'BRLT', 'BRNY', 'BROG', 'BROGW', 'BRP', 'BRQS', 'BRSH', 'BRSHW', 'BRTX', 'BRY', 'BRZE', 'BSBK', 'BSCE', 'BSCN', 'BSCO', 'BSCP', 'BSCQ', 'BSCR', 'BSCS', 'BSCT', 'BSCU', 'BSCV', 'BSCW', 'BSDE', 'BSET', 'BSFC', 'BSGA', 'BSGAR', 'BSGAU', 'BSGM', 'BSJN', 'BSJO', 'BSJP', 'BSJQ', 'BSJR', 'BSJS', 'BSJT', 'BSJU', 'BSMN', 'BSMO', 'BSMP', 'BSMQ', 'BSMR', 'BSMS', 'BSMT', 'BSMU', 'BSMV', 'BSQR', 'BSRR', 'BSVN', 'BSY', 'BTAI', 'BTB', 'BTBD', 'BTBDW', 'BTBT', 'BTCS', 'BTCY', 'BTEC', 'BTF', 'BTMD', 'BTMDW', 'BTOG', 'BTTX', 'BTWN', 'BTWNU', 'BTWNW', 'BUG', 'BULD', 'BUSE', 'BVS', 'BVXV', 'BWAC', 'BWACU', 'BWACW', 'BWAQ', 'BWAQR', 'BWAQU', 'BWAQW', 'BWAY', 'BWB', 'BWBBP', 'BWC', 'BWCAU', 'BWCAW', 'BWEN', 'BWFG', 'BWMN', 'BWMX', 'BWV', 'BXRX', 'BYFC', 'BYND', 'BYNO', 'BYNOU', 'BYNOW', 'BYOB', 'BYRN', 'BYSI', 'BYTS', 'BYTSU', 'BYTSW', 'BZ', 'BZFD', 'BZFDW', 'BZUN', 'CAAS', 'CABA', 'CAC', 'CACC', 'CACG', 'CACO', 'CADL', 'CAKE', 'CALA', 'CALB', 'CALM', 'CALT', 'CAMP', 'CAMT', 'CAN', 'CAPR', 'CAR', 'CARA', 'CARE', 'CARG', 'CARV', 'CARZ', 'CASA', 'CASH', 'CASI', 'CASS', 'CASY', 'CATC', 'CATH', 'CATY', 'CBAN', 'CBAT', 'CBAY', 'CBFV', 'CBIO', 'CBNK', 'CBRG', 'CBRGU', 'CBRGW', 'CBRL', 'CBSH', 'CCAI', 'CCAIU', 'CCAIW', 'CCAP', 'CCB', 'CCBG', 'CCCC', 'CCCS', 'CCD', 'CCEP', 'CCLD', 'CCLDO', 'CCLDP', 'CCLP', 'CCNE', 'CCNEP', 'CCOI', 'CCRN', 'CCSI', 'CCSO', 'CCTS', 'CCTSU', 'CCTSW', 'CD', 'CDAK', 'CDAQ', 'CDAQU', 'CDAQW', 'CDC', 'CDIO', 'CDIOW', 'CDL', 'CDLX', 'CDMO', 'CDNA', 'CDNS', 'CDRO', 'CDROW', 'CDTX', 'CDW', 'CDXC', 'CDXS', 'CDZI', 'CDZIP', 'CEAD', 'CEADW', 'CECO', 'CEFA', 'CEG', 'CELC', 'CELH', 'CELU', 'CELUW', 'CELZ', 'CEMI', 'CENN', 'CENQ', 'CENQU', 'CENQW', 'CENT', 'CENTA', 'CENX', 'CERE', 'CERS', 'CERT', 'CETX', 'CETXP', 'CEVA', 'CFA', 'CFB', 'CFBK', 'CFFE', 'CFFEU', 'CFFEW', 'CFFI', 'CFFN', 'CFFS', 'CFFSU', 'CFFSW', 'CFIV', 'CFIVU', 'CFIVW', 'CFLT', 'CFMS', 'CFO', 'CFRX', 'CFSB', 'CG', 'CGABL', 'CGBD', 'CGC', 'CGEM', 'CGEN', 'CGNT', 'CGNX', 'CGO', 'CGRN', 'CGTX', 'CHB', 'CHCI', 'CHCO', 'CHDN', 'CHEA', 'CHEAU', 'CHEAW', 'CHEF', 'CHEK', 'CHEKZ', 'CHI', 'CHK', 'CHKEL', 'CHKEW', 'CHKEZ', 'CHKP', 'CHMG', 'CHNA', 'CHNR', 'CHRD', 'CHRS', 'CHRW', 'CHSCL', 'CHSCM', 'CHSCN', 'CHSCO', 'CHSCP', 'CHTR', 'CHUY', 'CHW', 'CHX', 'CHY', 'CIBR', 'CID', 'CIDM', 'CIFR', 'CIFRW', 'CIGI', 'CIH', 'CIIG', 'CIIGU', 'CIIGW', 'CIL', 'CINC', 'CINF', 'CING', 'CINGW', 'CIRC', 'CISO', 'CITE', 'CITEU', 'CITEW', 'CIVB', 'CIZ', 'CIZN', 'CJJD', 'CKPT', 'CLAR', 'CLAY', 'CLAYU', 'CLAYW', 'CLBK', 'CLBT', 'CLBTW', 'CLDX', 'CLEU', 'CLFD', 'CLGN', 'CLIN', 'CLINR', 'CLINU', 'CLINW', 'CLIR', 'CLLS', 'CLMB', 'CLMT', 'CLNE', 'CLNN', 'CLNNW', 'CLOE', 'CLOER', 'CLOEU', 'CLOU', 'CLOV', 'CLPS', 'CLPT', 'CLRB', 'CLRC', 'CLRCR', 'CLRCU', 'CLRCW', 'CLRG', 'CLRO', 'CLSA', 'CLSC', 'CLSD', 'CLSK', 'CLSM', 'CLST', 'CLVR', 'CLVRW', 'CLWT', 'CLXT', 'CMAX', 'CMAXW', 'CMBM', 'CMCA', 'CMCAU', 'CMCAW', 'CMCO', 'CMCSA', 'CMCT', 'CMCTP', 'CME', 'CMLS', 'CMMB', 'CMND', 'CMPO', 'CMPOW', 'CMPR', 'CMPS', 'CMPX', 'CMRA', 'CMRAW', 'CMRX', 'CMTL', 'CNCE', 'CNCR', 'CNDT', 'CNET', 'CNEY', 'CNFR', 'CNFRL', 'CNGL', 'CNGLU', 'CNGLW', 'CNNB', 'CNOB', 'CNOBP', 'CNSL', 'CNSP', 'CNTA', 'CNTB', 'CNTG', 'CNTX', 'CNTY', 'CNXA', 'CNXC', 'CNXN', 'COCO', 'COCP', 'CODA', 'CODX', 'COEP', 'COEPW', 'COFS', 'COGT', 'COHR', 'COHU', 'COIN', 'COKE', 'COLB', 'COLL', 'COLM', 'COMM', 'COMS', 'COMSP', 'COMSW', 'COMT', 'CONL', 'CONN', 'CONX', 'CONXU', 'CONXW', 'COOL', 'COOLU', 'COOLW', 'COOP', 'CORT', 'COSM', 'COST', 'COUP', 'COWG', 'COWN', 'COWNL', 'COYA', 'CPAA', 'CPAAU', 'CPAAW', 'CPAQ', 'CPAQU', 'CPAQW', 'CPAR', 'CPARU', 'CPARW', 'CPHC', 'CPIX', 'CPLP', 'CPOP', 'CPRT', 'CPRX', 'CPSH', 'CPSI', 'CPSS', 'CPTN', 'CPTNW', 'CPZ', 'CRAI', 'CRBP', 'CRBU', 'CRCT', 'CRDF', 'CRDL', 'CRDO', 'CREC', 'CRECU', 'CRECW', 'CREG', 'CRESW', 'CRESY', 'CREX', 'CREXW', 'CRGE', 'CRIS', 'CRKN', 'CRMD', 'CRMT', 'CRNC', 'CRNT', 'CRNX', 'CRON', 'CROX', 'CRSP', 'CRSR', 'CRTO', 'CRUS', 'CRVL', 'CRVS', 'CRWD', 'CRWS', 'CRZN', 'CRZNU', 'CRZNW', 'CSA', 'CSB', 'CSBR', 'CSCO', 'CSF', 'CSGP', 'CSGS', 'CSII', 'CSIQ', 'CSLM', 'CSLMR', 'CSLMU', 'CSLMW', 'CSML', 'CSPI', 'CSQ', 'CSSE', 'CSSEL', 'CSSEN', 'CSSEP', 'CSTE', 'CSTL', 'CSTR', 'CSWC', 'CSWI', 'CSX', 'CTAQ', 'CTAQU', 'CTAQW', 'CTAS', 'CTBI', 'CTEC', 'CTG', 'CTHR', 'CTIB', 'CTIC', 'CTKB', 'CTLP', 'CTMX', 'CTRM', 'CTRN', 'CTSH', 'CTSO', 'CTXR', 'CUBA', 'CUE', 'CUEN', 'CUENW', 'CULL', 'CURI', 'CURIW', 'CUTR', 'CVAC', 'CVBF', 'CVCO', 'CVCY', 'CVGI', 'CVGW', 'CVLG', 'CVLT', 'CVLY', 'CVRX', 'CVT', 'CVV', 'CWBC', 'CWBR', 'CWCO', 'CWST', 'CXDO', 'CXSE', 'CYAD', 'CYAN', 'CYBR', 'CYCC', 'CYCCP', 'CYCN', 'CYN', 'CYRN', 'CYRX', 'CYT', 'CYTH', 'CYTHW', 'CYTK', 'CYTO', 'CYXT', 'CZFS', 'CZNC', 'CZR', 'CZWI', 'DADA', 'DAIO', 'DAKT', 'DALI', 'DALN', 'DALS', 'DAM', 'DAPP', 'DARE', 'DATS', 'DATSW', 'DAVE', 'DAVEW', 'DAWN', 'DAX', 'DBGI', 'DBGIW', 'DBTX', 'DBVT', 'DBX', 'DCBO', 'DCFC', 'DCFCW', 'DCGO', 'DCOM', 'DCOMP', 'DCPH', 'DCRD', 'DCRDU', 'DCRDW', 'DCT', 'DCTH', 'DDI', 'DDIV', 'DDOG', 'DECA', 'DECAU', 'DECAW', 'DEMZ', 'DENN', 'DERM', 'DFFN', 'DFLI', 'DFLIW', 'DGHI', 'DGICA', 'DGICB', 'DGII', 'DGLY', 'DGNU', 'DGRE', 'DGRS', 'DGRW', 'DH', 'DHAC', 'DHACU', 'DHACW', 'DHC', 'DHCA', 'DHCAU', 'DHCAW', 'DHCNI', 'DHCNL', 'DHHC', 'DHHCU', 'DHHCW', 'DHIL', 'DIBS', 'DICE', 'DIOD', 'DISA', 'DISAU', 'DISAW', 'DISH', 'DIVD', 'DJCO', 'DKDCA', 'DKDCU', 'DKDCW', 'DKNG', 'DLCA', 'DLCAU', 'DLCAW', 'DLHC', 'DLO', 'DLPN', 'DLTH', 'DLTR', 'DMAC', 'DMAQ', 'DMAQR', 'DMAT', 'DMLP', 'DMRC', 'DMTK', 'DMXF', 'DNAB', 'DNAD', 'DNLI', 'DNUT', 'DOCU', 'DOGZ', 'DOMH', 'DOMO', 'DOOO', 'DORM', 'DOX', 'DOYU', 'DPCS', 'DPCSU', 'DPCSW', 'DPRO', 'DRCT', 'DRCTW', 'DRIO', 'DRIV', 'DRMA', 'DRMAW', 'DRRX', 'DRS', 'DRTS', 'DRTSW', 'DRTT', 'DRUG', 'DRVN', 'DSEY', 'DSGN', 'DSGR', 'DSGX', 'DSKE', 'DSP', 'DSPC', 'DSWL', 'DTEA', 'DTIL', 'DTOC', 'DTOCU', 'DTOCW', 'DTRT', 'DTRTU', 'DTRTW', 'DTSS', 'DTST', 'DTSTW', 'DUET', 'DUETU', 'DUETW', 'DUNE', 'DUNEU', 'DUNEW', 'DUO', 'DUOL', 'DUOT', 'DVAL', 'DVAX', 'DVLU', 'DVOL', 'DVY', 'DWAC', 'DWACU', 'DWACW', 'DWAS', 'DWAW', 'DWEQ', 'DWMC', 'DWSH', 'DWSN', 'DWUS', 'DXCM', 'DXGE', 'DXJS', 'DXLG', 'DXPE', 'DXR', 'DXYN', 'DYAI', 'DYN', 'DYNT', 'DZSI', 'EA', 'EAC', 'EACPU', 'EACPW', 'EAR', 'EAST', 'EBAC', 'EBACU', 'EBACW', 'EBAY', 'EBC', 'EBET', 'EBIX', 'EBIZ', 'EBMT', 'EBON', 'EBTC', 'ECBK', 'ECOR', 'ECOW', 'ECPG', 'ECX', 'ECXWW', 'EDAP', 'EDBL', 'EDBLW', 'EDIT', 'EDOC', 'EDRY', 'EDSA', 'EDTK', 'EDTX', 'EDTXU', 'EDTXW', 'EDUC', 'EDUT', 'EEFT', 'EEIQ', 'EEMA', 'EFAS', 'EFHT', 'EFHTR', 'EFHTW', 'EFOI', 'EFRA', 'EFSC', 'EFSCP', 'EFTR', 'EFTRW', 'EGAN', 'EGBN', 'EGHT', 'EGIO', 'EGLX', 'EGRX', 'EH', 'EHTH', 'EIGR', 'EJH', 'EKG', 'EKSO', 'ELBM', 'ELDN', 'ELEV', 'ELOX', 'ELSE', 'ELTK', 'ELYM', 'ELYS', 'EM', 'EMB', 'EMBC', 'EMBK', 'EMBKW', 'EMCB', 'EMCG', 'EMCGR', 'EMCGU', 'EMCGW', 'EMIF', 'EMKR', 'EML', 'EMLD', 'EMLDU', 'EMLDW', 'EMXC', 'EMXF', 'ENCP', 'ENCPU', 'ENCPW', 'ENER', 'ENERR', 'ENERU', 'ENERW', 'ENG', 'ENLV', 'ENOB', 'ENPH', 'ENSC', 'ENSG', 'ENTA', 'ENTF', 'ENTFU', 'ENTFW', 'ENTG', 'ENTX', 'ENTXW', 'ENVB', 'ENVX', 'ENZL', 'EOLS', 'EOSE', 'EOSEW', 'EPHY', 'EPHYU', 'EPHYW', 'EPIX', 'EPOW', 'EPSN', 'EQ', 'EQBK', 'EQIX', 'EQRR', 'EQRX', 'EQRXW', 'ERAS', 'ERES', 'ERESU', 'ERESW', 'ERET', 'ERIC', 'ERIE', 'ERII', 'ERNA', 'ERYP', 'ESAC', 'ESACU', 'ESACW', 'ESCA', 'ESEA', 'ESGD', 'ESGE', 'ESGR', 'ESGRO', 'ESGRP', 'ESGU', 'ESLT', 'ESMV', 'ESOA', 'ESPO', 'ESPR', 'ESQ', 'ESSA', 'ESTA', 'ETNB', 'ETON', 'ETSY', 'EUCR', 'EUCRU', 'EUCRW', 'EUDA', 'EUDAW', 'EUFN', 'EVAX', 'EVBG', 'EVCM', 'EVER', 'EVGN', 'EVGO', 'EVGOW', 'EVGR', 'EVGRU', 'EVGRW', 'EVLO', 'EVLV', 'EVLVW', 'EVMT', 'EVO', 'EVOJ', 'EVOJU', 'EVOJW', 'EVOK', 'EVOP', 'EVRG', 'EVTV', 'EWBC', 'EWCZ', 'EWEB', 'EWJV', 'EWTX', 'EWZS', 'EXAI', 'EXAS', 'EXC', 'EXEL', 'EXFY', 'EXLS', 'EXPD', 'EXPE', 'EXPI', 'EXPO', 'EXTR', 'EYE', 'EYEN', 'EYPT', 'EZFL', 'EZGO', 'EZPW', 'FA', 'FAAR', 'FAB', 'FAD', 'FALN', 'FAMI', 'FANG', 'FANH', 'FARM', 'FARO', 'FAST', 'FAT', 'FATBB', 'FATBP', 'FATBW', 'FATE', 'FATP', 'FATPU', 'FATPW', 'FAZE', 'FAZEW', 'FBIO', 'FBIOP', 'FBIZ', 'FBL', 'FBMS', 'FBNC', 'FBRX', 'FBZ', 'FCA', 'FCAL', 'FCAP', 'FCBC', 'FCCO', 'FCEF', 'FCEL', 'FCFS', 'FCNCA', 'FCNCO', 'FCNCP', 'FCRD', 'FCUV', 'FCVT', 'FDBC', 'FDIG', 'FDMT', 'FDNI', 'FDT', 'FDTS', 'FDUS', 'FEAM', 'FEIM', 'FELE', 'FEM', 'FEMA', 'FEMB', 'FEMS', 'FEMY', 'FENC', 'FEP', 'FEUZ', 'FEX', 'FEXD', 'FEXDR', 'FEXDU', 'FEXDW', 'FFBC', 'FFBW', 'FFIC', 'FFIE', 'FFIEW', 'FFIN', 'FFIV', 'FFNW', 'FFWM', 'FGBI', 'FGBIP', 'FGEN', 'FGF', 'FGFPP', 'FGI', 'FGIWW', 'FGM', 'FGMC', 'FGMCU', 'FGMCW', 'FHB', 'FHLT', 'FHLTU', 'FHLTW', 'FHTX', 'FIAC', 'FIACU', 'FIACW', 'FIBK', 'FICS', 'FICV', 'FICVU', 'FICVW', 'FID', 'FINM', 'FINMU', 'FINMW', 'FINW', 'FINX', 'FIP', 'FISI', 'FISV', 'FITB', 'FITBI', 'FITBO', 'FITBP', 'FIVE', 'FIVN', 'FIVR', 'FIXD', 'FIXX', 'FIZZ', 'FJP', 'FKU', 'FKWL', 'FLEX', 'FLFV', 'FLFVR', 'FLFVU', 'FLFVW', 'FLGC', 'FLGT', 'FLIC', 'FLJ', 'FLL', 'FLN', 'FLNC', 'FLNT', 'FLUX', 'FLWS', 'FLXS', 'FLYW', 'FMAO', 'FMB', 'FMBH', 'FMET', 'FMHI', 'FMIV', 'FMIVU', 'FMIVW', 'FMNB', 'FNCB', 'FNCH', 'FNGR', 'FNK', 'FNKO', 'FNLC', 'FNVT', 'FNVTU', 'FNVTW', 'FNWB', 'FNWD', 'FNX', 'FNY', 'FOCS', 'FOLD', 'FONR', 'FORA', 'FORD', 'FORM', 'FORR', 'FORTY', 'FOSL', 'FOSLL', 'FOX', 'FOXA', 'FOXF', 'FOXW', 'FOXWU', 'FOXWW', 'FPA', 'FPAY', 'FPXE', 'FPXI', 'FRAF', 'FRBA', 'FRBK', 'FRBN', 'FRBNU', 'FRBNW', 'FREE', 'FREEW', 'FREQ', 'FRG', 'FRGAP', 'FRGI', 'FRGT', 'FRHC', 'FRLA', 'FRLAU', 'FRLAW', 'FRLN', 'FRME', 'FRMEP', 'FROG', 'FRON', 'FRONU', 'FRONW', 'FRPH', 'FRPT', 'FRSG', 'FRSGU', 'FRSGW', 'FRSH', 'FRST', 'FRSX', 'FRTX', 'FRZA', 'FSBC', 'FSBW', 'FSEA', 'FSFG', 'FSLR', 'FSRX', 'FSRXU', 'FSRXW', 'FSTR', 'FSTX', 'FSV', 'FSZ', 'FTA', 'FTAA', 'FTAAU', 'FTAAW', 'FTAG', 'FTAI', 'FTAIN', 'FTAIO', 'FTAIP', 'FTC', 'FTCI', 'FTCS', 'FTDR', 'FTDS', 'FTEK', 'FTFT', 'FTGC', 'FTGS', 'FTHI', 'FTHM', 'FTII', 'FTIIU', 'FTIIW', 'FTNT', 'FTPA', 'FTPAU', 'FTPAW', 'FTQI', 'FTRI', 'FTSL', 'FTSM', 'FTXG', 'FTXH', 'FTXL', 'FTXN', 'FTXO', 'FTXR', 'FULC', 'FULT', 'FULTP', 'FUNC', 'FUND', 'FUSB', 'FUSN', 'FUTU', 'FUV', 'FV', 'FVC', 'FVCB', 'FWAC', 'FWBI', 'FWONA', 'FWONK', 'FWRD', 'FWRG', 'FXCO', 'FXCOR', 'FXCOW', 'FXNC', 'FYBR', 'FYC', 'FYT', 'FYX', 'GABC', 'GAIA', 'GAIN', 'GAINN', 'GAINZ', 'GALT', 'GAMB', 'GAMC', 'GAMCU', 'GAMCW', 'GAME', 'GAN', 'GANX', 'GASS', 'GATE', 'GATEU', 'GATEW', 'GBBK', 'GBBKR', 'GBBKW', 'GBDC', 'GBIO', 'GBNH', 'GBNY', 'GBRG', 'GBRGR', 'GBRGU', 'GBRGW', 'GCBC', 'GCMG', 'GCMGW', 'GCT', 'GCTK', 'GDC', 'GDEN', 'GDEV', 'GDEVW', 'GDNR', 'GDNRU', 'GDNRW', 'GDRX', 'GDS', 'GDST', 'GDSTR', 'GDSTU', 'GDSTW', 'GDYN', 'GECC', 'GECCM', 'GECCN', 'GECCO', 'GEEX', 'GEEXU', 'GEEXW', 'GEG', 'GEGGL', 'GEHC', 'GEN', 'GENE', 'GENQ', 'GENQU', 'GENQW', 'GENY', 'GEOS', 'GERN', 'GET', 'GEVO', 'GFAI', 'GFAIW', 'GFGD', 'GFGDR', 'GFGDU', 'GFGDW', 'GFGF', 'GFS', 'GGAA', 'GGAAU', 'GGAAW', 'GGAL', 'GGE', 'GGLL', 'GGLS', 'GGR', 'GGROW', 'GH', 'GHIX', 'GHIXU', 'GHIXW', 'GHRS', 'GHSI', 'GIAC', 'GIACU', 'GIACW', 'GIFI', 'GIGM', 'GIII', 'GILD', 'GILT', 'GIPR', 'GIPRW', 'GLAD', 'GLBE', 'GLBS', 'GLBZ', 'GLDD', 'GLDI', 'GLG', 'GLLI', 'GLLIR', 'GLLIU', 'GLLIW', 'GLMD', 'GLNG', 'GLPG', 'GLPI', 'GLRE', 'GLSI', 'GLST', 'GLSTR', 'GLSTU', 'GLSTW', 'GLTO', 'GLUE', 'GLYC', 'GMAB', 'GMBL', 'GMBLP', 'GMBLW', 'GMBLZ', 'GMDA', 'GMFI', 'GMFIU', 'GMFIW', 'GMGI', 'GMVD', 'GMVDW', 'GNFT', 'GNLN', 'GNMA', 'GNOM', 'GNPX', 'GNSS', 'GNTA', 'GNTX', 'GNTY', 'GNUS', 'GO', 'GOCO', 'GOEV', 'GOEVW', 'GOGL', 'GOGO', 'GOOD', 'GOODN', 'GOODO', 'GOOG', 'GOOGL', 'GOSS', 'GOVX', 'GOVXW', 'GP', 'GPAC', 'GPACU', 'GPACW', 'GPP', 'GPRE', 'GPRO', 'GRAB', 'GRABW', 'GRAY', 'GRCL', 'GRCY', 'GRCYU', 'GRCYW', 'GREE', 'GREEL', 'GRFS', 'GRID', 'GRIL', 'GRIN', 'GRNA', 'GRNAW', 'GRNQ', 'GRNR', 'GROM', 'GROMW', 'GROW', 'GRPH', 'GRPN', 'GRRR', 'GRRRW', 'GRTS', 'GRTX', 'GRVY', 'GRWG', 'GSBC', 'GSD', 'GSDWU', 'GSDWW', 'GSHD', 'GSIT', 'GSM', 'GSMG', 'GSMGW', 'GSRM', 'GSRMR', 'GSRMU', 'GSRMW', 'GSUN', 'GT', 'GTAC', 'GTACU', 'GTACW', 'GTBP', 'GTEC', 'GTH', 'GTHX', 'GTIM', 'GTLB', 'GTR', 'GTX', 'GTXAP', 'GURE', 'GVCI', 'GVCIU', 'GVCIW', 'GVP', 'GWAV', 'GWII', 'GWIIW', 'GWRS', 'GXII', 'GXIIU', 'GXIIW', 'GXTG', 'GYRO', 'HA', 'HAFC', 'HAIA', 'HAIAU', 'HAIAW', 'HAIN', 'HALL', 'HALO', 'HAPP', 'HARP', 'HAS', 'HAYN', 'HBAN', 'HBANM', 'HBANP', 'HBCP', 'HBIO', 'HBNC', 'HBT', 'HCAT', 'HCCI', 'HCDI', 'HCDIP', 'HCDIW', 'HCDIZ', 'HCKT', 'HCM', 'HCMA', 'HCMAU', 'HCMAW', 'HCNE', 'HCNEU', 'HCNEW', 'HCP', 'HCSG', 'HCTI', 'HCVI', 'HCVIU', 'HCVIW', 'HCWB', 'HDSN', 'HEAR', 'HEES', 'HELE', 'HEPA', 'HEPS', 'HERA', 'HERAU', 'HERAW', 'HERD', 'HERO', 'HEWG', 'HEXO', 'HFBL', 'HFFG', 'HFWA', 'HGBL', 'HGEN', 'HHGC', 'HHGCR', 'HHGCU', 'HHGCW', 'HHR', 'HHS', 'HIBB', 'HIFS', 'HIHO', 'HILS', 'HIMX', 'HISF', 'HITI', 'HIVE', 'HLAL', 'HLBZ', 'HLBZW', 'HLIT', 'HLMN', 'HLNE', 'HLTH', 'HLVX', 'HMAC', 'HMACR', 'HMACU', 'HMACW', 'HMNF', 'HMPT', 'HMST', 'HNDL', 'HNNA', 'HNNAZ', 'HNRG', 'HNST', 'HNVR', 'HOFT', 'HOFV', 'HOFVW', 'HOLI', 'HOLO', 'HOLOW', 'HOLX', 'HON', 'HONE', 'HOOD', 'HOOK', 'HOPE', 'HORI', 'HORIU', 'HORIW', 'HOTH', 'HOUR', 'HOVNP', 'HOWL', 'HPCO', 'HPK', 'HPKEW', 'HPLT', 'HPLTU', 'HPLTW', 'HQI', 'HQY', 'HRMY', 'HROW', 'HROWL', 'HROWM', 'HRTX', 'HRZN', 'HSAQ', 'HSCS', 'HSCSW', 'HSDT', 'HSIC', 'HSII', 'HSKA', 'HSON', 'HSPOU', 'HST', 'HSTM', 'HSTO', 'HTBI', 'HTBK', 'HTCR', 'HTGM', 'HTHT', 'HTIA', 'HTIBP', 'HTLD', 'HTLF', 'HTLFP', 'HTOO', 'HTOOW', 'HTZ', 'HTZWW', 'HUBG', 'HUDA', 'HUDAR', 'HUDAU', 'HUDI', 'HUGE', 'HUIZ', 'HUMA', 'HUMAW', 'HURC', 'HURN', 'HUT', 'HVBC', 'HWBK', 'HWC', 'HWCPZ', 'HWEL', 'HWELU', 'HWELW', 'HWKN', 'HYDR', 'HYFM', 'HYLS', 'HYMC', 'HYMCL', 'HYMCW', 'HYPR', 'HYRE', 'HYW', 'HYXF', 'HYZD', 'HYZN', 'HYZNW', 'HZNP', 'IAC', 'IART', 'IAS', 'IBB', 'IBBQ', 'IBCP', 'IBET', 'IBEX', 'IBIT', 'IBKR', 'IBOC', 'IBRX', 'IBTD', 'IBTE', 'IBTF', 'IBTG', 'IBTH', 'IBTI', 'IBTJ', 'IBTK', 'IBTL', 'IBTM', 'IBTX', 'ICAD', 'ICCC', 'ICCH', 'ICCM', 'ICFI', 'ICHR', 'ICLK', 'ICLN', 'ICLR', 'ICMB', 'ICPT', 'ICU', 'ICUCW', 'ICUI', 'ICVX', 'IDAI', 'IDBA', 'IDCC', 'IDEX', 'IDLB', 'IDN', 'IDRA', 'IDXX', 'IDYA', 'IEF', 'IEI', 'IEP', 'IESC', 'IEUS', 'IFBD', 'IFGL', 'IFRX', 'IFV', 'IGAC', 'IGACU', 'IGACW', 'IGF', 'IGIB', 'IGIC', 'IGICW', 'IGMS', 'IGOV', 'IGSB', 'IGTA', 'IGTAR', 'IGTAU', 'IGTAW', 'IHRT', 'IHYF', 'III', 'IIIV', 'IINN', 'IINNW', 'IIVIP', 'IJT', 'IKNA', 'IKT', 'ILAG', 'ILMN', 'ILPT', 'IMAB', 'IMACW', 'IMAQ', 'IMAQR', 'IMAQU', 'IMAQW', 'IMBI', 'IMBIL', 'IMCC', 'IMCR', 'IMCV', 'IMGN', 'IMGO', 'IMKTA', 'IMMP', 'IMMR', 'IMMX', 'IMNM', 'IMNN', 'IMOS', 'IMPL', 'IMPP', 'IMPPP', 'IMRA', 'IMRN', 'IMRX', 'IMTE', 'IMTX', 'IMTXW', 'IMUX', 'IMV', 'IMVT', 'IMXI', 'INAB', 'INBK', 'INBKZ', 'INBS', 'INBX', 'INCR', 'INCY', 'INDB', 'INDI', 'INDIW', 'INDP', 'INDT', 'INDY', 'INFI', 'INFN', 'INFR', 'INGN', 'INKA', 'INKAU', 'INKAW', 'INKT', 'INM', 'INMB', 'INMD', 'INNV', 'INO', 'INOD', 'INPX', 'INSE', 'INSG', 'INSM', 'INTA', 'INTC', 'INTE', 'INTEU', 'INTEW', 'INTG', 'INTR', 'INTU', 'INTZ', 'INVA', 'INVE', 'INVO', 'INVZ', 'INVZW', 'INZY', 'IOAC', 'IOACU', 'IOACW', 'IOBT', 'IONM', 'IONR', 'IONS', 'IOSP', 'IOVA', 'IPA', 'IPAR', 'IPAX', 'IPAXU', 'IPAXW', 'IPDN', 'IPGP', 'IPHA', 'IPKW', 'IPSC', 'IPVI', 'IPVIU', 'IPVIW', 'IPW', 'IPWR', 'IPX', 'IQ', 'IQMD', 'IQMDU', 'IQMDW', 'IRAA', 'IRAAU', 'IRAAW', 'IRBT', 'IRDM', 'IREN', 'IRIX', 'IRMD', 'IRON', 'IROQ', 'IRTC', 'IRWD', 'ISDX', 'ISEE', 'ISEM', 'ISHG', 'ISHP', 'ISIG', 'ISO', 'ISPC', 'ISPO', 'ISPOW', 'ISRG', 'ISSC', 'ISTB', 'ISTR', 'ISUN', 'ITAQ', 'ITAQU', 'ITAQW', 'ITCI', 'ITI', 'ITIC', 'ITOS', 'ITQ', 'ITQRU', 'ITQRW', 'ITRI', 'ITRM', 'ITRN', 'IUS', 'IUSB', 'IUSG', 'IUSS', 'IUSV', 'IVA', 'IVAC', 'IVCA', 'IVCAU', 'IVCAW', 'IVCB', 'IVCBU', 'IVCBW', 'IVCP', 'IVCPU', 'IVCPW', 'IVDA', 'IVDAW', 'IVEG', 'IVVD', 'IWTR', 'IXAQ', 'IXAQU', 'IXAQW', 'IXHL', 'IXUS', 'IZEA', 'JACK', 'JAGX', 'JAKK', 'JAMF', 'JAN', 'JANX', 'JAQC', 'JAQCU', 'JAQCW', 'JAZZ', 'JBHT', 'JBLU', 'JBSS', 'JCIC', 'JCICU', 'JCICW', 'JCSE', 'JCTCF', 'JD', 'JEPQ', 'JEWL', 'JFBR', 'JFBRW', 'JFIN', 'JFU', 'JG', 'JGGC', 'JGGCR', 'JGGCU', 'JGGCW', 'JJSF', 'JKHY', 'JMAC', 'JMACU', 'JMACW', 'JMSB', 'JNCE', 'JOAN', 'JOET', 'JOUT', 'JRSH', 'JRVR', 'JSM', 'JSMD', 'JSML', 'JSPR', 'JSPRW', 'JUGG', 'JUGGU', 'JUGGW', 'JUPW', 'JUPWW', 'JVA', 'JWAC', 'JWACR', 'JWEL', 'JXJT', 'JYNT', 'JZ', 'JZXN', 'KA', 'KACL', 'KACLR', 'KACLU', 'KACLW', 'KAII', 'KAIIU', 'KAIIW', 'KAL', 'KALA', 'KALU', 'KALV', 'KALWW', 'KARO', 'KAVL', 'KBAL', 'KBNT', 'KBNTW', 'KBWB', 'KBWD', 'KBWP', 'KBWR', 'KBWY', 'KC', 'KDNY', 'KDP', 'KE', 'KEJI', 'KELYA', 'KELYB', 'KEQU', 'KERN', 'KERNW', 'KFFB', 'KFRC', 'KHC', 'KIDS', 'KINS', 'KINZ', 'KINZU', 'KINZW', 'KIRK', 'KITT', 'KITTW', 'KLAC', 'KLIC', 'KLTR', 'KLXE', 'KMDA', 'KMPH', 'KNBE', 'KNDI', 'KNSA', 'KNTE', 'KOD', 'KOPN', 'KOSS', 'KPLT', 'KPLTW', 'KPRX', 'KPTI', 'KRBP', 'KRKR', 'KRMA', 'KRMD', 'KRNL', 'KRNLU', 'KRNLW', 'KRNT', 'KRNY', 'KRON', 'KROP', 'KROS', 'KRT', 'KRTX', 'KRUS', 'KRYS', 'KSCP', 'KSI', 'KSICU', 'KSICW', 'KSPN', 'KTCC', 'KTOS', 'KTRA', 'KTTA', 'KTTAW', 'KURA', 'KVHI', 'KVSA', 'KVSC', 'KWE', 'KWESW', 'KXIN', 'KYCH', 'KYCHR', 'KYCHU', 'KYCHW', 'KYMR', 'KZIA', 'KZR', 'LAB', 'LABP', 'LAKE', 'LAMR', 'LANC', 'LAND', 'LANDM', 'LANDO', 'LARK', 'LASE', 'LASR', 'LATG', 'LATGU', 'LATGW', 'LAUR', 'LAZR', 'LAZY', 'LBAI', 'LBBB', 'LBBBR', 'LBBBU', 'LBBBW', 'LBC', 'LBPH', 'LBRDA', 'LBRDK', 'LBRDP', 'LBTYA', 'LBTYB', 'LBTYK', 'LCA', 'LCAA', 'LCAAU', 'LCAAW', 'LCAHU', 'LCAHW', 'LCFY', 'LCFYW', 'LCID', 'LCNB', 'LCUT', 'LDEM', 'LDHA', 'LDHAU', 'LDHAW', 'LDSF', 'LE', 'LECO', 'LEDS', 'LEE', 'LEGA', 'LEGAU', 'LEGAW', 'LEGH', 'LEGN', 'LEGR', 'LESL', 'LEXX', 'LEXXW', 'LFAC', 'LFACU', 'LFACW', 'LFCR', 'LFLY', 'LFLYW', 'LFMD', 'LFMDP', 'LFST', 'LFUS', 'LFVN', 'LGAC', 'LGACU', 'LGACW', 'LGHL', 'LGHLW', 'LGIH', 'LGMK', 'LGND', 'LGO', 'LGST', 'LGSTU', 'LGSTW', 'LGTO', 'LGTOU', 'LGTOW', 'LGVC', 'LGVCU', 'LGVCW', 'LGVN', 'LHCG', 'LHDX', 'LI', 'LIAN', 'LIBY', 'LIBYU', 'LIBYW', 'LIDR', 'LIDRW', 'LIFE', 'LIFW', 'LIFWW', 'LIFWZ', 'LILA', 'LILAK', 'LILM', 'LILMW', 'LINC', 'LIND', 'LINK', 'LION', 'LIONU', 'LIONW', 'LIPO', 'LIQT', 'LITE', 'LITM', 'LITT', 'LITTU', 'LITTW', 'LIVB', 'LIVBU', 'LIVBW', 'LIVE', 'LIVN', 'LIXT', 'LIXTW', 'LIZI', 'LKCO', 'LKFN', 'LKQ', 'LMAT', 'LMB', 'LMBS', 'LMDX', 'LMDXW', 'LMFA', 'LMNL', 'LMNR', 'LMST', 'LNKB', 'LNSR', 'LNT', 'LNTH', 'LNW', 'LOAN', 'LOCO', 'LOGI', 'LOOP', 'LOPE', 'LOV', 'LOVE', 'LPCN', 'LPLA', 'LPRO', 'LPSN', 'LPTH', 'LPTX', 'LQDA', 'LQDT', 'LRCX', 'LRFC', 'LRGE', 'LRMR', 'LRND', 'LSAK', 'LSBK', 'LSCC', 'LSEA', 'LSEAW', 'LSTA', 'LSTR', 'LSXMA', 'LSXMB', 'LSXMK', 'LTBR', 'LTCH', 'LTCHW', 'LTRN', 'LTRPA', 'LTRPB', 'LTRX', 'LTRY', 'LTRYW', 'LUCD', 'LUCY', 'LUCYW', 'LULU', 'LUMO', 'LUNA', 'LUNG', 'LUXH', 'LVAC', 'LVACU', 'LVACW', 'LVHD', 'LVLU', 'LVO', 'LVOX', 'LVOXU', 'LVOXW', 'LVRA', 'LVRAU', 'LVRAW', 'LVTX', 'LWAY', 'LWLG', 'LX', 'LXEH', 'LXRX', 'LYEL', 'LYFT', 'LYLT', 'LYRA', 'LYT', 'LYTS', 'LZ', 'MACA', 'MACAU', 'MACAW', 'MACK', 'MANH', 'MAPS', 'MAPSW', 'MAQC', 'MAQCU', 'MAQCW', 'MAR', 'MARA', 'MARK', 'MARPS', 'MASI', 'MASS', 'MAT', 'MATH', 'MATW', 'MAXI', 'MAXN', 'MAYS', 'MBB', 'MBCN', 'MBIN', 'MBINM', 'MBINN', 'MBINO', 'MBINP', 'MBIO', 'MBLY', 'MBNKP', 'MBOT', 'MBRX', 'MBTC', 'MBTCR', 'MBTCU', 'MBUU', 'MBWM', 'MCAA', 'MCAAU', 'MCAAW', 'MCAC', 'MCACR', 'MCACU', 'MCACW', 'MCAE', 'MCAER', 'MCAEU', 'MCAF', 'MCAFR', 'MCAFU', 'MCAG', 'MCAGR', 'MCAGU', 'MCBC', 'MCBS', 'MCFT', 'MCHI', 'MCHP', 'MCHX', 'MCLD', 'MCLDP', 'MCLDW', 'MCRB', 'MCRI', 'MCSE', 'MCVT', 'MDB', 'MDCP', 'MDGL', 'MDGS', 'MDGSW', 'MDIA', 'MDIV', 'MDJH', 'MDLZ', 'MDNA', 'MDRR', 'MDRRP', 'MDRX', 'MDVL', 'MDWD', 'MDWT', 'MDXG', 'MDXH', 'ME', 'MEAC', 'MEACU', 'MEACW', 'MEDP', 'MEDS', 'MEGL', 'MEIP', 'MEKA', 'MELI', 'MEOA', 'MEOAU', 'MEOAW', 'MEOH', 'MERC', 'MESA', 'MESO', 'META', 'METC', 'METCL', 'METX', 'METXW', 'MF', 'MFH', 'MFIC', 'MFIN', 'MFLX', 'MGAM', 'MGEE', 'MGI', 'MGIC', 'MGNI', 'MGNX', 'MGPI', 'MGRC', 'MGTA', 'MGTX', 'MGYR', 'MHLD', 'MHUA', 'MICS', 'MICT', 'MIDD', 'MIGI', 'MILN', 'MIND', 'MINDP', 'MINM', 'MIRM', 'MIRO', 'MIST', 'MITA', 'MITAU', 'MITAW', 'MITK', 'MKSI', 'MKTW', 'MKTX', 'MLAB', 'MLAC', 'MLACU', 'MLACW', 'MLAI', 'MLAIU', 'MLAIW', 'MLCO', 'MLEC', 'MLECW', 'MLGO', 'MLKN', 'MLTX', 'MLVF', 'MMAT', 'MMLP', 'MMMB', 'MMSI', 'MMV', 'MMVWW', 'MMYT', 'MNDO', 'MNDY', 'MNKD', 'MNMD', 'MNOV', 'MNPR', 'MNRO', 'MNSB', 'MNSBP', 'MNST', 'MNTK', 'MNTS', 'MNTSW', 'MNTV', 'MNTX', 'MOB', 'MOBBW', 'MOBQ', 'MOBQW', 'MOBV', 'MOBVU', 'MOBVW', 'MODD', 'MODL', 'MODV', 'MOFG', 'MOGO', 'MOLN', 'MOMO', 'MOND', 'MOR', 'MORF', 'MORN', 'MOTS', 'MOVE', 'MOXC', 'MPAA', 'MPB', 'MPRA', 'MPRAU', 'MPRAW', 'MPWR', 'MQ', 'MRAI', 'MRAM', 'MRBK', 'MRCC', 'MRCY', 'MREO', 'MRIN', 'MRKR', 'MRM', 'MRNA', 'MRND', 'MRNS', 'MRSN', 'MRTN', 'MRTX', 'MRUS', 'MRVI', 'MRVL', 'MSAC', 'MSACW', 'MSBI', 'MSBIP', 'MSDA', 'MSDAU', 'MSDAW', 'MSEX', 'MSFD', 'MSFT', 'MSFU', 'MSGM', 'MSSA', 'MSSAR', 'MSSAU', 'MSSAW', 'MSTR', 'MSVB', 'MTAC', 'MTACU', 'MTACW', 'MTC', 'MTCH', 'MTCR', 'MTEK', 'MTEKW', 'MTEM', 'MTEX', 'MTLS', 'MTP', 'MTRX', 'MTRY', 'MTRYU', 'MTRYW', 'MTSI', 'MTTR', 'MU', 'MULN', 'MURF', 'MURFU', 'MURFW', 'MVBF', 'MVIS', 'MVST', 'MVSTW', 'MXCT', 'MXL', 'MYFW', 'MYGN', 'MYMD', 'MYNA', 'MYNZ', 'MYPS', 'MYPSW', 'MYRG', 'MYSZ', 'NA', 'NAAC', 'NAACU', 'NAACW', 'NAAS', 'NAII', 'NAMS', 'NAMSW', 'NAOV', 'NARI', 'NATH', 'NATI', 'NATR', 'NAUT', 'NAVI', 'NBIX', 'NBN', 'NBRV', 'NBSE', 'NBST', 'NBSTU', 'NBSTW', 'NBTB', 'NBTX', 'NCAC', 'NCACU', 'NCACW', 'NCMI', 'NCNA', 'NCNO', 'NCPL', 'NCPLW', 'NCRA', 'NCSM', 'NCTY', 'NDAQ', 'NDLS', 'NDRA', 'NDSN', 'NECB', 'NEGG', 'NEO', 'NEOG', 'NEON', 'NEOV', 'NEOVW', 'NEPH', 'NEPT', 'NERV', 'NESR', 'NESRW', 'NEWT', 'NEWTL', 'NEWTZ', 'NEXI', 'NEXT', 'NFBK', 'NFE', 'NFLX', 'NFTY', 'NGM', 'NGMS', 'NH', 'NHIC', 'NHICU', 'NHICW', 'NHTC', 'NICE', 'NICK', 'NISN', 'NIU', 'NKEL', 'NKEQ', 'NKLA', 'NKSH', 'NKTR', 'NKTX', 'NLSP', 'NLSPW', 'NLTX', 'NMFC', 'NMIH', 'NMRD', 'NMRK', 'NMTC', 'NMTR', 'NN', 'NNAVW', 'NNBR', 'NNDM', 'NNOX', 'NODK', 'NOGN', 'NOGNW', 'NOTV', 'NOVN', 'NOVT', 'NOVV', 'NOVVR', 'NOVVU', 'NOVVW', 'NPAB', 'NPABU', 'NPABW', 'NPCE', 'NRAC', 'NRACU', 'NRACW', 'NRBO', 'NRC', 'NRDS', 'NRIM', 'NRIX', 'NRSN', 'NRSNW', 'NRXP', 'NRXPW', 'NSIT', 'NSPR', 'NSSC', 'NSTG', 'NSTS', 'NSYS', 'NTAP', 'NTCT', 'NTES', 'NTGR', 'NTIC', 'NTLA', 'NTNX', 'NTRA', 'NTRB', 'NTRBW', 'NTRS', 'NTRSO', 'NTWK', 'NTZG', 'NUBI', 'NUBIU', 'NUBIW', 'NURO', 'NUTX', 'NUVA', 'NUVL', 'NUWE', 'NUZE', 'NVAC', 'NVACR', 'NVACW', 'NVAX', 'NVCN', 'NVCR', 'NVCT', 'NVDA', 'NVDL', 'NVDS', 'NVEC', 'NVEE', 'NVEI', 'NVFY', 'NVIV', 'NVMI', 'NVNO', 'NVNOW', 'NVOS', 'NVSA', 'NVSAU', 'NVSAW', 'NVTS', 'NVVE', 'NVVEW', 'NVX', 'NWBI', 'NWE', 'NWFL', 'NWL', 'NWLI', 'NWPX', 'NWS', 'NWSA', 'NWTN', 'NWTNW', 'NXGL', 'NXGLW', 'NXGN', 'NXL', 'NXLIW', 'NXPI', 'NXPL', 'NXPLW', 'NXST', 'NXTC', 'NXTG', 'NXTP', 'NYAX', 'NYMT', 'NYMTL', 'NYMTM', 'NYMTN', 'NYMTZ', 'NYMX', 'NYXH', 'NZAC', 'NZRO', 'NZUS', 'OABI', 'OABIW', 'OB', 'OBIL', 'OBLG', 'OBNK', 'OBSV', 'OBT', 'OCAX', 'OCAXU', 'OCAXW', 'OCC', 'OCCI', 'OCCIN', 'OCCIO', 'OCFC', 'OCFCP', 'OCG', 'OCGN', 'OCSL', 'OCUL', 'OCUP', 'OCX', 'ODDS', 'ODFL', 'ODP', 'OESX', 'OFED', 'OFIX', 'OFLX', 'OFS', 'OFSSH', 'OGI', 'OHAA', 'OHAAU', 'OHAAW', 'OIG', 'OIIM', 'OKTA', 'OKYO', 'OLB', 'OLED', 'OLIT', 'OLITU', 'OLITW', 'OLK', 'OLLI', 'OLMA', 'OLPX', 'OM', 'OMAB', 'OMCL', 'OMER', 'OMEX', 'OMGA', 'OMIC', 'OMQS', 'ON', 'ONB', 'ONBPO', 'ONBPP', 'ONCR', 'ONCS', 'ONCT', 'ONCY', 'ONDS', 'ONEM', 'ONEQ', 'ONEW', 'ONFO', 'ONFOW', 'ONTX', 'ONVO', 'ONYX', 'ONYXU', 'ONYXW', 'OP', 'OPAL', 'OPBK', 'OPCH', 'OPEN', 'OPGN', 'OPHC', 'OPI', 'OPINL', 'OPK', 'OPNT', 'OPOF', 'OPRA', 'OPRT', 'OPRX', 'OPT', 'OPTN', 'ORGN', 'ORGNW', 'ORGO', 'ORGS', 'ORIA', 'ORIAU', 'ORIAW', 'ORIC', 'ORLY', 'ORMP', 'ORRF', 'ORTX', 'OSA', 'OSAAW', 'OSBC', 'OSIS', 'OSPN', 'OSS', 'OST', 'OSTK', 'OSUR', 'OSW', 'OTEC', 'OTECU', 'OTECW', 'OTEX', 'OTLK', 'OTLY', 'OTMO', 'OTMOW', 'OTRK', 'OTRKP', 'OTTR', 'OVBC', 'OVID', 'OVLY', 'OXAC', 'OXACU', 'OXACW', 'OXBR', 'OXBRW', 'OXLC', 'OXLCL', 'OXLCM', 'OXLCN', 'OXLCO', 'OXLCP', 'OXLCZ', 'OXSQ', 'OXSQG', 'OXSQL', 'OXSQZ', 'OXUS', 'OXUSU', 'OXUSW', 'OZK', 'OZKAP', 'OZON', 'PAA', 'PAAS', 'PABU', 'PACB', 'PACW', 'PACWP', 'PACX', 'PACXU', 'PACXW', 'PAGP', 'PAHC', 'PALI', 'PALT', 'PANA', 'PANL', 'PANW', 'PARA', 'PARAA', 'PARAP', 'PASG', 'PATI', 'PATK', 'PAVM', 'PAVMZ', 'PAX', 'PAYA', 'PAYO', 'PAYOW', 'PAYS', 'PAYX', 'PBAX', 'PBAXU', 'PBAXW', 'PBBK', 'PBFS', 'PBHC', 'PBLA', 'PBPB', 'PBTS', 'PBYI', 'PCAR', 'PCB', 'PCCT', 'PCCTU', 'PCCTW', 'PCH', 'PCRX', 'PCSA', 'PCT', 'PCTI', 'PCTTU', 'PCTTW', 'PCTY', 'PCVX', 'PCYG', 'PCYO', 'PDBA', 'PDBC', 'PDCE', 'PDCO', 'PDD', 'PDEX', 'PDFS', 'PDLB', 'PDP', 'PDSB', 'PEAR', 'PEARW', 'PEBK', 'PEBO', 'PECO', 'PEGA', 'PEGR', 'PEGRU', 'PEGRW', 'PEGY', 'PENN', 'PEP', 'PEPG', 'PEPL', 'PEPLU', 'PEPLW', 'PERI', 'PESI', 'PET', 'PETQ', 'PETS', 'PETV', 'PETVW', 'PETWW', 'PETZ', 'PEV', 'PEY', 'PEZ', 'PFBC', 'PFC', 'PFDR', 'PFDRU', 'PFDRW', 'PFEL', 'PFES', 'PFF', 'PFG', 'PFHD', 'PFI', 'PFIE', 'PFIN', 'PFIS', 'PFM', 'PFMT', 'PFSW', 'PFTA', 'PFTAU', 'PFTAW', 'PFX', 'PFXNL', 'PFXNZ', 'PGC', 'PGEN', 'PGJ', 'PGNY', 'PGRW', 'PGRWU', 'PGRWW', 'PGY', 'PGYWW', 'PHAR', 'PHAT', 'PHCF', 'PHIO', 'PHO', 'PHUN', 'PHUNW', 'PHVS', 'PI', 'PID', 'PIE', 'PIII', 'PIIIW', 'PIK', 'PINC', 'PIO', 'PIRS', 'PIXY', 'PIZ', 'PKBK', 'PKOH', 'PKW', 'PLAB', 'PLAO', 'PLAOU', 'PLAOW', 'PLAY', 'PLBC', 'PLBY', 'PLCE', 'PLL', 'PLMI', 'PLMIU', 'PLMIW', 'PLMR', 'PLPC', 'PLRX', 'PLSE', 'PLTK', 'PLTNU', 'PLUG', 'PLUR', 'PLUS', 'PLW', 'PLXP', 'PLXS', 'PLYA', 'PMCB', 'PMD', 'PME', 'PMGM', 'PMGMU', 'PMGMW', 'PMN', 'PMTS', 'PMVP', 'PNAC', 'PNACR', 'PNACU', 'PNACW', 'PNBK', 'PNFP', 'PNFPP', 'PNQI', 'PNRG', 'PNT', 'PNTG', 'POAI', 'POCI', 'PODD', 'POET', 'POLA', 'PONO', 'PONOU', 'PONOW', 'POOL', 'POTX', 'POW', 'POWI', 'POWL', 'POWRU', 'POWRW', 'POWW', 'POWWP', 'PPBI', 'PPBT', 'PPC', 'PPH', 'PPHP', 'PPHPR', 'PPHPU', 'PPHPW', 'PPIH', 'PPSI', 'PPTA', 'PPYA', 'PPYAU', 'PPYAW', 'PRAA', 'PRAX', 'PRCH', 'PRCT', 'PRDO', 'PRDS', 'PRE', 'PRENW', 'PRFT', 'PRFX', 'PRFZ', 'PRGS', 'PRIM', 'PRLD', 'PRLH', 'PRLHU', 'PRLHW', 'PRME', 'PRN', 'PROC', 'PROCW', 'PROF', 'PROK', 'PROV', 'PRPH', 'PRPL', 'PRPO', 'PRQR', 'PRSO', 'PRSR', 'PRSRU', 'PRSRW', 'PRST', 'PRSTW', 'PRTA', 'PRTC', 'PRTG', 'PRTH', 'PRTK', 'PRTS', 'PRVA', 'PRVB', 'PSC', 'PSCC', 'PSCD', 'PSCE', 'PSCF', 'PSCH', 'PSCI', 'PSCM', 'PSCT', 'PSCU', 'PSEC', 'PSET', 'PSHG', 'PSL', 'PSMT', 'PSNL', 'PSNY', 'PSNYW', 'PSTV', 'PSTX', 'PT', 'PTC', 'PTCT', 'PTE', 'PTEN', 'PTF', 'PTGX', 'PTH', 'PTIX', 'PTIXW', 'PTLO', 'PTMN', 'PTNQ', 'PTNR', 'PTOC', 'PTOCU', 'PTOCW', 'PTON', 'PTPI', 'PTRA', 'PTRS', 'PTSI', 'PTVE', 'PTWO', 'PTWOU', 'PTWOW', 'PUBM', 'PUCK', 'PUCKU', 'PUCKW', 'PUI', 'PULM', 'PUYI', 'PVBC', 'PWFL', 'PWOD', 'PWP', 'PWUP', 'PWUPU', 'PWUPW', 'PXI', 'PXLW', 'PXMD', 'PXS', 'PXSAP', 'PXSAW', 'PY', 'PYCR', 'PYPD', 'PYPL', 'PYPS', 'PYPT', 'PYR', 'PYXS', 'PYZ', 'PZZA', 'QABA', 'QAT', 'QCLN', 'QCLR', 'QCOM', 'QCRH', 'QDEL', 'QFIN', 'QH', 'QIPT', 'QIWI', 'QLGN', 'QLI', 'QLYS', 'QMCO', 'QNCX', 'QNRX', 'QNST', 'QOMO', 'QOMOR', 'QOMOU', 'QOMOW', 'QQC', 'QQD', 'QQEW', 'QQJG', 'QQMG', 'QQQ', 'QQQA', 'QQQE', 'QQQJ', 'QQQM', 'QQQN', 'QQQS', 'QQQX', 'QQXT', 'QRHC', 'QRMI', 'QRTEA', 'QRTEB', 'QRTEP', 'QRVO', 'QSI', 'QSIAW', 'QTEC', 'QTEK', 'QTEKW', 'QTR', 'QTRX', 'QTT', 'QUBT', 'QUIK', 'QUMU', 'QURE', 'QYLD', 'QYLG', 'RACY', 'RACYU', 'RACYW', 'RADI', 'RAIL', 'RAIN', 'RAM', 'RAMMU', 'RAMMW', 'RAND', 'RANI', 'RAPT', 'RARE', 'RAVE', 'RAYA', 'RAYS', 'RBB', 'RBBN', 'RBCAA', 'RBKB', 'RCAC', 'RCACU', 'RCACW', 'RCAT', 'RCEL', 'RCII', 'RCKT', 'RCKY', 'RCLF', 'RCLFU', 'RCLFW', 'RCM', 'RCMT', 'RCON', 'RCRT', 'RCRTW', 'RDCM', 'RDFN', 'RDHL', 'RDI', 'RDIB', 'RDNT', 'RDVT', 'RDVY', 'RDWR', 'REAL', 'REAX', 'REBN', 'REE', 'REED', 'REFI', 'REFR', 'REG', 'REGN', 'REIT', 'REKR', 'RELI', 'RELIW', 'RELL', 'RELY', 'RENE', 'RENEU', 'RENEW', 'RENT', 'REPL', 'RETA', 'RETO', 'REUN', 'REVB', 'REVBU', 'REVBW', 'REVE', 'REVEU', 'REVEW', 'REYN', 'RFAC', 'RFACR', 'RFACU', 'RFACW', 'RFDI', 'RFEM', 'RFEU', 'RFIL', 'RGC', 'RGCO', 'RGEN', 'RGF', 'RGLD', 'RGLS', 'RGNX', 'RGP', 'RGTI', 'RGTIW', 'RIBT', 'RICK', 'RIDE', 'RIGL', 'RILY', 'RILYG', 'RILYK', 'RILYL', 'RILYM', 'RILYN', 'RILYO', 'RILYP', 'RILYT', 'RILYZ', 'RING', 'RIOT', 'RIVN', 'RKDA', 'RKLB', 'RLAY', 'RLMD', 'RLYB', 'RMBI', 'RMBL', 'RMBS', 'RMCF', 'RMGC', 'RMGCU', 'RMGCW', 'RMNI', 'RMR', 'RMTI', 'RNA', 'RNAZ', 'RNDM', 'RNDV', 'RNEM', 'RNER', 'RNERU', 'RNERW', 'RNEW', 'RNLC', 'RNLX', 'RNMC', 'RNRG', 'RNSC', 'RNST', 'RNW', 'RNWWW', 'RNXT', 'ROAD', 'ROBT', 'ROC', 'ROCAR', 'ROCAU', 'ROCC', 'ROCG', 'ROCGU', 'ROCGW', 'ROCK', 'ROCL', 'ROCLU', 'ROCLW', 'ROIC', 'ROIV', 'ROIVW', 'ROKU', 'ROOT', 'ROSE', 'ROSEU', 'ROSEW', 'ROST', 'ROVR', 'RPAY', 'RPD', 'RPHM', 'RPID', 'RPRX', 'RPTX', 'RRBI', 'RRGB', 'RRR', 'RSLS', 'RSSS', 'RSVR', 'RSVRW', 'RTC', 'RTH', 'RTL', 'RTLPO', 'RTLPP', 'RUBY', 'RUM', 'RUMBW', 'RUN', 'RUSHA', 'RUSHB', 'RUTH', 'RVLP', 'RVMD', 'RVNC', 'RVPH', 'RVPHW', 'RVSB', 'RVSN', 'RVSNW', 'RVYL', 'RWAY', 'RWAYL', 'RWAYZ', 'RWLK', 'RWOD', 'RWODR', 'RWODU', 'RWODW', 'RXDX', 'RXRX', 'RXST', 'RXT', 'RYAAY', 'RYTM', 'RZLT', 'SABR', 'SABRP', 'SABS', 'SABSW', 'SAFT', 'SAGA', 'SAGAR', 'SAGAU', 'SAGE', 'SAI', 'SAIA', 'SAITW', 'SAL', 'SALM', 'SAMA', 'SAMAU', 'SAMAW', 'SAMG', 'SANA', 'SANG', 'SANM', 'SANW', 'SARK', 'SASI', 'SASR', 'SATL', 'SATLW', 'SATS', 'SAVA', 'SBAC', 'SBCF', 'SBET', 'SBFG', 'SBFM', 'SBFMW', 'SBGI', 'SBIG', 'SBIGW', 'SBLK', 'SBNY', 'SBNYP', 'SBRA', 'SBSI', 'SBT', 'SBUX', 'SCAQ', 'SCAQU', 'SCAQW', 'SCHL', 'SCHN', 'SCKT', 'SCLX', 'SCLXW', 'SCMA', 'SCMAU', 'SCMAW', 'SCOB', 'SCOBU', 'SCOBW', 'SCOR', 'SCPH', 'SCPL', 'SCRM', 'SCRMU', 'SCRMW', 'SCSC', 'SCTL', 'SCVL', 'SCWO', 'SCWX', 'SCYX', 'SCZ', 'SDAC', 'SDACU', 'SDACW', 'SDC', 'SDG', 'SDGR', 'SDIG', 'SDSI', 'SDVY', 'SEAC', 'SEAT', 'SEATW', 'SECO', 'SEDG', 'SEED', 'SEEL', 'SEER', 'SEIC', 'SELB', 'SELF', 'SENEA', 'SENEB', 'SERA', 'SESN', 'SEV', 'SEVN', 'SFBC', 'SFE', 'SFET', 'SFIX', 'SFM', 'SFNC', 'SFR', 'SFRWW', 'SFST', 'SFT', 'SGA', 'SGBX', 'SGC', 'SGEN', 'SGH', 'SGHL', 'SGHLU', 'SGHLW', 'SGHT', 'SGII', 'SGIIU', 'SGIIW', 'SGLY', 'SGMA', 'SGML', 'SGMO', 'SGRP', 'SGRY', 'SGTX', 'SHBI', 'SHC', 'SHCR', 'SHCRW', 'SHEN', 'SHFS', 'SHFSW', 'SHIP', 'SHLS', 'SHOO', 'SHPH', 'SHUA', 'SHUAU', 'SHUAW', 'SHV', 'SHY', 'SHYF', 'SIBN', 'SIDU', 'SIEB', 'SIEN', 'SIFY', 'SIGA', 'SIGI', 'SIGIP', 'SILC', 'SILK', 'SILO', 'SIMO', 'SINT', 'SIOX', 'SIRI', 'SISI', 'SITM', 'SIVB', 'SIVBP', 'SJ', 'SKGR', 'SKGRU', 'SKGRW', 'SKIN', 'SKOR', 'SKYA', 'SKYAU', 'SKYAW', 'SKYT', 'SKYU', 'SKYW', 'SKYX', 'SKYY', 'SLAB', 'SLAC', 'SLACU', 'SLACW', 'SLAM', 'SLAMU', 'SLAMW', 'SLDB', 'SLDP', 'SLDPW', 'SLGC', 'SLGCW', 'SLGG', 'SLGL', 'SLM', 'SLMBP', 'SLN', 'SLNA', 'SLNAW', 'SLNG', 'SLNH', 'SLNHP', 'SLNO', 'SLP', 'SLQD', 'SLRC', 'SLRX', 'SLS', 'SLVO', 'SLVR', 'SLVRU', 'SLVRW', 'SMAP', 'SMAPU', 'SMAPW', 'SMBC', 'SMBK', 'SMCI', 'SMCP', 'SMFL', 'SMH', 'SMID', 'SMIH', 'SMIHU', 'SMIHW', 'SMIT', 'SMLR', 'SMMF', 'SMMT', 'SMPL', 'SMSI', 'SMTC', 'SMTI', 'SNAL', 'SNAX', 'SNAXW', 'SNBR', 'SNCE', 'SNCR', 'SNCRL', 'SNCY', 'SND', 'SNDL', 'SNDX', 'SNES', 'SNEX', 'SNFCA', 'SNGX', 'SNLN', 'SNOA', 'SNPO', 'SNPS', 'SNPX', 'SNRH', 'SNRHU', 'SNRHW', 'SNSE', 'SNSR', 'SNT', 'SNTG', 'SNTI', 'SNY', 'SOBR', 'SOCL', 'SOFI', 'SOFO', 'SOGU', 'SOHO', 'SOHOB', 'SOHON', 'SOHOO', 'SOHU', 'SOLO', 'SOLOW', 'SOND', 'SONDW', 'SONM', 'SONN', 'SONO', 'SOPA', 'SOPH', 'SOTK', 'SOUN', 'SOUNW', 'SOVO', 'SOXQ', 'SOXX', 'SP', 'SPBC', 'SPC', 'SPCB', 'SPCM', 'SPCMU', 'SPCMW', 'SPCX', 'SPFI', 'SPI', 'SPKB', 'SPKBU', 'SPKBW', 'SPLK', 'SPNS', 'SPOK', 'SPPI', 'SPRB', 'SPRC', 'SPRO', 'SPRX', 'SPRY', 'SPSC', 'SPT', 'SPTN', 'SPWH', 'SPWR', 'SQFT', 'SQFTP', 'SQFTW', 'SQL', 'SQLLW', 'SQLV', 'SQQQ', 'SRAD', 'SRAX', 'SRCE', 'SRCL', 'SRDX', 'SRET', 'SRGA', 'SRNE', 'SRPT', 'SRRK', 'SRTS', 'SRZN', 'SRZNW', 'SSB', 'SSBI', 'SSBK', 'SSIC', 'SSKN', 'SSNC', 'SSNT', 'SSP', 'SSRM', 'SSSS', 'SSSSL', 'SSTI', 'SSYS', 'STAA', 'STAB', 'STAF', 'STBA', 'STBX', 'STCN', 'STEL', 'STEP', 'STER', 'STGW', 'STIM', 'STIX', 'STIXW', 'STKH', 'STKL', 'STKS', 'STLD', 'STNE', 'STOK', 'STRA', 'STRC', 'STRCW', 'STRL', 'STRM', 'STRO', 'STRR', 'STRRP', 'STRS', 'STRT', 'STSA', 'STSS', 'STSSW', 'STTK', 'STX', 'STXD', 'STXG', 'STXK', 'STXV', 'SUMO', 'SUNW', 'SUPN', 'SURF', 'SURG', 'SURGW', 'SUSB', 'SUSC', 'SUSL', 'SVA', 'SVC', 'SVFA', 'SVFAU', 'SVFAW', 'SVFB', 'SVFD', 'SVII', 'SVIIR', 'SVIIU', 'SVIIW', 'SVNA', 'SVNAU', 'SVNAW', 'SVRA', 'SVRE', 'SVREW', 'SVVC', 'SWAG', 'SWAGW', 'SWAV', 'SWBI', 'SWEB', 'SWIM', 'SWIR', 'SWKH', 'SWKS', 'SWSS', 'SWSSU', 'SWSSW', 'SWTX', 'SWVL', 'SWVLW', 'SXTC', 'SY', 'SYBT', 'SYBX', 'SYM', 'SYNA', 'SYNH', 'SYPR', 'SYRS', 'SYTA', 'SYTAW', 'SZZL', 'SZZLU', 'SZZLW', 'TA', 'TACT', 'TAIT', 'TALK', 'TALKW', 'TALS', 'TANH', 'TANNI', 'TANNL', 'TANNZ', 'TAOP', 'TARA', 'TARK', 'TARS', 'TASK', 'TAST', 'TATT', 'TAYD', 'TBBK', 'TBCP', 'TBCPU', 'TBCPW', 'TBIL', 'TBIO', 'TBLA', 'TBLAW', 'TBLD', 'TBLT', 'TBLTW', 'TBNK', 'TBPH', 'TBSA', 'TBSAU', 'TBSAW', 'TC', 'TCBC', 'TCBI', 'TCBIO', 'TCBK', 'TCBP', 'TCBPW', 'TCBS', 'TCBX', 'TCDA', 'TCFC', 'TCHI', 'TCMD', 'TCOM', 'TCON', 'TCPC', 'TCRR', 'TCRT', 'TCRX', 'TCVA', 'TCX', 'TDIV', 'TDSA', 'TDSB', 'TDSC', 'TDSD', 'TDSE', 'TDUP', 'TEAM', 'TECH', 'TECTP', 'TEDU', 'TELA', 'TENB', 'TENK', 'TENKR', 'TENKU', 'TENX', 'TER', 'TERN', 'TESS', 'TETC', 'TETCU', 'TETCW', 'TETE', 'TETEU', 'TETEW', 'TFFP', 'TFIN', 'TFINP', 'TFSL', 'TGAA', 'TGAAU', 'TGAAW', 'TGAN', 'TGL', 'TGTX', 'TGVC', 'TGVCU', 'TGVCW', 'TH', 'THAC', 'THACU', 'THACW', 'THCH', 'THCHW', 'THCP', 'THCPU', 'THCPW', 'THFF', 'THMO', 'THRD', 'THRM', 'THRN', 'THRX', 'THRY', 'THTX', 'THWWW', 'TIG', 'TIGO', 'TIGR', 'TIL', 'TILE', 'TIOA', 'TIOAU', 'TIOAW', 'TIPT', 'TIRX', 'TITN', 'TIVC', 'TKLF', 'TKNO', 'TLF', 'TLGY', 'TLGYU', 'TLGYW', 'TLIS', 'TLRY', 'TLS', 'TLSA', 'TLT', 'TMC', 'TMCI', 'TMCWW', 'TMDI', 'TMDX', 'TMKR', 'TMKRU', 'TMKRW', 'TMPO', 'TMPOW', 'TMUS', 'TNDM', 'TNGX', 'TNON', 'TNXP', 'TNYA', 'TOAC', 'TOACU', 'TOACW', 'TOI', 'TOIIW', 'TOMZ', 'TOP', 'TOPS', 'TOUR', 'TOWN', 'TPBA', 'TPBAU', 'TPBAW', 'TPG', 'TPIC', 'TPST', 'TQQQ', 'TRDA', 'TREE', 'TRHC', 'TRIB', 'TRIN', 'TRINL', 'TRIP', 'TRKA', 'TRKAW', 'TRMB', 'TRMD', 'TRMK', 'TRMR', 'TRNS', 'TRON', 'TRONU', 'TRONW', 'TROO', 'TROW', 'TRS', 'TRST', 'TRUE', 'TRUP', 'TRVG', 'TRVI', 'TRVN', 'TSAT', 'TSBK', 'TSCO', 'TSEM', 'TSHA', 'TSL', 'TSLA', 'TSLI', 'TSLL', 'TSLQ', 'TSLS', 'TSP', 'TSRI', 'TSVT', 'TTCF', 'TTD', 'TTEC', 'TTEK', 'TTGT', 'TTMI', 'TTNP', 'TTOO', 'TTSH', 'TTWO', 'TUG', 'TUGN', 'TUR', 'TURN', 'TUSK', 'TVTX', 'TW', 'TWCB', 'TWCBU', 'TWCBW', 'TWEB', 'TWIN', 'TWKS', 'TWLV', 'TWLVU', 'TWLVW', 'TWNK', 'TWOU', 'TWST', 'TXG', 'TXMD', 'TXN', 'TXRH', 'TYDE', 'TYRA', 'TZOO', 'TZPS', 'TZPSU', 'TZPSW', 'UAE', 'UAL', 'UBCP', 'UBFO', 'UBND', 'UBSI', 'UBX', 'UCBI', 'UCBIO', 'UCL', 'UCRD', 'UCTT', 'UCYB', 'UDMY', 'UEIC', 'UEVM', 'UFCS', 'UFO', 'UFPI', 'UFPT', 'UG', 'UGRO', 'UIHC', 'UITB', 'UIVM', 'UK', 'UKOMW', 'ULBI', 'ULCC', 'ULH', 'ULTA', 'ULVM', 'UMBF', 'UMMA', 'UMPQ', 'UNAM', 'UNB', 'UNCY', 'UNIT', 'UNTY', 'UONE', 'UONEK', 'UPC', 'UPLD', 'UPST', 'UPTD', 'UPTDU', 'UPTDW', 'UPWD', 'UPWK', 'UPXI', 'URBN', 'URGN', 'UROY', 'USAP', 'USAU', 'USBF', 'USCB', 'USCT', 'USCTU', 'USCTW', 'USEA', 'USEG', 'USIG', 'USIO', 'USLB', 'USLM', 'USMC', 'USOI', 'USTB', 'USVM', 'USXF', 'UTAA', 'UTAAU', 'UTAAW', 'UTEN', 'UTHR', 'UTMD', 'UTME', 'UTRS', 'UTSI', 'UTWO', 'UVSP', 'UXIN', 'VABK', 'VACC', 'VALN', 'VALU', 'VANI', 'VAQC', 'VAXX', 'VBFC', 'VBIV', 'VBLT', 'VBNK', 'VBOC', 'VBOCU', 'VBOCW', 'VBTX', 'VC', 'VCEL', 'VCIT', 'VCLT', 'VCNX', 'VCSA', 'VCSH', 'VCTR', 'VCXA', 'VCXAU', 'VCXAW', 'VCYT', 'VECO', 'VECT', 'VEDU', 'VEEE', 'VEON', 'VERA', 'VERB', 'VERBW', 'VERI', 'VERO', 'VERU', 'VERV', 'VERX', 'VERY', 'VEV', 'VFF', 'VGFC', 'VGIT', 'VGLT', 'VGSH', 'VHNA', 'VHNAU', 'VHNAW', 'VIA', 'VIASP', 'VIAV', 'VICR', 'VIEW', 'VIEWW', 'VIGI', 'VIGL', 'VII', 'VIIAU', 'VIIAW', 'VINC', 'VINO', 'VINP', 'VIOT', 'VIR', 'VIRC', 'VIRI', 'VIRT', 'VIRX', 'VISL', 'VITL', 'VIVE', 'VIVK', 'VIVO', 'VJET', 'VKTX', 'VLAT', 'VLATU', 'VLATW', 'VLCN', 'VLDR', 'VLDRW', 'VLGEA', 'VLNS', 'VLON', 'VLY', 'VLYPO', 'VLYPP', 'VMAR', 'VMBS', 'VMCA', 'VMCAU', 'VMCAW', 'VMD', 'VMEO', 'VMGA', 'VMGAU', 'VMGAW', 'VNDA', 'VNET', 'VNOM', 'VNQI', 'VOD', 'VONE', 'VONG', 'VONV', 'VOR', 'VORB', 'VORBW', 'VOXR', 'VOXX', 'VPCB', 'VPCBU', 'VPCBW', 'VPN', 'VQS', 'VR', 'VRA', 'VRAR', 'VRAX', 'VRAY', 'VRCA', 'VRDN', 'VREX', 'VRIG', 'VRM', 'VRME', 'VRMEW', 'VRNA', 'VRNS', 'VRNT', 'VRPX', 'VRRM', 'VRSK', 'VRSN', 'VRTS', 'VRTX', 'VS', 'VSAC', 'VSACU', 'VSACW', 'VSAT', 'VSDA', 'VSEC', 'VSMV', 'VSSYW', 'VSTA', 'VSTM', 'VTC', 'VTGN', 'VTHR', 'VTIP', 'VTNR', 'VTRS', 'VTRU', 'VTSI', 'VTVT', 'VTWG', 'VTWO', 'VTWV', 'VTYX', 'VUZI', 'VVOS', 'VVPR', 'VWE', 'VWEWW', 'VWOB', 'VXRT', 'VXUS', 'VYGR', 'VYMI', 'VYNE', 'VYNT', 'WABC', 'WAFD', 'WAFDP', 'WAFU', 'WALD', 'WALDW', 'WASH', 'WATT', 'WAVD', 'WAVE', 'WAVS', 'WAVSU', 'WAVSW', 'WB', 'WBA', 'WBD', 'WBND', 'WCBR', 'WCLD', 'WDAY', 'WDC', 'WDFC', 'WEJO', 'WEJOW', 'WEN', 'WERN', 'WEST', 'WESTW', 'WETG', 'WEYS', 'WFCF', 'WFRD', 'WGMI', 'WGRO', 'WGS', 'WGSWW', 'WHF', 'WHLM', 'WHLR', 'WHLRD', 'WHLRL', 'WHLRP', 'WILC', 'WIMI', 'WINA', 'WINC', 'WING', 'WINT', 'WINV', 'WINVR', 'WINVU', 'WINVW', 'WIRE', 'WISA', 'WISH', 'WIX', 'WIZ', 'WKEY', 'WKHS', 'WKME', 'WKSP', 'WKSPW', 'WLDN', 'WLDS', 'WLDSW', 'WLFC', 'WMG', 'WMPN', 'WNDY', 'WNEB', 'WNW', 'WOOD', 'WOOF', 'WORX', 'WPRT', 'WRAP', 'WRLD', 'WRND', 'WSBC', 'WSBCP', 'WSBF', 'WSC', 'WSFS', 'WTBA', 'WTER', 'WTFC', 'WTFCM', 'WTFCP', 'WTMA', 'WTMAR', 'WTMAU', 'WTW', 'WULF', 'WVE', 'WVVI', 'WVVIP', 'WW', 'WWAC', 'WWACU', 'WWACW', 'WWD', 'WYNN', 'XAIR', 'XBIO', 'XBIOW', 'XBIT', 'XCUR', 'XDNA', 'XEL', 'XELA', 'XELAP', 'XELB', 'XENE', 'XERS', 'XFIN', 'XFINU', 'XFINW', 'XFOR', 'XGN', 'XLO', 'XM', 'XMTR', 'XNCR', 'XNET', 'XOMA', 'XOMAO', 'XOMAP', 'XOS', 'XOSWW', 'XP', 'XPAX', 'XPAXU', 'XPAXW', 'XPDB', 'XPDBU', 'XPDBW', 'XPEL', 'XPON', 'XRAY', 'XRTX', 'XRX', 'XT', 'XTLB', 'XWEL', 'XXII', 'YELL', 'YGMZ', 'YI', 'YJ', 'YLDE', 'YMAB', 'YNDX', 'YORW', 'YOSH', 'YOTA', 'YOTAR', 'YOTAU', 'YOTAW', 'YQ', 'YTEN', 'YTRA', 'YVR', 'YY', 'Z', 'ZAZZT', 'ZBRA', 'ZBZZT', 'ZCMD', 'ZCZZT', 'ZD', 'ZENV', 'ZEST', 'ZEUS', 'ZFOX', 'ZFOXW', 'ZG', 'ZGEN', 'ZI', 'ZIMV', 'ZING', 'ZINGU', 'ZINGW', 'ZION', 'ZIONL', 'ZIONO', 'ZIONP', 'ZIVO', 'ZIVOW', 'ZJZZT', 'ZKIN', 'ZLAB', 'ZM', 'ZNTL', 'ZS', 'ZT', 'ZTAQU', 'ZTAQW', 'ZTEK', 'ZUMZ', 'ZVSA', 'ZVZZC', 'ZVZZT', 'ZWZZT', 'ZXYZ.A', 'ZXZZT', 'ZYME', 'ZYNE', 'ZYXI', 'File Creation Time: 0110202310:01']\n"
     ]
    }
   ],
   "source": [
    "runAll(N)"
   ],
   "metadata": {
    "collapsed": false,
    "pycharm": {
     "name": "#%%\n"
    }
   }
  }
 ],
 "metadata": {
  "kernelspec": {
   "display_name": "Python 3",
   "language": "python",
   "name": "python3"
  },
  "language_info": {
   "codemirror_mode": {
    "name": "ipython",
    "version": 2
   },
   "file_extension": ".py",
   "mimetype": "text/x-python",
   "name": "python",
   "nbconvert_exporter": "python",
   "pygments_lexer": "ipython2",
   "version": "2.7.6"
  }
 },
 "nbformat": 4,
 "nbformat_minor": 0
}